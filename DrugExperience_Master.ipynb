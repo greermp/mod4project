{
 "cells": [
  {
   "cell_type": "markdown",
   "metadata": {},
   "source": [
    "# Starter Code for Drug Experience Team Project"
   ]
  },
  {
   "cell_type": "markdown",
   "metadata": {},
   "source": [
    "In this notebook, we build two machine learning models to predict the severity of a medication. The target variable is a binary variable. We first build a gradient boosting machine. Then we build a LSTM classifier. We use each one of the two models to create the submission files for Kaggle.  "
   ]
  },
  {
   "cell_type": "code",
   "execution_count": 1,
   "metadata": {},
   "outputs": [],
   "source": [
    "# Import packages:\n",
    "\n",
    "import os \n",
    "import sys\n",
    "import pandas as pd\n",
    "import numpy as np\n",
    "import matplotlib.pyplot as plt\n",
    "import seaborn as sns\n",
    "from tqdm import tqdm\n",
    "\n",
    "# sklearn imports:\n",
    "import sklearn\n",
    "from sklearn import tree\n",
    "from sklearn.metrics import * \n",
    "from sklearn.model_selection import train_test_split\n",
    "from sklearn.preprocessing import LabelEncoder\n",
    "from sklearn.ensemble import GradientBoostingClassifier\n",
    "from sklearn.tree import DecisionTreeClassifier \n",
    "from sklearn.feature_extraction.text import CountVectorizer\n",
    "from sklearn.feature_extraction.text import TfidfVectorizer\n",
    "\n",
    "# tensorflow imports:\n",
    "import tensorflow as tf\n",
    "from tensorflow import keras\n",
    "from tensorflow.keras import losses\n",
    "from tensorflow.keras import layers\n",
    "from tensorflow.keras.layers.experimental import preprocessing\n",
    "\n",
    "# keras imports:\n",
    "from keras.models import Model\n",
    "from keras.layers import LSTM, Activation, Dense, Dropout, Input, Embedding\n",
    "from keras.optimizers import RMSprop\n",
    "from keras.preprocessing.text import Tokenizer\n",
    "from keras.preprocessing import sequence\n",
    "from keras.utils import to_categorical\n",
    "from keras.callbacks import EarlyStopping\n",
    "from keras.models import Sequential\n",
    "from keras import layers\n",
    "from keras.backend import clear_session\n",
    "\n",
    "# import and load spaCy:\n",
    "import spacy\n",
    "from spacy.lang.en.stop_words import STOP_WORDS\n",
    "from spacy.lang.en import English\n",
    "from spacy import displacy\n",
    "# spacy.cli.download(\"en_core_web_sm\")\n",
    "nlp = spacy.load('en_core_web_sm') \n",
    "\n",
    "%matplotlib inline\n",
    "plt.rcParams['figure.figsize'] = (5, 5)"
   ]
  },
  {
   "cell_type": "markdown",
   "metadata": {},
   "source": [
    "## 1. Read the Data Files"
   ]
  },
  {
   "cell_type": "markdown",
   "metadata": {},
   "source": [
    "Let's go ahead and read the data file:"
   ]
  },
  {
   "cell_type": "code",
   "execution_count": 2,
   "metadata": {},
   "outputs": [
    {
     "output_type": "execute_result",
     "data": {
      "text/plain": [
       "   label                                               text\n",
       "0     -1  Schizophrenia Only been on it one day. I took ...\n",
       "1     -1  Cancer drug arimidex gave me osteoporosis Took...\n",
       "2     -1  Osteoporosis Dysphagia (inability to swallow)....\n",
       "3     -1  Ostoclerosis Took it at 630 am by 230pm receiv...\n",
       "4     -1  Osteopenia My limbs feel like I have weights t..."
      ],
      "text/html": "<div>\n<style scoped>\n    .dataframe tbody tr th:only-of-type {\n        vertical-align: middle;\n    }\n\n    .dataframe tbody tr th {\n        vertical-align: top;\n    }\n\n    .dataframe thead th {\n        text-align: right;\n    }\n</style>\n<table border=\"1\" class=\"dataframe\">\n  <thead>\n    <tr style=\"text-align: right;\">\n      <th></th>\n      <th>label</th>\n      <th>text</th>\n    </tr>\n  </thead>\n  <tbody>\n    <tr>\n      <th>0</th>\n      <td>-1</td>\n      <td>Schizophrenia Only been on it one day. I took ...</td>\n    </tr>\n    <tr>\n      <th>1</th>\n      <td>-1</td>\n      <td>Cancer drug arimidex gave me osteoporosis Took...</td>\n    </tr>\n    <tr>\n      <th>2</th>\n      <td>-1</td>\n      <td>Osteoporosis Dysphagia (inability to swallow)....</td>\n    </tr>\n    <tr>\n      <th>3</th>\n      <td>-1</td>\n      <td>Ostoclerosis Took it at 630 am by 230pm receiv...</td>\n    </tr>\n    <tr>\n      <th>4</th>\n      <td>-1</td>\n      <td>Osteopenia My limbs feel like I have weights t...</td>\n    </tr>\n  </tbody>\n</table>\n</div>"
     },
     "metadata": {},
     "execution_count": 2
    }
   ],
   "source": [
    "df = pd.read_csv('data/orig_DrugExp_Text.csv', sep='|')\n",
    "df.head()"
   ]
  },
  {
   "cell_type": "markdown",
   "metadata": {},
   "source": [
    "By looking at the shape of the data file, we realize that we have 9523 samples and two columns:"
   ]
  },
  {
   "cell_type": "code",
   "execution_count": 3,
   "metadata": {},
   "outputs": [
    {
     "output_type": "execute_result",
     "data": {
      "text/plain": [
       "(9523, 2)"
      ]
     },
     "metadata": {},
     "execution_count": 3
    }
   ],
   "source": [
    "df.shape"
   ]
  },
  {
   "cell_type": "markdown",
   "metadata": {},
   "source": [
    "The target variable is a binary variable called label, which has two possible values: -1 for negative experience and 1 for positive experience: "
   ]
  },
  {
   "cell_type": "code",
   "execution_count": 4,
   "metadata": {},
   "outputs": [
    {
     "output_type": "execute_result",
     "data": {
      "text/plain": [
       "-1    5072\n",
       " 1    4451\n",
       "Name: label, dtype: int64"
      ]
     },
     "metadata": {},
     "execution_count": 4
    }
   ],
   "source": [
    "df.label.value_counts()"
   ]
  },
  {
   "cell_type": "markdown",
   "metadata": {},
   "source": [
    "## 2. Pre-processing"
   ]
  },
  {
   "cell_type": "markdown",
   "metadata": {},
   "source": [
    "As we discussed previously, we have to pre-process our text data before using them in a machine learning model. So we use the powerful package spaCy to tokenize, lemmatize, remove stop words, and keep alphabetical characters:"
   ]
  },
  {
   "cell_type": "code",
   "execution_count": 5,
   "metadata": {},
   "outputs": [
    {
     "output_type": "stream",
     "name": "stderr",
     "text": [
      "/home/greermp/.local/lib/python3.8/site-packages/tqdm/std.py:702: FutureWarning: The Panel class is removed from pandas. Accessing it from the top-level namespace will also be removed in the next version\n",
      "  from pandas import Panel\n",
      "100%|██████████| 9523/9523 [01:57<00:00, 80.97it/s]\n"
     ]
    }
   ],
   "source": [
    "tqdm.pandas()\n",
    "df['text'] = df.text.progress_apply(lambda text: \n",
    "                                          \" \".join(token.lemma_ for token in nlp(text) \n",
    "                                                   if not token.is_stop and token.is_alpha))"
   ]
  },
  {
   "cell_type": "markdown",
   "metadata": {},
   "source": [
    "In the cell above, we replaced the original text data with the new text data. The data looks pretty similar, but the only difference is that the new data has the pre-processed text:"
   ]
  },
  {
   "cell_type": "code",
   "execution_count": 6,
   "metadata": {},
   "outputs": [
    {
     "output_type": "execute_result",
     "data": {
      "text/plain": [
       "   label                                               text\n",
       "0     -1  Schizophrenia day take morning direct sleep da...\n",
       "1     -1  cancer drug arimidex give osteoporosis Took ac...\n",
       "2     -1  Osteoporosis Dysphagia inability swallow sever...\n",
       "3     -1  Ostoclerosis take receive sharp pain rt hip la...\n",
       "4     -1  Osteopenia limb feel like weight tie fever chi..."
      ],
      "text/html": "<div>\n<style scoped>\n    .dataframe tbody tr th:only-of-type {\n        vertical-align: middle;\n    }\n\n    .dataframe tbody tr th {\n        vertical-align: top;\n    }\n\n    .dataframe thead th {\n        text-align: right;\n    }\n</style>\n<table border=\"1\" class=\"dataframe\">\n  <thead>\n    <tr style=\"text-align: right;\">\n      <th></th>\n      <th>label</th>\n      <th>text</th>\n    </tr>\n  </thead>\n  <tbody>\n    <tr>\n      <th>0</th>\n      <td>-1</td>\n      <td>Schizophrenia day take morning direct sleep da...</td>\n    </tr>\n    <tr>\n      <th>1</th>\n      <td>-1</td>\n      <td>cancer drug arimidex give osteoporosis Took ac...</td>\n    </tr>\n    <tr>\n      <th>2</th>\n      <td>-1</td>\n      <td>Osteoporosis Dysphagia inability swallow sever...</td>\n    </tr>\n    <tr>\n      <th>3</th>\n      <td>-1</td>\n      <td>Ostoclerosis take receive sharp pain rt hip la...</td>\n    </tr>\n    <tr>\n      <th>4</th>\n      <td>-1</td>\n      <td>Osteopenia limb feel like weight tie fever chi...</td>\n    </tr>\n  </tbody>\n</table>\n</div>"
     },
     "metadata": {},
     "execution_count": 6
    }
   ],
   "source": [
    "df.head()"
   ]
  },
  {
   "cell_type": "markdown",
   "metadata": {},
   "source": [
    "Given that pre-processing the text is a time-consuming process, we can save the cleaned data for later use:"
   ]
  },
  {
   "cell_type": "code",
   "execution_count": 7,
   "metadata": {},
   "outputs": [],
   "source": [
    "# Save the file with pre-processed text for later use:\n",
    "\n",
    "df.to_csv('data/orig_DrugExp_Text_Clean.csv', sep='|', index=False)"
   ]
  },
  {
   "cell_type": "markdown",
   "metadata": {},
   "source": [
    "**The next time we start the notebook, we can read this data file instead of the original data file:**"
   ]
  },
  {
   "cell_type": "code",
   "execution_count": 8,
   "metadata": {},
   "outputs": [],
   "source": [
    "df = pd.read_csv(\"data/orig_DrugExp_Text_Clean.csv\", sep = \"|\")"
   ]
  },
  {
   "cell_type": "code",
   "execution_count": 9,
   "metadata": {},
   "outputs": [
    {
     "output_type": "execute_result",
     "data": {
      "text/plain": [
       "   label                                               text\n",
       "0     -1  Schizophrenia day take morning direct sleep da...\n",
       "1     -1  cancer drug arimidex give osteoporosis Took ac...\n",
       "2     -1  Osteoporosis Dysphagia inability swallow sever...\n",
       "3     -1  Ostoclerosis take receive sharp pain rt hip la...\n",
       "4     -1  Osteopenia limb feel like weight tie fever chi..."
      ],
      "text/html": "<div>\n<style scoped>\n    .dataframe tbody tr th:only-of-type {\n        vertical-align: middle;\n    }\n\n    .dataframe tbody tr th {\n        vertical-align: top;\n    }\n\n    .dataframe thead th {\n        text-align: right;\n    }\n</style>\n<table border=\"1\" class=\"dataframe\">\n  <thead>\n    <tr style=\"text-align: right;\">\n      <th></th>\n      <th>label</th>\n      <th>text</th>\n    </tr>\n  </thead>\n  <tbody>\n    <tr>\n      <th>0</th>\n      <td>-1</td>\n      <td>Schizophrenia day take morning direct sleep da...</td>\n    </tr>\n    <tr>\n      <th>1</th>\n      <td>-1</td>\n      <td>cancer drug arimidex give osteoporosis Took ac...</td>\n    </tr>\n    <tr>\n      <th>2</th>\n      <td>-1</td>\n      <td>Osteoporosis Dysphagia inability swallow sever...</td>\n    </tr>\n    <tr>\n      <th>3</th>\n      <td>-1</td>\n      <td>Ostoclerosis take receive sharp pain rt hip la...</td>\n    </tr>\n    <tr>\n      <th>4</th>\n      <td>-1</td>\n      <td>Osteopenia limb feel like weight tie fever chi...</td>\n    </tr>\n  </tbody>\n</table>\n</div>"
     },
     "metadata": {},
     "execution_count": 9
    }
   ],
   "source": [
    "df.head()"
   ]
  },
  {
   "cell_type": "markdown",
   "metadata": {},
   "source": [
    "## 3. Vectorization"
   ]
  },
  {
   "cell_type": "markdown",
   "metadata": {},
   "source": [
    "We can now use CountVectorizer or TfidfVectorizer to create the document-term-matrix (DTM):"
   ]
  },
  {
   "cell_type": "code",
   "execution_count": 10,
   "metadata": {},
   "outputs": [],
   "source": [
    "# vectorizer = CountVectorizer(min_df=10)\n",
    "vectorizer = TfidfVectorizer(min_df=10, \n",
    "                             ngram_range=(1,2) # We use both unigrams and bigrams\n",
    "                            )\n",
    "x = vectorizer.fit_transform(df.text)"
   ]
  },
  {
   "cell_type": "code",
   "execution_count": 32,
   "metadata": {},
   "outputs": [
    {
     "output_type": "execute_result",
     "data": {
      "text/plain": [
       "6804"
      ]
     },
     "metadata": {},
     "execution_count": 32
    }
   ],
   "source": [
    "len(vectorizer.vocabulary_)"
   ]
  },
  {
   "cell_type": "code",
   "execution_count": 29,
   "metadata": {},
   "outputs": [
    {
     "output_type": "execute_result",
     "data": {
      "text/plain": [
       "{'schizophrenia': 5149,\n",
       " 'day': 1174,\n",
       " 'take': 5810,\n",
       " 'morning': 3979,\n",
       " 'direct': 1487,\n",
       " 'sleep': 5381,\n",
       " 'till': 6084,\n",
       " 'go': 2530,\n",
       " 'fall': 2112,\n",
       " 'wall': 6457,\n",
       " 'thought': 6062,\n",
       " 'get': 2468,\n",
       " 'feel': 2166,\n",
       " 'like': 3406,\n",
       " 'drunk': 1752,\n",
       " 'alcohol': 149,\n",
       " 'hit': 2881,\n",
       " 'head': 2737,\n",
       " 'walk': 6453,\n",
       " 'straight': 5658,\n",
       " 'sit': 5358,\n",
       " 'lie': 3368,\n",
       " 'room': 5099,\n",
       " 'vertigo': 6406,\n",
       " 'tell': 5938,\n",
       " 'dr': 1631,\n",
       " 'stop': 5619,\n",
       " 'appt': 285,\n",
       " 'effect': 1801,\n",
       " 'day take': 1276,\n",
       " 'take morning': 5875,\n",
       " 'sleep day': 5383,\n",
       " 'feel like': 2205,\n",
       " 'like drunk': 3421,\n",
       " 'walk straight': 6455,\n",
       " 'stop take': 5650,\n",
       " 'cancer': 716,\n",
       " 'drug': 1675,\n",
       " 'give': 2509,\n",
       " 'osteoporosis': 4294,\n",
       " 'actonel': 67,\n",
       " 'bone': 605,\n",
       " 'specialist': 5493,\n",
       " 'expect': 2023,\n",
       " 'acid': 50,\n",
       " 'reflux': 4974,\n",
       " 'hour': 2940,\n",
       " 'pill': 4608,\n",
       " 'wake': 6443,\n",
       " 'night': 4135,\n",
       " 'shiver': 5273,\n",
       " 'ache': 42,\n",
       " 'especially': 1978,\n",
       " 'upper': 6331,\n",
       " 'leg': 3343,\n",
       " 'nausea': 4056,\n",
       " 'phone': 4596,\n",
       " 'gp': 2611,\n",
       " 'advice': 115,\n",
       " 'scared': 5145,\n",
       " 'step': 5595,\n",
       " 'nt': 4191,\n",
       " 'carry': 731,\n",
       " 'oral': 4281,\n",
       " 'injection': 3103,\n",
       " 'know': 3256,\n",
       " 'different': 1466,\n",
       " 'choice': 795,\n",
       " 'terrible': 5972,\n",
       " 'make': 3653,\n",
       " 'chemo': 781,\n",
       " 'slow': 5427,\n",
       " 'release': 5001,\n",
       " 'capsule': 719,\n",
       " 'continue': 989,\n",
       " 'bad': 384,\n",
       " 'mean': 3697,\n",
       " 'week': 6512,\n",
       " 'start': 5539,\n",
       " 'slightly': 5425,\n",
       " 'well': 6575,\n",
       " 'dose': 1607,\n",
       " 'suppose': 5728,\n",
       " 'heal': 2780,\n",
       " 'cause': 735,\n",
       " 'pain': 4328,\n",
       " 'acid reflux': 51,\n",
       " 'hour take': 2952,\n",
       " 'take pill': 5882,\n",
       " 'wake night': 6449,\n",
       " 'nt know': 4199,\n",
       " 'make feel': 3655,\n",
       " 'like go': 3431,\n",
       " 'effect continue': 1811,\n",
       " 'bad day': 391,\n",
       " 'week start': 6539,\n",
       " 'start feel': 5553,\n",
       " 'feel slightly': 2223,\n",
       " 'dose drug': 1610,\n",
       " 'drug suppose': 1732,\n",
       " 'cause pain': 746,\n",
       " 'inability': 3037,\n",
       " 'swallow': 5753,\n",
       " 'severe': 5212,\n",
       " 'heartburn': 2804,\n",
       " 'terrifying': 5981,\n",
       " 'lose': 3537,\n",
       " 'ability': 9,\n",
       " 'entire': 1954,\n",
       " 'life': 3369,\n",
       " 'chronic': 802,\n",
       " 'gerd': 2467,\n",
       " 'stuck': 5676,\n",
       " 'choke': 796,\n",
       " 'frequently': 2391,\n",
       " 'stuff': 5679,\n",
       " 'permanent': 4574,\n",
       " 'damage': 1162,\n",
       " 'take day': 5829,\n",
       " 'entire life': 1957,\n",
       " 'permanent damage': 4575,\n",
       " 'receive': 4935,\n",
       " 'sharp': 5265,\n",
       " 'hip': 2876,\n",
       " 'later': 3313,\n",
       " 'chill': 792,\n",
       " 'fever': 2247,\n",
       " 'call': 707,\n",
       " 'say': 5132,\n",
       " 'react': 4904,\n",
       " 'fast': 2129,\n",
       " 'symptom': 5780,\n",
       " 'er': 1966,\n",
       " 'extremely': 2080,\n",
       " 'high': 2863,\n",
       " 'blood': 570,\n",
       " 'pressure': 4745,\n",
       " 'think': 6021,\n",
       " 'have': 2706,\n",
       " 'heart': 2790,\n",
       " 'attack': 328,\n",
       " 'run': 5113,\n",
       " 'test': 5983,\n",
       " 'sure': 5734,\n",
       " 'ray': 4902,\n",
       " 'ct': 1124,\n",
       " 'scan': 5142,\n",
       " 'ekg': 1908,\n",
       " 'numerous': 4223,\n",
       " 'work': 6635,\n",
       " 'sore': 5473,\n",
       " 'throat': 6066,\n",
       " 'hope': 2895,\n",
       " 'away': 358,\n",
       " 'soon': 5466,\n",
       " 'useless': 6354,\n",
       " 'wish': 6613,\n",
       " 'see': 5175,\n",
       " 'bp': 629,\n",
       " 'finally': 2267,\n",
       " 'good': 2584,\n",
       " 'reading': 4917,\n",
       " 'read': 4909,\n",
       " 'review': 5067,\n",
       " 'sharp pain': 5266,\n",
       " 'later day': 3314,\n",
       " 'day feel': 1203,\n",
       " 'severe pain': 5235,\n",
       " 'call dr': 710,\n",
       " 'go er': 2548,\n",
       " 'high blood': 2864,\n",
       " 'blood pressure': 574,\n",
       " 'think have': 6036,\n",
       " 'have heart': 2714,\n",
       " 'heart attack': 2791,\n",
       " 'pain tell': 4424,\n",
       " 'ct scan': 1125,\n",
       " 'blood work': 578,\n",
       " 'pain sore': 4414,\n",
       " 'sore throat': 5477,\n",
       " 'hope go': 2898,\n",
       " 'go away': 2532,\n",
       " 'away soon': 365,\n",
       " 'finally get': 2272,\n",
       " 'get good': 2473,\n",
       " 'read review': 4915,\n",
       " 'drug wish': 1747,\n",
       " 'osteopenia': 4293,\n",
       " 'limb': 3473,\n",
       " 'weight': 6556,\n",
       " 'tie': 6077,\n",
       " 'sweat': 5755,\n",
       " 'headache': 2744,\n",
       " 'muscle': 4023,\n",
       " 'fever chill': 2248,\n",
       " 'headache muscle': 2765,\n",
       " 'muscle pain': 4028,\n",
       " 'spine': 5507,\n",
       " 'evening': 1987,\n",
       " 'flu': 2328,\n",
       " 'experience': 2026,\n",
       " 'spasm': 5487,\n",
       " 'literally': 3487,\n",
       " 'bed': 461,\n",
       " 'end': 1930,\n",
       " 'ambulance': 176,\n",
       " 'doctor': 1541,\n",
       " 'spend': 5500,\n",
       " 'rule': 5112,\n",
       " 'possible': 4686,\n",
       " 'problem': 4771,\n",
       " 'healthy': 2786,\n",
       " 'natural': 4053,\n",
       " 'treatment': 6206,\n",
       " 'option': 4280,\n",
       " 'increase': 3045,\n",
       " 'intake': 3142,\n",
       " 'calcium': 704,\n",
       " 'vitamin': 6422,\n",
       " 'supplement': 5725,\n",
       " 'diet': 1459,\n",
       " 'product': 4795,\n",
       " 'take dose': 5835,\n",
       " 'flu like': 2329,\n",
       " 'like symptom': 3460,\n",
       " 'experience bad': 2028,\n",
       " 'er doctor': 1967,\n",
       " 'spend day': 5501,\n",
       " 'experience like': 2038,\n",
       " 'vitamin supplement': 6423,\n",
       " 'diarrhea': 1439,\n",
       " 'last': 3303,\n",
       " 'wo': 6625,\n",
       " 'food': 2348,\n",
       " 'way': 6496,\n",
       " 'need': 4098,\n",
       " 'market': 3679,\n",
       " 'hear': 2788,\n",
       " 'positive': 4683,\n",
       " 'nausea diarrhea': 4061,\n",
       " 'last day': 3304,\n",
       " 'well way': 6587,\n",
       " 'drug need': 1719,\n",
       " 'need take': 4107,\n",
       " 'take market': 5868,\n",
       " 'yesterday': 6784,\n",
       " 'pm': 4663,\n",
       " 'horrible': 2913,\n",
       " 'joint': 3214,\n",
       " 'arm': 291,\n",
       " 'burn': 686,\n",
       " 'breast': 645,\n",
       " 'extreme': 2061,\n",
       " 'adrenaline': 106,\n",
       " 'rush': 5117,\n",
       " 'pin': 4641,\n",
       " 'needle': 4109,\n",
       " 'abdomen': 3,\n",
       " 'gas': 2449,\n",
       " 'sick': 5335,\n",
       " 'second': 5163,\n",
       " 'plan': 4650,\n",
       " 'unfortunately': 6315,\n",
       " 'long': 3519,\n",
       " 'medication': 3712,\n",
       " 'appetite': 263,\n",
       " 'energy': 1944,\n",
       " 'water': 6492,\n",
       " 'nauseous': 4082,\n",
       " 'year': 6726,\n",
       " 'half': 2666,\n",
       " 'ago': 133,\n",
       " 'experience horrible': 2035,\n",
       " 'joint pain': 3217,\n",
       " 'pain leg': 4382,\n",
       " 'leg arm': 3344,\n",
       " 'headache nausea': 2766,\n",
       " 'muscle spasm': 4032,\n",
       " 'pin needle': 4642,\n",
       " 'pain severe': 4409,\n",
       " 'pain feel': 4358,\n",
       " 'feel sick': 2220,\n",
       " 'call doctor': 709,\n",
       " 'long last': 3523,\n",
       " 'year half': 6746,\n",
       " 've': 6378,\n",
       " 'poison': 4672,\n",
       " 'severe joint': 5227,\n",
       " 'like ve': 3465,\n",
       " 'stomach': 5606,\n",
       " 'weakness': 6504,\n",
       " 'believe': 479,\n",
       " 'thankful': 5994,\n",
       " 'page': 4327,\n",
       " 'turn': 6266,\n",
       " 'fresh': 2392,\n",
       " 'explode': 2051,\n",
       " 'inflammatory': 3091,\n",
       " 'arthritis': 299,\n",
       " 'thank': 5991,\n",
       " 'lady': 3295,\n",
       " 'web': 6509,\n",
       " 'stomach pain': 5613,\n",
       " 'pain joint': 4376,\n",
       " 'pain weakness': 4428,\n",
       " 'go explode': 2549,\n",
       " 'mixed': 3901,\n",
       " 'brother': 668,\n",
       " 'depression': 1379,\n",
       " 'tired': 6151,\n",
       " 'rapid': 4888,\n",
       " 'rate': 4899,\n",
       " 'loss': 3554,\n",
       " 'alert': 151,\n",
       " 'brain': 632,\n",
       " 'fog': 2341,\n",
       " 'red': 4962,\n",
       " 'restless': 5052,\n",
       " 'kill': 3246,\n",
       " 'accident': 37,\n",
       " 'mix': 3900,\n",
       " 'medicine': 3739,\n",
       " 'little': 3491,\n",
       " 'adhd': 97,\n",
       " 'didn': 1444,\n",
       " 'realize': 4925,\n",
       " 'quit': 4870,\n",
       " 'lot': 3584,\n",
       " 'relaxer': 5000,\n",
       " 'neck': 4091,\n",
       " 'control': 1001,\n",
       " 'throw': 6070,\n",
       " 'badly': 435,\n",
       " 'travel': 6204,\n",
       " 'body': 591,\n",
       " 'definitely': 1330,\n",
       " 'child': 790,\n",
       " 'glad': 2525,\n",
       " 'time': 6085,\n",
       " 'god': 2577,\n",
       " 'ur': 6337,\n",
       " 'struggle': 5675,\n",
       " 'nt sleep': 4206,\n",
       " 'rapid heart': 4889,\n",
       " 'heart rate': 2802,\n",
       " 'loss appetite': 3557,\n",
       " 'brain fog': 633,\n",
       " 'stomach feel': 5611,\n",
       " 'joint muscle': 3216,\n",
       " 'long take': 3526,\n",
       " 'heart go': 2795,\n",
       " 'didn realize': 1452,\n",
       " 'muscle relaxer': 4030,\n",
       " 'tell start': 5947,\n",
       " 'extreme pain': 2074,\n",
       " 'take long': 5865,\n",
       " 'long time': 3528,\n",
       " 'edema': 1798,\n",
       " 'foot': 2352,\n",
       " 'fatigue': 2134,\n",
       " 'pound': 4702,\n",
       " 'panic': 4445,\n",
       " 'anxiety': 213,\n",
       " 'chest': 783,\n",
       " 'racing': 4878,\n",
       " 'pulse': 4851,\n",
       " 'try': 6231,\n",
       " 'immediately': 3015,\n",
       " 'skip': 5378,\n",
       " 'beat': 457,\n",
       " 'doc': 1536,\n",
       " 'wean': 6506,\n",
       " 'mg': 3797,\n",
       " 'tab': 5805,\n",
       " 'thing': 6003,\n",
       " 'happen': 2683,\n",
       " 'raise': 4884,\n",
       " 'race': 4876,\n",
       " 'flutter': 2337,\n",
       " 'palpitation': 4444,\n",
       " 'find': 2276,\n",
       " 'help': 2820,\n",
       " 'reaction': 4906,\n",
       " 'careful': 728,\n",
       " 'point': 4669,\n",
       " 'swear': 5754,\n",
       " 'die': 1456,\n",
       " 'horrible effect': 2917,\n",
       " 'panic anxiety': 4446,\n",
       " 'anxiety attack': 214,\n",
       " 'chest pain': 785,\n",
       " 'try time': 6254,\n",
       " 'heart racing': 2801,\n",
       " 'take mg': 5872,\n",
       " 'mg tab': 3819,\n",
       " 'day day': 1187,\n",
       " 'day go': 1212,\n",
       " 'go mg': 2558,\n",
       " 'day thing': 1278,\n",
       " 'thing happen': 6011,\n",
       " 'heart race': 2800,\n",
       " 'find help': 2283,\n",
       " 'time try': 6130,\n",
       " 'study': 5678,\n",
       " 'college': 870,\n",
       " 'exam': 2003,\n",
       " 'girlfriend': 2508,\n",
       " 'hrs': 2957,\n",
       " 'order': 4284,\n",
       " 'eat': 1778,\n",
       " 'egg': 1905,\n",
       " 'dosage': 1604,\n",
       " 'nap': 4041,\n",
       " 'early': 1769,\n",
       " 'afternoon': 123,\n",
       " 'hr': 2956,\n",
       " 'check': 776,\n",
       " 'min': 3871,\n",
       " 'respond': 5045,\n",
       " 'catch': 734,\n",
       " 'breath': 654,\n",
       " 'talk': 5912,\n",
       " 'keep': 3230,\n",
       " 'asleep': 313,\n",
       " 'manage': 3668,\n",
       " 'awake': 352,\n",
       " 'ready': 4918,\n",
       " 'shortly': 5286,\n",
       " 'rest': 5048,\n",
       " 'want': 6459,\n",
       " 'concerned': 937,\n",
       " 'nan': 4040,\n",
       " 'sleep night': 5398,\n",
       " 'night day': 4137,\n",
       " 'day nt': 1254,\n",
       " 'nt eat': 4194,\n",
       " 'high bp': 2865,\n",
       " 'fall asleep': 2113,\n",
       " 'rest day': 5049,\n",
       " 'day want': 1290,\n",
       " 'adult': 107,\n",
       " 'space': 5484,\n",
       " 'dry': 1753,\n",
       " 'mouth': 3994,\n",
       " 'adderall': 82,\n",
       " 'prescribe': 4733,\n",
       " 'advise': 117,\n",
       " 'waking': 6452,\n",
       " 'noon': 4163,\n",
       " 'far': 2120,\n",
       " 'short': 5280,\n",
       " 'period': 4513,\n",
       " 'normally': 4173,\n",
       " 'able': 12,\n",
       " 'focus': 2339,\n",
       " 'bit': 521,\n",
       " 'noticable': 4178,\n",
       " 'patient': 4474,\n",
       " 'nurse': 4224,\n",
       " 'hard': 2691,\n",
       " 'candy': 717,\n",
       " 'right': 5075,\n",
       " 'hopeful': 2903,\n",
       " 'home': 2888,\n",
       " 'partner': 4463,\n",
       " 'allow': 162,\n",
       " 'urge': 6338,\n",
       " 'come': 882,\n",
       " 'inform': 3094,\n",
       " 'psychiatrist': 4841,\n",
       " 'people': 4493,\n",
       " 'let': 3358,\n",
       " 'concern': 936,\n",
       " 'honest': 2891,\n",
       " 'opinion': 4275,\n",
       " 'free': 2384,\n",
       " 'contact': 982,\n",
       " 'new': 4126,\n",
       " 'curious': 1130,\n",
       " 'adult adhd': 109,\n",
       " 'dry mouth': 1756,\n",
       " 'mouth day': 3998,\n",
       " 'prescribe mg': 4738,\n",
       " 'effect bad': 1806,\n",
       " 'short period': 5282,\n",
       " 'period time': 4562,\n",
       " 'time feel': 6096,\n",
       " 'able focus': 15,\n",
       " 'little bit': 3492,\n",
       " 'short time': 5285,\n",
       " 'right away': 5077,\n",
       " 'think people': 6043,\n",
       " 'feel free': 2190,\n",
       " 'take adderall': 5811,\n",
       " 'insomnia': 3119,\n",
       " 'love': 3594,\n",
       " 'easily': 1775,\n",
       " 'abuse': 33,\n",
       " 'site': 5359,\n",
       " 'useful': 6353,\n",
       " 'info': 3093,\n",
       " 'www': 6716,\n",
       " 'com': 874,\n",
       " 'stuff work': 5680,\n",
       " 'find site': 2287,\n",
       " 'experiment': 2049,\n",
       " 'eye': 2090,\n",
       " 'smoke': 5440,\n",
       " 'alot': 163,\n",
       " 'movement': 4013,\n",
       " 'vision': 6414,\n",
       " 'sensitive': 5193,\n",
       " 'sight': 5343,\n",
       " 'piss': 4644,\n",
       " 'ask': 308,\n",
       " 'buy': 696,\n",
       " 'talkative': 5915,\n",
       " 'friend': 2394,\n",
       " 'easy': 1776,\n",
       " 'drive': 1657,\n",
       " 'car': 720,\n",
       " 'beginning': 477,\n",
       " 'weak': 6501,\n",
       " 'wasn': 6486,\n",
       " 'bag': 436,\n",
       " 'lack': 3286,\n",
       " 'fine': 2293,\n",
       " 'school': 5150,\n",
       " 'less': 3356,\n",
       " 'form': 2367,\n",
       " 'speed': 5497,\n",
       " 'highly': 2873,\n",
       " 'pretty': 4747,\n",
       " 'fun': 2403,\n",
       " 'loss sleep': 3580,\n",
       " 'sleep loss': 5396,\n",
       " 'mg day': 3802,\n",
       " 'drive car': 1658,\n",
       " 'go pill': 2565,\n",
       " 'pill feel': 4616,\n",
       " 'like effect': 3423,\n",
       " 'wasn bad': 6487,\n",
       " 'bad thing': 429,\n",
       " 'like sleep': 3457,\n",
       " 'sleep get': 5388,\n",
       " 'lack sleep': 3294,\n",
       " 'sleep feel': 5387,\n",
       " 'feel fine': 2189,\n",
       " 'fine day': 2294,\n",
       " 'day help': 1220,\n",
       " 'condition': 942,\n",
       " 'constant': 962,\n",
       " 'probably': 4768,\n",
       " 'low': 3602,\n",
       " 'ton': 6174,\n",
       " 'constantly': 972,\n",
       " 'pass': 4465,\n",
       " 'dizzy': 1533,\n",
       " 'stable': 5530,\n",
       " 'miracle': 3886,\n",
       " 'issue': 3188,\n",
       " 'difference': 1465,\n",
       " 'behavior': 478,\n",
       " 'finger': 2296,\n",
       " 'cross': 1113,\n",
       " 'health': 2782,\n",
       " 'diagnose': 1431,\n",
       " 'mouth loss': 4005,\n",
       " 'extremely low': 2084,\n",
       " 'low blood': 3605,\n",
       " 'pill help': 4621,\n",
       " 'finger cross': 2297,\n",
       " 'continue work': 993,\n",
       " 'work day': 6638,\n",
       " 'day far': 1202,\n",
       " 'far good': 2125,\n",
       " 'mid': 3832,\n",
       " 'term': 5968,\n",
       " 'surprisingly': 5750,\n",
       " 'enjoy': 1949,\n",
       " 'history': 2879,\n",
       " 'book': 613,\n",
       " 'twice': 6268,\n",
       " 'write': 6713,\n",
       " 'answer': 201,\n",
       " 'practice': 4715,\n",
       " 'question': 4865,\n",
       " 'note': 4177,\n",
       " 'multiple': 4019,\n",
       " 'notice': 4179,\n",
       " 'upset': 6335,\n",
       " 'halfway': 2673,\n",
       " 'stay': 5585,\n",
       " 'exhausted': 2019,\n",
       " 'hurt': 2971,\n",
       " 'hunger': 2967,\n",
       " 'cramp': 1071,\n",
       " 'overall': 4308,\n",
       " 'worth': 6701,\n",
       " 'incredibly': 3066,\n",
       " 'help focus': 2831,\n",
       " 'multiple time': 4021,\n",
       " 'upset stomach': 6336,\n",
       " 'night take': 4149,\n",
       " 'feel exhausted': 2186,\n",
       " 'extremely bad': 2081,\n",
       " 'go pass': 2563,\n",
       " 'know need': 3272,\n",
       " 'need eat': 4100,\n",
       " 'eat feel': 1784,\n",
       " 'feel little': 2206,\n",
       " 'little well': 3501,\n",
       " 'difficulty': 1475,\n",
       " 'thinking': 6056,\n",
       " 'hungry': 2968,\n",
       " 'bother': 618,\n",
       " 'paper': 4452,\n",
       " 'tonight': 6178,\n",
       " 'difficult': 1474,\n",
       " 'consume': 980,\n",
       " 'difficulty sleep': 1478,\n",
       " 'early day': 1770,\n",
       " 'section': 5172,\n",
       " 'administer': 102,\n",
       " 'iv': 3197,\n",
       " 'surgery': 5746,\n",
       " 'suggest': 5709,\n",
       " 'open': 4271,\n",
       " 'feeling': 2236,\n",
       " 'breathe': 655,\n",
       " 'couldn': 1048,\n",
       " 'baby': 375,\n",
       " 'use': 6348,\n",
       " 'mother': 3988,\n",
       " 'afraid': 122,\n",
       " 'truly': 6227,\n",
       " 'wear': 6507,\n",
       " 'groggy': 2639,\n",
       " 'recommend': 4945,\n",
       " 'vomit': 6428,\n",
       " 'new medication': 4130,\n",
       " 'give medication': 2520,\n",
       " 'eye open': 2092,\n",
       " 'time wake': 6132,\n",
       " 'wake sleep': 6450,\n",
       " 'feeling like': 2242,\n",
       " 'like stop': 3459,\n",
       " 'stop breathe': 5622,\n",
       " 'take hour': 5854,\n",
       " 'feel groggy': 2194,\n",
       " 'definitely recommend': 1332,\n",
       " 'recommend medication': 4949,\n",
       " 'like die': 3417,\n",
       " 'dizziness': 1525,\n",
       " 'count': 1055,\n",
       " 'hate': 2702,\n",
       " 'strange': 5660,\n",
       " 'stay awake': 5587,\n",
       " 'headache dizziness': 2751,\n",
       " 'dizziness anxiety': 1526,\n",
       " 'anxiety bad': 215,\n",
       " 'feeling bad': 2237,\n",
       " 'bad headache': 404,\n",
       " 'headache take': 2772,\n",
       " 'body feel': 595,\n",
       " 'feel strange': 2224,\n",
       " 'inner': 3113,\n",
       " 'ear': 1767,\n",
       " 'knock': 3255,\n",
       " 'flat': 2320,\n",
       " 'float': 2324,\n",
       " 'med': 3700,\n",
       " 'virus': 6413,\n",
       " 'left': 3340,\n",
       " 'discontinue': 1501,\n",
       " 'awful': 372,\n",
       " 'function': 2404,\n",
       " 'way bad': 6497,\n",
       " 'dose feel': 1613,\n",
       " 'hour dose': 2943,\n",
       " 'doc tell': 1540,\n",
       " 'discontinue use': 1502,\n",
       " 'non': 4160,\n",
       " 'nauseate': 4081,\n",
       " 'nighttime': 4155,\n",
       " 'don': 1582,\n",
       " 'll': 3513,\n",
       " 'live': 3503,\n",
       " 'take work': 5908,\n",
       " 'work think': 6675,\n",
       " 'don think': 1596,\n",
       " 'think work': 6055,\n",
       " 'extreme dizziness': 2065,\n",
       " 'dizziness nausea': 1530,\n",
       " 'spin': 5504,\n",
       " 'trade': 6196,\n",
       " 'stumble': 5683,\n",
       " 'day stop': 1271,\n",
       " 'take medicine': 5871,\n",
       " 'tired sleep': 6156,\n",
       " 'mild': 3855,\n",
       " 'memory': 3757,\n",
       " 'length': 3353,\n",
       " 'functional': 2407,\n",
       " 'switch': 5775,\n",
       " 'flip': 2323,\n",
       " 'psychotic': 4844,\n",
       " 'personality': 4584,\n",
       " 'bladder': 530,\n",
       " 'speech': 5496,\n",
       " 'agitation': 132,\n",
       " 'number': 4217,\n",
       " 'color': 873,\n",
       " 'fire': 2306,\n",
       " 'house': 2955,\n",
       " 'electrical': 1913,\n",
       " 'handle': 2680,\n",
       " 'account': 41,\n",
       " 'unable': 6291,\n",
       " 'change': 767,\n",
       " 'aggressive': 129,\n",
       " 'scatter': 5147,\n",
       " 'onset': 4269,\n",
       " 'repeat': 5026,\n",
       " 'understand': 6307,\n",
       " 'similar': 5349,\n",
       " 'length time': 3354,\n",
       " 'dementia': 1342,\n",
       " 'aricept': 289,\n",
       " 'daughter': 1173,\n",
       " 'lunch': 3627,\n",
       " 'feed': 2163,\n",
       " 'mom': 3906,\n",
       " 'touch': 6189,\n",
       " 'cry': 1115,\n",
       " 'recognize': 4943,\n",
       " 'lessen': 3357,\n",
       " 'usual': 6356,\n",
       " 'lay': 3323,\n",
       " 'depressed': 1374,\n",
       " 'xanax': 6717,\n",
       " 'celexa': 756,\n",
       " 'scary': 5146,\n",
       " 'sorry': 5479,\n",
       " 'frightening': 2396,\n",
       " 'forgetful': 2365,\n",
       " 'effect drug': 1819,\n",
       " 'drug give': 1699,\n",
       " 'bed day': 462,\n",
       " 'medicine bad': 3740,\n",
       " 'bad effect': 396,\n",
       " 'effect hour': 1837,\n",
       " 'hour feel': 2944,\n",
       " 'people take': 4505,\n",
       " 'hope help': 2899,\n",
       " 'vivid': 6424,\n",
       " 'dream': 1648,\n",
       " 'vomiting': 6429,\n",
       " 'yr': 6788,\n",
       " 'old': 4259,\n",
       " 'man': 3667,\n",
       " 'great': 2622,\n",
       " 'shape': 5262,\n",
       " 'suffer': 5698,\n",
       " 'injury': 3112,\n",
       " 'past': 4467,\n",
       " 'sport': 5512,\n",
       " 'progressively': 4804,\n",
       " 'neurologist': 4124,\n",
       " 'mention': 3778,\n",
       " 'nightmare': 4154,\n",
       " 'aware': 355,\n",
       " 'usually': 6357,\n",
       " 'regard': 4977,\n",
       " 'memory loss': 3759,\n",
       " 'vivid dream': 6425,\n",
       " 'nausea vomiting': 4079,\n",
       " 'yr old': 6790,\n",
       " 'head injury': 2740,\n",
       " 'progressively bad': 4805,\n",
       " 'bad year': 434,\n",
       " 'mention effect': 3779,\n",
       " 'itching': 3191,\n",
       " 'allergy': 159,\n",
       " 'sleepy': 5413,\n",
       " 'mind': 3872,\n",
       " 'tremor': 6213,\n",
       " 'fatigued': 2153,\n",
       " 'barely': 442,\n",
       " 'motivation': 3991,\n",
       " 'stare': 5538,\n",
       " 'drool': 1669,\n",
       " 'isn': 3185,\n",
       " 'cure': 1129,\n",
       " 'body mind': 599,\n",
       " 'go sleep': 2567,\n",
       " 'sleep wake': 5405,\n",
       " 'short breath': 5281,\n",
       " 'far bad': 2121,\n",
       " 'bad symptom': 426,\n",
       " 'tachycardia': 5809,\n",
       " 'swell': 5761,\n",
       " 'skin': 5367,\n",
       " 'hot': 2936,\n",
       " 'face': 2097,\n",
       " 'steroid': 5597,\n",
       " 'benadryl': 483,\n",
       " 'counteract': 1057,\n",
       " 'dangerous': 1166,\n",
       " 'liquid': 3482,\n",
       " 'hand': 2675,\n",
       " 'recommend take': 4954,\n",
       " 'lupus': 3630,\n",
       " 'today': 6164,\n",
       " 'prednisone': 4718,\n",
       " 'rash': 4895,\n",
       " 'gum': 2648,\n",
       " 'episode': 1964,\n",
       " 'lightheade': 3403,\n",
       " 'confused': 948,\n",
       " 'word': 6634,\n",
       " 'death': 1303,\n",
       " 'wonder': 6628,\n",
       " 'kid': 3241,\n",
       " 'effect start': 1875,\n",
       " 'start medication': 5563,\n",
       " 'mouth sore': 4008,\n",
       " 'nausea fatigue': 4064,\n",
       " 'thing get': 6009,\n",
       " 'get well': 2499,\n",
       " 'work help': 6656,\n",
       " 'send': 5188,\n",
       " 'dad': 1153,\n",
       " 'hospital': 2930,\n",
       " 'confusion': 949,\n",
       " 'drowsy': 1673,\n",
       " 'neck pain': 4095,\n",
       " 'pain drug': 4352,\n",
       " 'day hospital': 1224,\n",
       " 'recommend drug': 4947,\n",
       " 'lethargic': 3361,\n",
       " 'temperature': 5953,\n",
       " 'cold': 862,\n",
       " 'cipro': 808,\n",
       " 'bacteria': 379,\n",
       " 'difficile': 1473,\n",
       " 'severe diarrhea': 5220,\n",
       " 'cold sweat': 866,\n",
       " 'uti': 6360,\n",
       " 'knee': 3252,\n",
       " 'culture': 1126,\n",
       " 'show': 5331,\n",
       " 'second dose': 5165,\n",
       " 'dose day': 1609,\n",
       " 'day later': 1232,\n",
       " 'infection': 3077,\n",
       " 'blister': 558,\n",
       " 'swollen': 5777,\n",
       " 'huge': 2961,\n",
       " 'thigh': 6000,\n",
       " 'recover': 4958,\n",
       " 'skin infection': 5374,\n",
       " 'infection severe': 3085,\n",
       " 'light': 3398,\n",
       " 'redness': 4966,\n",
       " 'bowel': 623,\n",
       " 'uti take': 6363,\n",
       " 'pill start': 4631,\n",
       " 'feel nauseous': 2210,\n",
       " 'light head': 3399,\n",
       " 'bowel movement': 624,\n",
       " 'second day': 5164,\n",
       " 'feel effect': 2185,\n",
       " 'intense': 3144,\n",
       " 'nausea bad': 4058,\n",
       " 'muscle cramp': 4025,\n",
       " 'foot hand': 2355,\n",
       " 'rage': 4883,\n",
       " 'lethargy': 3362,\n",
       " 'ban': 440,\n",
       " 'uk': 6286,\n",
       " 'ear infection': 1768,\n",
       " 'drug ban': 1680,\n",
       " 'maybe': 3690,\n",
       " 'month': 3912,\n",
       " 'painful': 4434,\n",
       " 'blurry': 588,\n",
       " 'post': 4689,\n",
       " 'update': 6330,\n",
       " 'personally': 4586,\n",
       " 'rx': 5119,\n",
       " 'develop': 1424,\n",
       " 'sort': 5480,\n",
       " 'disease': 1505,\n",
       " 'strong': 5673,\n",
       " 'levaquin': 3363,\n",
       " 'bactrim': 383,\n",
       " 'wrong': 6714,\n",
       " 'tolerate': 6171,\n",
       " 'antibiotic': 208,\n",
       " 'psychiatric': 4840,\n",
       " 'email': 1917,\n",
       " 'year severe': 6763,\n",
       " 'severe insomnia': 5226,\n",
       " 'anxiety depression': 218,\n",
       " 'depression weight': 1408,\n",
       " 'weight loss': 6565,\n",
       " 'loss loss': 3573,\n",
       " 'painful cramp': 4435,\n",
       " 'cramp leg': 1079,\n",
       " 'blurry vision': 589,\n",
       " 'heart palpitation': 2797,\n",
       " 'year ago': 6728,\n",
       " 'ago effect': 134,\n",
       " 'effect severe': 1871,\n",
       " 'like well': 3469,\n",
       " 'stay away': 5588,\n",
       " 'anxiety sleep': 245,\n",
       " 'sleep pill': 5400,\n",
       " 'think die': 6027,\n",
       " 'know wrong': 3280,\n",
       " 'gut': 2650,\n",
       " 'flash': 2317,\n",
       " 'instead': 3136,\n",
       " 'nausea anxiety': 4057,\n",
       " 'hot flash': 2938,\n",
       " 'inability sleep': 3040,\n",
       " 'nail': 4038,\n",
       " 'complaint': 913,\n",
       " 'return': 5063,\n",
       " 'course': 1066,\n",
       " 'totally': 6188,\n",
       " 'story': 5657,\n",
       " 'solid': 5457,\n",
       " 'itch': 3189,\n",
       " 'abdominal': 4,\n",
       " 'cough': 1047,\n",
       " 'shake': 5256,\n",
       " 'tight': 6078,\n",
       " 'syndrome': 5800,\n",
       " 'allergic': 155,\n",
       " 'time take': 6126,\n",
       " 'take bactrim': 5816,\n",
       " 'go day': 2539,\n",
       " 'month later': 3938,\n",
       " 'red rash': 4965,\n",
       " 'entire body': 1955,\n",
       " 'abdominal pain': 7,\n",
       " 'pain hour': 4371,\n",
       " 'hour start': 2951,\n",
       " 'severe allergy': 5215,\n",
       " 'infusion': 3096,\n",
       " 'benefit': 487,\n",
       " 'severe depression': 5219,\n",
       " 've have': 6387,\n",
       " 'month notice': 3946,\n",
       " 'notice change': 4180,\n",
       " 'don recommend': 1594,\n",
       " 'unknown': 6320,\n",
       " 'shortness': 5287,\n",
       " 'prior': 4762,\n",
       " 'leave': 3334,\n",
       " 'tightness': 6081,\n",
       " 'zoloft': 6798,\n",
       " 'ibs': 2993,\n",
       " 'willing': 6604,\n",
       " 'suggestion': 5711,\n",
       " 'antidepressant': 210,\n",
       " 'shortness breath': 5288,\n",
       " 'race heart': 4877,\n",
       " 'hour later': 2947,\n",
       " 'go work': 2574,\n",
       " 'tightness chest': 6082,\n",
       " 'increase heart': 3056,\n",
       " 'time think': 6128,\n",
       " 'prove': 4817,\n",
       " 'actually': 69,\n",
       " 'fracture': 2379,\n",
       " 'pain headache': 4367,\n",
       " 'bone pain': 609,\n",
       " 'take year': 5909,\n",
       " 'bloating': 566,\n",
       " 'relief': 5002,\n",
       " 'disappointed': 1494,\n",
       " 'doctor prescribe': 1560,\n",
       " 'bend': 484,\n",
       " 'forward': 2375,\n",
       " 'boniva': 610,\n",
       " 'research': 5032,\n",
       " 'hip pain': 2878,\n",
       " 'breast cancer': 646,\n",
       " 'research take': 5035,\n",
       " 'take med': 5869,\n",
       " 'immediate': 3014,\n",
       " 'excruciating': 2013,\n",
       " 'shoulder': 5326,\n",
       " 'twist': 6275,\n",
       " 'plus': 4662,\n",
       " 'money': 3909,\n",
       " 'pharmaceutical': 4589,\n",
       " ...}"
      ]
     },
     "metadata": {},
     "execution_count": 29
    }
   ],
   "source": [
    "vectorizer.vocabulary_"
   ]
  },
  {
   "cell_type": "markdown",
   "metadata": {},
   "source": [
    "## 4. Train and Test the Classifier"
   ]
  },
  {
   "cell_type": "markdown",
   "metadata": {},
   "source": [
    "Now let's try to build the classifier. We try two algorithms below: 1- GBM and 2- LSTM:"
   ]
  },
  {
   "cell_type": "markdown",
   "metadata": {},
   "source": [
    "### 4.1. Gradient Boosting Machines"
   ]
  },
  {
   "cell_type": "code",
   "execution_count": 11,
   "metadata": {},
   "outputs": [],
   "source": [
    "trainData, testData, trainLabels, testLabels = train_test_split(x, df.label.values, \n",
    "                                                                test_size=.2,\n",
    "                                                                random_state = 1)"
   ]
  },
  {
   "cell_type": "code",
   "execution_count": 12,
   "metadata": {},
   "outputs": [],
   "source": [
    "gbClassifier = GradientBoostingClassifier(random_state = 1) # Create gbClassifier object\n",
    "gbClassifier.fit(trainData, trainLabels) # Train gbClassifier using the function .fit\n",
    "\n",
    "predictions = gbClassifier.predict(testData) # Predict labels\n",
    "predictionProbabilities = gbClassifier.predict_proba(testData) # Predict label probabilities"
   ]
  },
  {
   "cell_type": "markdown",
   "metadata": {},
   "source": [
    "Now we can evaluate the model by calculating performance metrics, creating confusion matrix, and creating the ROC curve:"
   ]
  },
  {
   "cell_type": "code",
   "execution_count": 13,
   "metadata": {},
   "outputs": [],
   "source": [
    "from custom_funcs import *"
   ]
  },
  {
   "cell_type": "code",
   "execution_count": 14,
   "metadata": {},
   "outputs": [
    {
     "output_type": "stream",
     "name": "stdout",
     "text": [
      "Accuracy: 77.69\nPrecisionNegative: 77.91\nPrecisionPositive: 77.40\nRecallNegative: 81.92\nRecallPositive: 72.72\nAUC Score: 84.88\n\n"
     ]
    }
   ],
   "source": [
    "calculateMetricsAndPrint(predictions, predictionProbabilities, testLabels)"
   ]
  },
  {
   "cell_type": "code",
   "execution_count": 15,
   "metadata": {},
   "outputs": [
    {
     "output_type": "display_data",
     "data": {
      "text/plain": "<Figure size 360x360 with 1 Axes>",
      "image/svg+xml": "<?xml version=\"1.0\" encoding=\"utf-8\" standalone=\"no\"?>\n<!DOCTYPE svg PUBLIC \"-//W3C//DTD SVG 1.1//EN\"\n  \"http://www.w3.org/Graphics/SVG/1.1/DTD/svg11.dtd\">\n<!-- Created with matplotlib (https://matplotlib.org/) -->\n<svg height=\"333.864875pt\" version=\"1.1\" viewBox=\"0 0 402.93875 333.864875\" width=\"402.93875pt\" xmlns=\"http://www.w3.org/2000/svg\" xmlns:xlink=\"http://www.w3.org/1999/xlink\">\n <defs>\n  <style type=\"text/css\">\n*{stroke-linecap:butt;stroke-linejoin:round;}\n  </style>\n </defs>\n <g id=\"figure_1\">\n  <g id=\"patch_1\">\n   <path d=\"M 0 333.864875 \nL 402.93875 333.864875 \nL 402.93875 0 \nL 0 0 \nz\n\" style=\"fill:none;\"/>\n  </g>\n  <g id=\"axes_1\">\n   <g id=\"patch_2\">\n    <path d=\"M 123.93875 279 \nL 395.73875 279 \nL 395.73875 7.2 \nL 123.93875 7.2 \nz\n\" style=\"fill:#ffffff;\"/>\n   </g>\n   <g clip-path=\"url(#p3215d3f12f)\">\n    <image height=\"272\" id=\"image943fee5fe7\" transform=\"scale(1 -1)translate(0 -272)\" width=\"272\" x=\"123.93875\" xlink:href=\"data:image/png;base64,\niVBORw0KGgoAAAANSUhEUgAAARAAAAEQCAYAAAB4CisVAAAABHNCSVQICAgIfAhkiAAAA1RJREFUeJzt1LENwCAAwDBg6jn8xf9z+0MWVMm+IFPms887AIJ1OwD4LwMBMgMBMgMBMgMBMgMBMgMBMgMBMgMBMgMBMgMBMgMBMgMBMgMBMgMBMgMBMgMBMgMBMgMBMgMBMgMBMgMBMgMBMgMBMgMBMgMBMgMBMgMBMgMBMgMBMgMBMgMBMgMBMgMBMgMBMgMBMgMBMgMBMgMBMgMBMgMBMgMBMgMBMgMBMgMBMgMBMgMBMgMBMgMBMgMBMgMBMgMBMgMBMgMBMgMBMgMBMgMBMgMBMgMBMgMBMgMBMgMBMgMBMgMBMgMBMgMBMgMBMgMBMgMBMgMBMgMBMgMBMgMBMgMBMgMBMgMBMgMBMgMBMgMBMgMBMgMBMgMBMgMBMgMBMgMBMgMBMgMBMgMBMgMBMgMBMgMBMgMBMgMBMgMBMgMBMgMBMgMBMgMBMgMBMgMBMgMBMgMBMgMBMgMBMgMBMgMBMgMBMgMBMgMBMgMBMgMBMgMBMgMBMgMBMgMBMgMBMgMBMgMBMgMBMgMBMgMBMgMBMgMBMgMBMgMBMgMBMgMBMgMBMgMBMgMBMgMBMgMBMgMBMgMBMgMBMgMBMgMBMgMBMgMBMgMBMgMBMgMBMgMBMgMBMgMBMgMBMgMBMgMBMgMBMgMBMgMBMgMBMgMBMgMBMgMBMgMBMgMBMgMBMgMBMgMBMgMBMgMBMgMBMgMBMgMBMgMBMgMBMgMBMgMBMgMBMgMBMgMBMgMBMgMBMgMBMgMBMgMBMgMBMgMBMgMBMgMBMgMBMgMBMgMBMgMBMgMBMgMBMgMBMgMBMgMBMgMBMgMBMgMBMgMBMgMBMgMBMgMBMgMBMgMBMgMBMgMBMgMBMgMBMgMBMgMBMgMBMgMBMgMBMgMBMgMBMgMBMgMBMgMBMgMBMgMBMgMBMgMBMgMBMgMBMgMBMgMBMgMBMgMBMgMBMgMBMgMBMgMBMgMBMgMBMgMBMgMBMgMBMgMBMgMBMgMBMgMBMgMBMgMBMgMBMgMBMgMBMgMBMgMBMgMBMgMBMgMBMgMBMgMBMgMBMgMBMgMBMgMBMgMBMgMBMgMBMgMBMgMBMgMBMgMBMgMBMgMBMgMBMgMBMgMBMgMBMgMBMgMBMgMBMgMBMgMBMgMBsg/biAPCVpCoEgAAAABJRU5ErkJggg==\" y=\"-7\"/>\n   </g>\n   <g id=\"matplotlib.axis_1\">\n    <g id=\"xtick_1\">\n     <g id=\"line2d_1\">\n      <defs>\n       <path d=\"M 0 0 \nL 0 3.5 \n\" id=\"m144b721de1\" style=\"stroke:#000000;stroke-width:0.8;\"/>\n      </defs>\n      <g>\n       <use style=\"stroke:#000000;stroke-width:0.8;\" x=\"123.93875\" xlink:href=\"#m144b721de1\" y=\"279\"/>\n      </g>\n     </g>\n    </g>\n    <g id=\"xtick_2\">\n     <g id=\"line2d_2\">\n      <g>\n       <use style=\"stroke:#000000;stroke-width:0.8;\" x=\"191.88875\" xlink:href=\"#m144b721de1\" y=\"279\"/>\n      </g>\n     </g>\n     <g id=\"text_1\">\n      <!-- Class no  -->\n      <defs>\n       <path d=\"M 64.40625 67.28125 \nL 64.40625 56.890625 \nQ 59.421875 61.53125 53.78125 63.8125 \nQ 48.140625 66.109375 41.796875 66.109375 \nQ 29.296875 66.109375 22.65625 58.46875 \nQ 16.015625 50.828125 16.015625 36.375 \nQ 16.015625 21.96875 22.65625 14.328125 \nQ 29.296875 6.6875 41.796875 6.6875 \nQ 48.140625 6.6875 53.78125 8.984375 \nQ 59.421875 11.28125 64.40625 15.921875 \nL 64.40625 5.609375 \nQ 59.234375 2.09375 53.4375 0.328125 \nQ 47.65625 -1.421875 41.21875 -1.421875 \nQ 24.65625 -1.421875 15.125 8.703125 \nQ 5.609375 18.84375 5.609375 36.375 \nQ 5.609375 53.953125 15.125 64.078125 \nQ 24.65625 74.21875 41.21875 74.21875 \nQ 47.75 74.21875 53.53125 72.484375 \nQ 59.328125 70.75 64.40625 67.28125 \nz\n\" id=\"DejaVuSans-67\"/>\n       <path d=\"M 9.421875 75.984375 \nL 18.40625 75.984375 \nL 18.40625 0 \nL 9.421875 0 \nz\n\" id=\"DejaVuSans-108\"/>\n       <path d=\"M 34.28125 27.484375 \nQ 23.390625 27.484375 19.1875 25 \nQ 14.984375 22.515625 14.984375 16.5 \nQ 14.984375 11.71875 18.140625 8.90625 \nQ 21.296875 6.109375 26.703125 6.109375 \nQ 34.1875 6.109375 38.703125 11.40625 \nQ 43.21875 16.703125 43.21875 25.484375 \nL 43.21875 27.484375 \nz\nM 52.203125 31.203125 \nL 52.203125 0 \nL 43.21875 0 \nL 43.21875 8.296875 \nQ 40.140625 3.328125 35.546875 0.953125 \nQ 30.953125 -1.421875 24.3125 -1.421875 \nQ 15.921875 -1.421875 10.953125 3.296875 \nQ 6 8.015625 6 15.921875 \nQ 6 25.140625 12.171875 29.828125 \nQ 18.359375 34.515625 30.609375 34.515625 \nL 43.21875 34.515625 \nL 43.21875 35.40625 \nQ 43.21875 41.609375 39.140625 45 \nQ 35.0625 48.390625 27.6875 48.390625 \nQ 23 48.390625 18.546875 47.265625 \nQ 14.109375 46.140625 10.015625 43.890625 \nL 10.015625 52.203125 \nQ 14.9375 54.109375 19.578125 55.046875 \nQ 24.21875 56 28.609375 56 \nQ 40.484375 56 46.34375 49.84375 \nQ 52.203125 43.703125 52.203125 31.203125 \nz\n\" id=\"DejaVuSans-97\"/>\n       <path d=\"M 44.28125 53.078125 \nL 44.28125 44.578125 \nQ 40.484375 46.53125 36.375 47.5 \nQ 32.28125 48.484375 27.875 48.484375 \nQ 21.1875 48.484375 17.84375 46.4375 \nQ 14.5 44.390625 14.5 40.28125 \nQ 14.5 37.15625 16.890625 35.375 \nQ 19.28125 33.59375 26.515625 31.984375 \nL 29.59375 31.296875 \nQ 39.15625 29.25 43.1875 25.515625 \nQ 47.21875 21.78125 47.21875 15.09375 \nQ 47.21875 7.46875 41.1875 3.015625 \nQ 35.15625 -1.421875 24.609375 -1.421875 \nQ 20.21875 -1.421875 15.453125 -0.5625 \nQ 10.6875 0.296875 5.421875 2 \nL 5.421875 11.28125 \nQ 10.40625 8.6875 15.234375 7.390625 \nQ 20.0625 6.109375 24.8125 6.109375 \nQ 31.15625 6.109375 34.5625 8.28125 \nQ 37.984375 10.453125 37.984375 14.40625 \nQ 37.984375 18.0625 35.515625 20.015625 \nQ 33.0625 21.96875 24.703125 23.78125 \nL 21.578125 24.515625 \nQ 13.234375 26.265625 9.515625 29.90625 \nQ 5.8125 33.546875 5.8125 39.890625 \nQ 5.8125 47.609375 11.28125 51.796875 \nQ 16.75 56 26.8125 56 \nQ 31.78125 56 36.171875 55.265625 \nQ 40.578125 54.546875 44.28125 53.078125 \nz\n\" id=\"DejaVuSans-115\"/>\n       <path id=\"DejaVuSans-32\"/>\n       <path d=\"M 54.890625 33.015625 \nL 54.890625 0 \nL 45.90625 0 \nL 45.90625 32.71875 \nQ 45.90625 40.484375 42.875 44.328125 \nQ 39.84375 48.1875 33.796875 48.1875 \nQ 26.515625 48.1875 22.3125 43.546875 \nQ 18.109375 38.921875 18.109375 30.90625 \nL 18.109375 0 \nL 9.078125 0 \nL 9.078125 54.6875 \nL 18.109375 54.6875 \nL 18.109375 46.1875 \nQ 21.34375 51.125 25.703125 53.5625 \nQ 30.078125 56 35.796875 56 \nQ 45.21875 56 50.046875 50.171875 \nQ 54.890625 44.34375 54.890625 33.015625 \nz\n\" id=\"DejaVuSans-110\"/>\n       <path d=\"M 30.609375 48.390625 \nQ 23.390625 48.390625 19.1875 42.75 \nQ 14.984375 37.109375 14.984375 27.296875 \nQ 14.984375 17.484375 19.15625 11.84375 \nQ 23.34375 6.203125 30.609375 6.203125 \nQ 37.796875 6.203125 41.984375 11.859375 \nQ 46.1875 17.53125 46.1875 27.296875 \nQ 46.1875 37.015625 41.984375 42.703125 \nQ 37.796875 48.390625 30.609375 48.390625 \nz\nM 30.609375 56 \nQ 42.328125 56 49.015625 48.375 \nQ 55.71875 40.765625 55.71875 27.296875 \nQ 55.71875 13.875 49.015625 6.21875 \nQ 42.328125 -1.421875 30.609375 -1.421875 \nQ 18.84375 -1.421875 12.171875 6.21875 \nQ 5.515625 13.875 5.515625 27.296875 \nQ 5.515625 40.765625 12.171875 48.375 \nQ 18.84375 56 30.609375 56 \nz\n\" id=\"DejaVuSans-111\"/>\n      </defs>\n      <g transform=\"translate(164.816562 295.118125)scale(0.12 -0.12)\">\n       <use xlink:href=\"#DejaVuSans-67\"/>\n       <use x=\"69.824219\" xlink:href=\"#DejaVuSans-108\"/>\n       <use x=\"97.607422\" xlink:href=\"#DejaVuSans-97\"/>\n       <use x=\"158.886719\" xlink:href=\"#DejaVuSans-115\"/>\n       <use x=\"210.986328\" xlink:href=\"#DejaVuSans-115\"/>\n       <use x=\"263.085938\" xlink:href=\"#DejaVuSans-32\"/>\n       <use x=\"294.873047\" xlink:href=\"#DejaVuSans-110\"/>\n       <use x=\"358.251953\" xlink:href=\"#DejaVuSans-111\"/>\n       <use x=\"419.433594\" xlink:href=\"#DejaVuSans-32\"/>\n      </g>\n      <!--  Recall=81.9 -->\n      <defs>\n       <path d=\"M 44.390625 34.1875 \nQ 47.5625 33.109375 50.5625 29.59375 \nQ 53.5625 26.078125 56.59375 19.921875 \nL 66.609375 0 \nL 56 0 \nL 46.6875 18.703125 \nQ 43.0625 26.03125 39.671875 28.421875 \nQ 36.28125 30.8125 30.421875 30.8125 \nL 19.671875 30.8125 \nL 19.671875 0 \nL 9.8125 0 \nL 9.8125 72.90625 \nL 32.078125 72.90625 \nQ 44.578125 72.90625 50.734375 67.671875 \nQ 56.890625 62.453125 56.890625 51.90625 \nQ 56.890625 45.015625 53.6875 40.46875 \nQ 50.484375 35.9375 44.390625 34.1875 \nz\nM 19.671875 64.796875 \nL 19.671875 38.921875 \nL 32.078125 38.921875 \nQ 39.203125 38.921875 42.84375 42.21875 \nQ 46.484375 45.515625 46.484375 51.90625 \nQ 46.484375 58.296875 42.84375 61.546875 \nQ 39.203125 64.796875 32.078125 64.796875 \nz\n\" id=\"DejaVuSans-82\"/>\n       <path d=\"M 56.203125 29.59375 \nL 56.203125 25.203125 \nL 14.890625 25.203125 \nQ 15.484375 15.921875 20.484375 11.0625 \nQ 25.484375 6.203125 34.421875 6.203125 \nQ 39.59375 6.203125 44.453125 7.46875 \nQ 49.3125 8.734375 54.109375 11.28125 \nL 54.109375 2.78125 \nQ 49.265625 0.734375 44.1875 -0.34375 \nQ 39.109375 -1.421875 33.890625 -1.421875 \nQ 20.796875 -1.421875 13.15625 6.1875 \nQ 5.515625 13.8125 5.515625 26.8125 \nQ 5.515625 40.234375 12.765625 48.109375 \nQ 20.015625 56 32.328125 56 \nQ 43.359375 56 49.78125 48.890625 \nQ 56.203125 41.796875 56.203125 29.59375 \nz\nM 47.21875 32.234375 \nQ 47.125 39.59375 43.09375 43.984375 \nQ 39.0625 48.390625 32.421875 48.390625 \nQ 24.90625 48.390625 20.390625 44.140625 \nQ 15.875 39.890625 15.1875 32.171875 \nz\n\" id=\"DejaVuSans-101\"/>\n       <path d=\"M 48.78125 52.59375 \nL 48.78125 44.1875 \nQ 44.96875 46.296875 41.140625 47.34375 \nQ 37.3125 48.390625 33.40625 48.390625 \nQ 24.65625 48.390625 19.8125 42.84375 \nQ 14.984375 37.3125 14.984375 27.296875 \nQ 14.984375 17.28125 19.8125 11.734375 \nQ 24.65625 6.203125 33.40625 6.203125 \nQ 37.3125 6.203125 41.140625 7.25 \nQ 44.96875 8.296875 48.78125 10.40625 \nL 48.78125 2.09375 \nQ 45.015625 0.34375 40.984375 -0.53125 \nQ 36.96875 -1.421875 32.421875 -1.421875 \nQ 20.0625 -1.421875 12.78125 6.34375 \nQ 5.515625 14.109375 5.515625 27.296875 \nQ 5.515625 40.671875 12.859375 48.328125 \nQ 20.21875 56 33.015625 56 \nQ 37.15625 56 41.109375 55.140625 \nQ 45.0625 54.296875 48.78125 52.59375 \nz\n\" id=\"DejaVuSans-99\"/>\n       <path d=\"M 10.59375 45.40625 \nL 73.1875 45.40625 \nL 73.1875 37.203125 \nL 10.59375 37.203125 \nz\nM 10.59375 25.484375 \nL 73.1875 25.484375 \nL 73.1875 17.1875 \nL 10.59375 17.1875 \nz\n\" id=\"DejaVuSans-61\"/>\n       <path d=\"M 31.78125 34.625 \nQ 24.75 34.625 20.71875 30.859375 \nQ 16.703125 27.09375 16.703125 20.515625 \nQ 16.703125 13.921875 20.71875 10.15625 \nQ 24.75 6.390625 31.78125 6.390625 \nQ 38.8125 6.390625 42.859375 10.171875 \nQ 46.921875 13.96875 46.921875 20.515625 \nQ 46.921875 27.09375 42.890625 30.859375 \nQ 38.875 34.625 31.78125 34.625 \nz\nM 21.921875 38.8125 \nQ 15.578125 40.375 12.03125 44.71875 \nQ 8.5 49.078125 8.5 55.328125 \nQ 8.5 64.0625 14.71875 69.140625 \nQ 20.953125 74.21875 31.78125 74.21875 \nQ 42.671875 74.21875 48.875 69.140625 \nQ 55.078125 64.0625 55.078125 55.328125 \nQ 55.078125 49.078125 51.53125 44.71875 \nQ 48 40.375 41.703125 38.8125 \nQ 48.828125 37.15625 52.796875 32.3125 \nQ 56.78125 27.484375 56.78125 20.515625 \nQ 56.78125 9.90625 50.3125 4.234375 \nQ 43.84375 -1.421875 31.78125 -1.421875 \nQ 19.734375 -1.421875 13.25 4.234375 \nQ 6.78125 9.90625 6.78125 20.515625 \nQ 6.78125 27.484375 10.78125 32.3125 \nQ 14.796875 37.15625 21.921875 38.8125 \nz\nM 18.3125 54.390625 \nQ 18.3125 48.734375 21.84375 45.5625 \nQ 25.390625 42.390625 31.78125 42.390625 \nQ 38.140625 42.390625 41.71875 45.5625 \nQ 45.3125 48.734375 45.3125 54.390625 \nQ 45.3125 60.0625 41.71875 63.234375 \nQ 38.140625 66.40625 31.78125 66.40625 \nQ 25.390625 66.40625 21.84375 63.234375 \nQ 18.3125 60.0625 18.3125 54.390625 \nz\n\" id=\"DejaVuSans-56\"/>\n       <path d=\"M 12.40625 8.296875 \nL 28.515625 8.296875 \nL 28.515625 63.921875 \nL 10.984375 60.40625 \nL 10.984375 69.390625 \nL 28.421875 72.90625 \nL 38.28125 72.90625 \nL 38.28125 8.296875 \nL 54.390625 8.296875 \nL 54.390625 0 \nL 12.40625 0 \nz\n\" id=\"DejaVuSans-49\"/>\n       <path d=\"M 10.6875 12.40625 \nL 21 12.40625 \nL 21 0 \nL 10.6875 0 \nz\n\" id=\"DejaVuSans-46\"/>\n       <path d=\"M 10.984375 1.515625 \nL 10.984375 10.5 \nQ 14.703125 8.734375 18.5 7.8125 \nQ 22.3125 6.890625 25.984375 6.890625 \nQ 35.75 6.890625 40.890625 13.453125 \nQ 46.046875 20.015625 46.78125 33.40625 \nQ 43.953125 29.203125 39.59375 26.953125 \nQ 35.25 24.703125 29.984375 24.703125 \nQ 19.046875 24.703125 12.671875 31.3125 \nQ 6.296875 37.9375 6.296875 49.421875 \nQ 6.296875 60.640625 12.9375 67.421875 \nQ 19.578125 74.21875 30.609375 74.21875 \nQ 43.265625 74.21875 49.921875 64.515625 \nQ 56.59375 54.828125 56.59375 36.375 \nQ 56.59375 19.140625 48.40625 8.859375 \nQ 40.234375 -1.421875 26.421875 -1.421875 \nQ 22.703125 -1.421875 18.890625 -0.6875 \nQ 15.09375 0.046875 10.984375 1.515625 \nz\nM 30.609375 32.421875 \nQ 37.25 32.421875 41.125 36.953125 \nQ 45.015625 41.5 45.015625 49.421875 \nQ 45.015625 57.28125 41.125 61.84375 \nQ 37.25 66.40625 30.609375 66.40625 \nQ 23.96875 66.40625 20.09375 61.84375 \nQ 16.21875 57.28125 16.21875 49.421875 \nQ 16.21875 41.5 20.09375 36.953125 \nQ 23.96875 32.421875 30.609375 32.421875 \nz\n\" id=\"DejaVuSans-57\"/>\n      </defs>\n      <g transform=\"translate(153.694062 308.5555)scale(0.12 -0.12)\">\n       <use xlink:href=\"#DejaVuSans-32\"/>\n       <use x=\"31.787109\" xlink:href=\"#DejaVuSans-82\"/>\n       <use x=\"96.769531\" xlink:href=\"#DejaVuSans-101\"/>\n       <use x=\"158.292969\" xlink:href=\"#DejaVuSans-99\"/>\n       <use x=\"213.273438\" xlink:href=\"#DejaVuSans-97\"/>\n       <use x=\"274.552734\" xlink:href=\"#DejaVuSans-108\"/>\n       <use x=\"302.335938\" xlink:href=\"#DejaVuSans-108\"/>\n       <use x=\"330.119141\" xlink:href=\"#DejaVuSans-61\"/>\n       <use x=\"413.908203\" xlink:href=\"#DejaVuSans-56\"/>\n       <use x=\"477.53125\" xlink:href=\"#DejaVuSans-49\"/>\n       <use x=\"541.154297\" xlink:href=\"#DejaVuSans-46\"/>\n       <use x=\"572.941406\" xlink:href=\"#DejaVuSans-57\"/>\n      </g>\n     </g>\n    </g>\n    <g id=\"xtick_3\">\n     <g id=\"line2d_3\">\n      <g>\n       <use style=\"stroke:#000000;stroke-width:0.8;\" x=\"327.78875\" xlink:href=\"#m144b721de1\" y=\"279\"/>\n      </g>\n     </g>\n     <g id=\"text_2\">\n      <!-- Class yes  -->\n      <defs>\n       <path d=\"M 32.171875 -5.078125 \nQ 28.375 -14.84375 24.75 -17.8125 \nQ 21.140625 -20.796875 15.09375 -20.796875 \nL 7.90625 -20.796875 \nL 7.90625 -13.28125 \nL 13.1875 -13.28125 \nQ 16.890625 -13.28125 18.9375 -11.515625 \nQ 21 -9.765625 23.484375 -3.21875 \nL 25.09375 0.875 \nL 2.984375 54.6875 \nL 12.5 54.6875 \nL 29.59375 11.921875 \nL 46.6875 54.6875 \nL 56.203125 54.6875 \nz\n\" id=\"DejaVuSans-121\"/>\n      </defs>\n      <g transform=\"translate(297.821562 295.118125)scale(0.12 -0.12)\">\n       <use xlink:href=\"#DejaVuSans-67\"/>\n       <use x=\"69.824219\" xlink:href=\"#DejaVuSans-108\"/>\n       <use x=\"97.607422\" xlink:href=\"#DejaVuSans-97\"/>\n       <use x=\"158.886719\" xlink:href=\"#DejaVuSans-115\"/>\n       <use x=\"210.986328\" xlink:href=\"#DejaVuSans-115\"/>\n       <use x=\"263.085938\" xlink:href=\"#DejaVuSans-32\"/>\n       <use x=\"294.873047\" xlink:href=\"#DejaVuSans-121\"/>\n       <use x=\"354.052734\" xlink:href=\"#DejaVuSans-101\"/>\n       <use x=\"415.576172\" xlink:href=\"#DejaVuSans-115\"/>\n       <use x=\"467.675781\" xlink:href=\"#DejaVuSans-32\"/>\n      </g>\n      <!--  Recall=72.7 -->\n      <defs>\n       <path d=\"M 8.203125 72.90625 \nL 55.078125 72.90625 \nL 55.078125 68.703125 \nL 28.609375 0 \nL 18.3125 0 \nL 43.21875 64.59375 \nL 8.203125 64.59375 \nz\n\" id=\"DejaVuSans-55\"/>\n       <path d=\"M 19.1875 8.296875 \nL 53.609375 8.296875 \nL 53.609375 0 \nL 7.328125 0 \nL 7.328125 8.296875 \nQ 12.9375 14.109375 22.625 23.890625 \nQ 32.328125 33.6875 34.8125 36.53125 \nQ 39.546875 41.84375 41.421875 45.53125 \nQ 43.3125 49.21875 43.3125 52.78125 \nQ 43.3125 58.59375 39.234375 62.25 \nQ 35.15625 65.921875 28.609375 65.921875 \nQ 23.96875 65.921875 18.8125 64.3125 \nQ 13.671875 62.703125 7.8125 59.421875 \nL 7.8125 69.390625 \nQ 13.765625 71.78125 18.9375 73 \nQ 24.125 74.21875 28.421875 74.21875 \nQ 39.75 74.21875 46.484375 68.546875 \nQ 53.21875 62.890625 53.21875 53.421875 \nQ 53.21875 48.921875 51.53125 44.890625 \nQ 49.859375 40.875 45.40625 35.40625 \nQ 44.1875 33.984375 37.640625 27.21875 \nQ 31.109375 20.453125 19.1875 8.296875 \nz\n\" id=\"DejaVuSans-50\"/>\n      </defs>\n      <g transform=\"translate(289.594062 308.5555)scale(0.12 -0.12)\">\n       <use xlink:href=\"#DejaVuSans-32\"/>\n       <use x=\"31.787109\" xlink:href=\"#DejaVuSans-82\"/>\n       <use x=\"96.769531\" xlink:href=\"#DejaVuSans-101\"/>\n       <use x=\"158.292969\" xlink:href=\"#DejaVuSans-99\"/>\n       <use x=\"213.273438\" xlink:href=\"#DejaVuSans-97\"/>\n       <use x=\"274.552734\" xlink:href=\"#DejaVuSans-108\"/>\n       <use x=\"302.335938\" xlink:href=\"#DejaVuSans-108\"/>\n       <use x=\"330.119141\" xlink:href=\"#DejaVuSans-61\"/>\n       <use x=\"413.908203\" xlink:href=\"#DejaVuSans-55\"/>\n       <use x=\"477.53125\" xlink:href=\"#DejaVuSans-50\"/>\n       <use x=\"541.154297\" xlink:href=\"#DejaVuSans-46\"/>\n       <use x=\"572.941406\" xlink:href=\"#DejaVuSans-55\"/>\n      </g>\n     </g>\n    </g>\n    <g id=\"xtick_4\">\n     <g id=\"line2d_4\">\n      <g>\n       <use style=\"stroke:#000000;stroke-width:0.8;\" x=\"395.73875\" xlink:href=\"#m144b721de1\" y=\"279\"/>\n      </g>\n     </g>\n    </g>\n    <g id=\"text_3\">\n     <!-- Actual Class -->\n     <defs>\n      <path d=\"M 34.1875 63.1875 \nL 20.796875 26.90625 \nL 47.609375 26.90625 \nz\nM 28.609375 72.90625 \nL 39.796875 72.90625 \nL 67.578125 0 \nL 57.328125 0 \nL 50.6875 18.703125 \nL 17.828125 18.703125 \nL 11.1875 0 \nL 0.78125 0 \nz\n\" id=\"DejaVuSans-65\"/>\n      <path d=\"M 18.3125 70.21875 \nL 18.3125 54.6875 \nL 36.8125 54.6875 \nL 36.8125 47.703125 \nL 18.3125 47.703125 \nL 18.3125 18.015625 \nQ 18.3125 11.328125 20.140625 9.421875 \nQ 21.96875 7.515625 27.59375 7.515625 \nL 36.8125 7.515625 \nL 36.8125 0 \nL 27.59375 0 \nQ 17.1875 0 13.234375 3.875 \nQ 9.28125 7.765625 9.28125 18.015625 \nL 9.28125 47.703125 \nL 2.6875 47.703125 \nL 2.6875 54.6875 \nL 9.28125 54.6875 \nL 9.28125 70.21875 \nz\n\" id=\"DejaVuSans-116\"/>\n      <path d=\"M 8.5 21.578125 \nL 8.5 54.6875 \nL 17.484375 54.6875 \nL 17.484375 21.921875 \nQ 17.484375 14.15625 20.5 10.265625 \nQ 23.53125 6.390625 29.59375 6.390625 \nQ 36.859375 6.390625 41.078125 11.03125 \nQ 45.3125 15.671875 45.3125 23.6875 \nL 45.3125 54.6875 \nL 54.296875 54.6875 \nL 54.296875 0 \nL 45.3125 0 \nL 45.3125 8.40625 \nQ 42.046875 3.421875 37.71875 1 \nQ 33.40625 -1.421875 27.6875 -1.421875 \nQ 18.265625 -1.421875 13.375 4.4375 \nQ 8.5 10.296875 8.5 21.578125 \nz\nM 31.109375 56 \nz\n\" id=\"DejaVuSans-117\"/>\n     </defs>\n     <g transform=\"translate(223.350313 324.16925)scale(0.12 -0.12)\">\n      <use xlink:href=\"#DejaVuSans-65\"/>\n      <use x=\"66.658203\" xlink:href=\"#DejaVuSans-99\"/>\n      <use x=\"121.638672\" xlink:href=\"#DejaVuSans-116\"/>\n      <use x=\"160.847656\" xlink:href=\"#DejaVuSans-117\"/>\n      <use x=\"224.226562\" xlink:href=\"#DejaVuSans-97\"/>\n      <use x=\"285.505859\" xlink:href=\"#DejaVuSans-108\"/>\n      <use x=\"313.289062\" xlink:href=\"#DejaVuSans-32\"/>\n      <use x=\"345.076172\" xlink:href=\"#DejaVuSans-67\"/>\n      <use x=\"414.900391\" xlink:href=\"#DejaVuSans-108\"/>\n      <use x=\"442.683594\" xlink:href=\"#DejaVuSans-97\"/>\n      <use x=\"503.962891\" xlink:href=\"#DejaVuSans-115\"/>\n      <use x=\"556.0625\" xlink:href=\"#DejaVuSans-115\"/>\n     </g>\n    </g>\n   </g>\n   <g id=\"matplotlib.axis_2\">\n    <g id=\"ytick_1\">\n     <g id=\"line2d_5\">\n      <defs>\n       <path d=\"M 0 0 \nL -3.5 0 \n\" id=\"mae2a7b7653\" style=\"stroke:#000000;stroke-width:0.8;\"/>\n      </defs>\n      <g>\n       <use style=\"stroke:#000000;stroke-width:0.8;\" x=\"123.93875\" xlink:href=\"#mae2a7b7653\" y=\"7.2\"/>\n      </g>\n     </g>\n    </g>\n    <g id=\"ytick_2\">\n     <g id=\"line2d_6\">\n      <g>\n       <use style=\"stroke:#000000;stroke-width:0.8;\" x=\"123.93875\" xlink:href=\"#mae2a7b7653\" y=\"75.15\"/>\n      </g>\n     </g>\n     <g id=\"text_4\">\n      <!-- Class no  -->\n      <g transform=\"translate(62.794375 73.902187)scale(0.12 -0.12)\">\n       <use xlink:href=\"#DejaVuSans-67\"/>\n       <use x=\"69.824219\" xlink:href=\"#DejaVuSans-108\"/>\n       <use x=\"97.607422\" xlink:href=\"#DejaVuSans-97\"/>\n       <use x=\"158.886719\" xlink:href=\"#DejaVuSans-115\"/>\n       <use x=\"210.986328\" xlink:href=\"#DejaVuSans-115\"/>\n       <use x=\"263.085938\" xlink:href=\"#DejaVuSans-32\"/>\n       <use x=\"294.873047\" xlink:href=\"#DejaVuSans-110\"/>\n       <use x=\"358.251953\" xlink:href=\"#DejaVuSans-111\"/>\n       <use x=\"419.433594\" xlink:href=\"#DejaVuSans-32\"/>\n      </g>\n      <!--  Precision=77.9 -->\n      <defs>\n       <path d=\"M 19.671875 64.796875 \nL 19.671875 37.40625 \nL 32.078125 37.40625 \nQ 38.96875 37.40625 42.71875 40.96875 \nQ 46.484375 44.53125 46.484375 51.125 \nQ 46.484375 57.671875 42.71875 61.234375 \nQ 38.96875 64.796875 32.078125 64.796875 \nz\nM 9.8125 72.90625 \nL 32.078125 72.90625 \nQ 44.34375 72.90625 50.609375 67.359375 \nQ 56.890625 61.8125 56.890625 51.125 \nQ 56.890625 40.328125 50.609375 34.8125 \nQ 44.34375 29.296875 32.078125 29.296875 \nL 19.671875 29.296875 \nL 19.671875 0 \nL 9.8125 0 \nz\n\" id=\"DejaVuSans-80\"/>\n       <path d=\"M 41.109375 46.296875 \nQ 39.59375 47.171875 37.8125 47.578125 \nQ 36.03125 48 33.890625 48 \nQ 26.265625 48 22.1875 43.046875 \nQ 18.109375 38.09375 18.109375 28.8125 \nL 18.109375 0 \nL 9.078125 0 \nL 9.078125 54.6875 \nL 18.109375 54.6875 \nL 18.109375 46.1875 \nQ 20.953125 51.171875 25.484375 53.578125 \nQ 30.03125 56 36.53125 56 \nQ 37.453125 56 38.578125 55.875 \nQ 39.703125 55.765625 41.0625 55.515625 \nz\n\" id=\"DejaVuSans-114\"/>\n       <path d=\"M 9.421875 54.6875 \nL 18.40625 54.6875 \nL 18.40625 0 \nL 9.421875 0 \nz\nM 9.421875 75.984375 \nL 18.40625 75.984375 \nL 18.40625 64.59375 \nL 9.421875 64.59375 \nz\n\" id=\"DejaVuSans-105\"/>\n      </defs>\n      <g transform=\"translate(22.81375 87.339562)scale(0.12 -0.12)\">\n       <use xlink:href=\"#DejaVuSans-32\"/>\n       <use x=\"31.787109\" xlink:href=\"#DejaVuSans-80\"/>\n       <use x=\"90.339844\" xlink:href=\"#DejaVuSans-114\"/>\n       <use x=\"129.203125\" xlink:href=\"#DejaVuSans-101\"/>\n       <use x=\"190.726562\" xlink:href=\"#DejaVuSans-99\"/>\n       <use x=\"245.707031\" xlink:href=\"#DejaVuSans-105\"/>\n       <use x=\"273.490234\" xlink:href=\"#DejaVuSans-115\"/>\n       <use x=\"325.589844\" xlink:href=\"#DejaVuSans-105\"/>\n       <use x=\"353.373047\" xlink:href=\"#DejaVuSans-111\"/>\n       <use x=\"414.554688\" xlink:href=\"#DejaVuSans-110\"/>\n       <use x=\"477.933594\" xlink:href=\"#DejaVuSans-61\"/>\n       <use x=\"561.722656\" xlink:href=\"#DejaVuSans-55\"/>\n       <use x=\"625.345703\" xlink:href=\"#DejaVuSans-55\"/>\n       <use x=\"688.96875\" xlink:href=\"#DejaVuSans-46\"/>\n       <use x=\"720.755859\" xlink:href=\"#DejaVuSans-57\"/>\n      </g>\n     </g>\n    </g>\n    <g id=\"ytick_3\">\n     <g id=\"line2d_7\">\n      <g>\n       <use style=\"stroke:#000000;stroke-width:0.8;\" x=\"123.93875\" xlink:href=\"#mae2a7b7653\" y=\"211.05\"/>\n      </g>\n     </g>\n     <g id=\"text_5\">\n      <!-- Class yes  -->\n      <g transform=\"translate(57.004375 209.802188)scale(0.12 -0.12)\">\n       <use xlink:href=\"#DejaVuSans-67\"/>\n       <use x=\"69.824219\" xlink:href=\"#DejaVuSans-108\"/>\n       <use x=\"97.607422\" xlink:href=\"#DejaVuSans-97\"/>\n       <use x=\"158.886719\" xlink:href=\"#DejaVuSans-115\"/>\n       <use x=\"210.986328\" xlink:href=\"#DejaVuSans-115\"/>\n       <use x=\"263.085938\" xlink:href=\"#DejaVuSans-32\"/>\n       <use x=\"294.873047\" xlink:href=\"#DejaVuSans-121\"/>\n       <use x=\"354.052734\" xlink:href=\"#DejaVuSans-101\"/>\n       <use x=\"415.576172\" xlink:href=\"#DejaVuSans-115\"/>\n       <use x=\"467.675781\" xlink:href=\"#DejaVuSans-32\"/>\n      </g>\n      <!--  Precision=77.4 -->\n      <defs>\n       <path d=\"M 37.796875 64.3125 \nL 12.890625 25.390625 \nL 37.796875 25.390625 \nz\nM 35.203125 72.90625 \nL 47.609375 72.90625 \nL 47.609375 25.390625 \nL 58.015625 25.390625 \nL 58.015625 17.1875 \nL 47.609375 17.1875 \nL 47.609375 0 \nL 37.796875 0 \nL 37.796875 17.1875 \nL 4.890625 17.1875 \nL 4.890625 26.703125 \nz\n\" id=\"DejaVuSans-52\"/>\n      </defs>\n      <g transform=\"translate(22.81375 223.239562)scale(0.12 -0.12)\">\n       <use xlink:href=\"#DejaVuSans-32\"/>\n       <use x=\"31.787109\" xlink:href=\"#DejaVuSans-80\"/>\n       <use x=\"90.339844\" xlink:href=\"#DejaVuSans-114\"/>\n       <use x=\"129.203125\" xlink:href=\"#DejaVuSans-101\"/>\n       <use x=\"190.726562\" xlink:href=\"#DejaVuSans-99\"/>\n       <use x=\"245.707031\" xlink:href=\"#DejaVuSans-105\"/>\n       <use x=\"273.490234\" xlink:href=\"#DejaVuSans-115\"/>\n       <use x=\"325.589844\" xlink:href=\"#DejaVuSans-105\"/>\n       <use x=\"353.373047\" xlink:href=\"#DejaVuSans-111\"/>\n       <use x=\"414.554688\" xlink:href=\"#DejaVuSans-110\"/>\n       <use x=\"477.933594\" xlink:href=\"#DejaVuSans-61\"/>\n       <use x=\"561.722656\" xlink:href=\"#DejaVuSans-55\"/>\n       <use x=\"625.345703\" xlink:href=\"#DejaVuSans-55\"/>\n       <use x=\"688.96875\" xlink:href=\"#DejaVuSans-46\"/>\n       <use x=\"720.755859\" xlink:href=\"#DejaVuSans-52\"/>\n      </g>\n     </g>\n    </g>\n    <g id=\"ytick_4\">\n     <g id=\"line2d_8\">\n      <g>\n       <use style=\"stroke:#000000;stroke-width:0.8;\" x=\"123.93875\" xlink:href=\"#mae2a7b7653\" y=\"279\"/>\n      </g>\n     </g>\n    </g>\n    <g id=\"text_6\">\n     <!-- Predicted Class -->\n     <defs>\n      <path d=\"M 45.40625 46.390625 \nL 45.40625 75.984375 \nL 54.390625 75.984375 \nL 54.390625 0 \nL 45.40625 0 \nL 45.40625 8.203125 \nQ 42.578125 3.328125 38.25 0.953125 \nQ 33.9375 -1.421875 27.875 -1.421875 \nQ 17.96875 -1.421875 11.734375 6.484375 \nQ 5.515625 14.40625 5.515625 27.296875 \nQ 5.515625 40.1875 11.734375 48.09375 \nQ 17.96875 56 27.875 56 \nQ 33.9375 56 38.25 53.625 \nQ 42.578125 51.265625 45.40625 46.390625 \nz\nM 14.796875 27.296875 \nQ 14.796875 17.390625 18.875 11.75 \nQ 22.953125 6.109375 30.078125 6.109375 \nQ 37.203125 6.109375 41.296875 11.75 \nQ 45.40625 17.390625 45.40625 27.296875 \nQ 45.40625 37.203125 41.296875 42.84375 \nQ 37.203125 48.484375 30.078125 48.484375 \nQ 22.953125 48.484375 18.875 42.84375 \nQ 14.796875 37.203125 14.796875 27.296875 \nz\n\" id=\"DejaVuSans-100\"/>\n     </defs>\n     <g transform=\"translate(16.318125 188.955937)rotate(-90)scale(0.12 -0.12)\">\n      <use xlink:href=\"#DejaVuSans-80\"/>\n      <use x=\"58.552734\" xlink:href=\"#DejaVuSans-114\"/>\n      <use x=\"97.416016\" xlink:href=\"#DejaVuSans-101\"/>\n      <use x=\"158.939453\" xlink:href=\"#DejaVuSans-100\"/>\n      <use x=\"222.416016\" xlink:href=\"#DejaVuSans-105\"/>\n      <use x=\"250.199219\" xlink:href=\"#DejaVuSans-99\"/>\n      <use x=\"305.179688\" xlink:href=\"#DejaVuSans-116\"/>\n      <use x=\"344.388672\" xlink:href=\"#DejaVuSans-101\"/>\n      <use x=\"405.912109\" xlink:href=\"#DejaVuSans-100\"/>\n      <use x=\"469.388672\" xlink:href=\"#DejaVuSans-32\"/>\n      <use x=\"501.175781\" xlink:href=\"#DejaVuSans-67\"/>\n      <use x=\"571\" xlink:href=\"#DejaVuSans-108\"/>\n      <use x=\"598.783203\" xlink:href=\"#DejaVuSans-97\"/>\n      <use x=\"660.0625\" xlink:href=\"#DejaVuSans-115\"/>\n      <use x=\"712.162109\" xlink:href=\"#DejaVuSans-115\"/>\n     </g>\n    </g>\n   </g>\n   <g id=\"patch_3\">\n    <path d=\"M 123.93875 279 \nL 123.93875 7.2 \n\" style=\"fill:none;stroke:#000000;stroke-linecap:square;stroke-linejoin:miter;stroke-width:0.8;\"/>\n   </g>\n   <g id=\"patch_4\">\n    <path d=\"M 395.73875 279 \nL 395.73875 7.2 \n\" style=\"fill:none;stroke:#000000;stroke-linecap:square;stroke-linejoin:miter;stroke-width:0.8;\"/>\n   </g>\n   <g id=\"patch_5\">\n    <path d=\"M 123.93875 279 \nL 395.73875 279 \n\" style=\"fill:none;stroke:#000000;stroke-linecap:square;stroke-linejoin:miter;stroke-width:0.8;\"/>\n   </g>\n   <g id=\"patch_6\">\n    <path d=\"M 123.93875 7.2 \nL 395.73875 7.2 \n\" style=\"fill:none;stroke:#000000;stroke-linecap:square;stroke-linejoin:miter;stroke-width:0.8;\"/>\n   </g>\n   <g id=\"text_7\">\n    <!-- 843 -->\n    <defs>\n     <path d=\"M 40.578125 39.3125 \nQ 47.65625 37.796875 51.625 33 \nQ 55.609375 28.21875 55.609375 21.1875 \nQ 55.609375 10.40625 48.1875 4.484375 \nQ 40.765625 -1.421875 27.09375 -1.421875 \nQ 22.515625 -1.421875 17.65625 -0.515625 \nQ 12.796875 0.390625 7.625 2.203125 \nL 7.625 11.71875 \nQ 11.71875 9.328125 16.59375 8.109375 \nQ 21.484375 6.890625 26.8125 6.890625 \nQ 36.078125 6.890625 40.9375 10.546875 \nQ 45.796875 14.203125 45.796875 21.1875 \nQ 45.796875 27.640625 41.28125 31.265625 \nQ 36.765625 34.90625 28.71875 34.90625 \nL 20.21875 34.90625 \nL 20.21875 43.015625 \nL 29.109375 43.015625 \nQ 36.375 43.015625 40.234375 45.921875 \nQ 44.09375 48.828125 44.09375 54.296875 \nQ 44.09375 59.90625 40.109375 62.90625 \nQ 36.140625 65.921875 28.71875 65.921875 \nQ 24.65625 65.921875 20.015625 65.03125 \nQ 15.375 64.15625 9.8125 62.3125 \nL 9.8125 71.09375 \nQ 15.4375 72.65625 20.34375 73.4375 \nQ 25.25 74.21875 29.59375 74.21875 \nQ 40.828125 74.21875 47.359375 69.109375 \nQ 53.90625 64.015625 53.90625 55.328125 \nQ 53.90625 49.265625 50.4375 45.09375 \nQ 46.96875 40.921875 40.578125 39.3125 \nz\n\" id=\"DejaVuSans-51\"/>\n    </defs>\n    <g style=\"fill:#ffffff;\" transform=\"translate(180.43625 78.46125)scale(0.12 -0.12)\">\n     <use xlink:href=\"#DejaVuSans-56\"/>\n     <use x=\"63.623047\" xlink:href=\"#DejaVuSans-52\"/>\n     <use x=\"127.246094\" xlink:href=\"#DejaVuSans-51\"/>\n    </g>\n   </g>\n   <g id=\"text_8\">\n    <!-- 239 -->\n    <g style=\"fill:#ffffff;\" transform=\"translate(316.33625 78.46125)scale(0.12 -0.12)\">\n     <use xlink:href=\"#DejaVuSans-50\"/>\n     <use x=\"63.623047\" xlink:href=\"#DejaVuSans-51\"/>\n     <use x=\"127.246094\" xlink:href=\"#DejaVuSans-57\"/>\n    </g>\n   </g>\n   <g id=\"text_9\">\n    <!-- 186 -->\n    <defs>\n     <path d=\"M 33.015625 40.375 \nQ 26.375 40.375 22.484375 35.828125 \nQ 18.609375 31.296875 18.609375 23.390625 \nQ 18.609375 15.53125 22.484375 10.953125 \nQ 26.375 6.390625 33.015625 6.390625 \nQ 39.65625 6.390625 43.53125 10.953125 \nQ 47.40625 15.53125 47.40625 23.390625 \nQ 47.40625 31.296875 43.53125 35.828125 \nQ 39.65625 40.375 33.015625 40.375 \nz\nM 52.59375 71.296875 \nL 52.59375 62.3125 \nQ 48.875 64.0625 45.09375 64.984375 \nQ 41.3125 65.921875 37.59375 65.921875 \nQ 27.828125 65.921875 22.671875 59.328125 \nQ 17.53125 52.734375 16.796875 39.40625 \nQ 19.671875 43.65625 24.015625 45.921875 \nQ 28.375 48.1875 33.59375 48.1875 \nQ 44.578125 48.1875 50.953125 41.515625 \nQ 57.328125 34.859375 57.328125 23.390625 \nQ 57.328125 12.15625 50.6875 5.359375 \nQ 44.046875 -1.421875 33.015625 -1.421875 \nQ 20.359375 -1.421875 13.671875 8.265625 \nQ 6.984375 17.96875 6.984375 36.375 \nQ 6.984375 53.65625 15.1875 63.9375 \nQ 23.390625 74.21875 37.203125 74.21875 \nQ 40.921875 74.21875 44.703125 73.484375 \nQ 48.484375 72.75 52.59375 71.296875 \nz\n\" id=\"DejaVuSans-54\"/>\n    </defs>\n    <g style=\"fill:#ffffff;\" transform=\"translate(180.43625 214.36125)scale(0.12 -0.12)\">\n     <use xlink:href=\"#DejaVuSans-49\"/>\n     <use x=\"63.623047\" xlink:href=\"#DejaVuSans-56\"/>\n     <use x=\"127.246094\" xlink:href=\"#DejaVuSans-54\"/>\n    </g>\n   </g>\n   <g id=\"text_10\">\n    <!-- 637 -->\n    <g style=\"fill:#ffffff;\" transform=\"translate(316.33625 214.36125)scale(0.12 -0.12)\">\n     <use xlink:href=\"#DejaVuSans-54\"/>\n     <use x=\"63.623047\" xlink:href=\"#DejaVuSans-51\"/>\n     <use x=\"127.246094\" xlink:href=\"#DejaVuSans-55\"/>\n    </g>\n   </g>\n  </g>\n </g>\n <defs>\n  <clipPath id=\"p3215d3f12f\">\n   <rect height=\"271.8\" width=\"271.8\" x=\"123.93875\" y=\"7.2\"/>\n  </clipPath>\n </defs>\n</svg>\n",
      "image/png": "[encoded data removed]"
     },
     "metadata": {
      "needs_background": "light"
     }
    }
   ],
   "source": [
    "confusionMatrix = None # Remove any previously created confusion matrix\n",
    "confusionMatrix = confusion_matrix(testLabels, predictions) # Create new confusion matrix\n",
    "plt.rcParams['figure.figsize'] = (5, 5) # Determine the size of the plot\n",
    "displayConfusionMatrix(confusionMatrix) # Display the plot"
   ]
  },
  {
   "cell_type": "code",
   "execution_count": 16,
   "metadata": {},
   "outputs": [
    {
     "output_type": "stream",
     "name": "stdout",
     "text": [
      "AUC Score = 84.879\n"
     ]
    },
    {
     "output_type": "display_data",
     "data": {
      "text/plain": "<Figure size 432x432 with 1 Axes>",
      "image/svg+xml": "<?xml version=\"1.0\" encoding=\"utf-8\" standalone=\"no\"?>\n<!DOCTYPE svg PUBLIC \"-//W3C//DTD SVG 1.1//EN\"\n  \"http://www.w3.org/Graphics/SVG/1.1/DTD/svg11.dtd\">\n<!-- Created with matplotlib (https://matplotlib.org/) -->\n<svg height=\"386.034375pt\" version=\"1.1\" viewBox=\"0 0 385.78125 386.034375\" width=\"385.78125pt\" xmlns=\"http://www.w3.org/2000/svg\" xmlns:xlink=\"http://www.w3.org/1999/xlink\">\n <defs>\n  <style type=\"text/css\">\n*{stroke-linecap:butt;stroke-linejoin:round;}\n  </style>\n </defs>\n <g id=\"figure_1\">\n  <g id=\"patch_1\">\n   <path d=\"M 0 386.034375 \nL 385.78125 386.034375 \nL 385.78125 0 \nL 0 0 \nz\n\" style=\"fill:none;\"/>\n  </g>\n  <g id=\"axes_1\">\n   <g id=\"patch_2\">\n    <path d=\"M 43.78125 348.478125 \nL 378.58125 348.478125 \nL 378.58125 22.318125 \nL 43.78125 22.318125 \nz\n\" style=\"fill:#ffffff;\"/>\n   </g>\n   <g id=\"matplotlib.axis_1\">\n    <g id=\"xtick_1\">\n     <g id=\"line2d_1\">\n      <defs>\n       <path d=\"M 0 0 \nL 0 3.5 \n\" id=\"me23204022d\" style=\"stroke:#000000;stroke-width:0.8;\"/>\n      </defs>\n      <g>\n       <use style=\"stroke:#000000;stroke-width:0.8;\" x=\"58.999432\" xlink:href=\"#me23204022d\" y=\"348.478125\"/>\n      </g>\n     </g>\n     <g id=\"text_1\">\n      <!-- 0.0 -->\n      <defs>\n       <path d=\"M 31.78125 66.40625 \nQ 24.171875 66.40625 20.328125 58.90625 \nQ 16.5 51.421875 16.5 36.375 \nQ 16.5 21.390625 20.328125 13.890625 \nQ 24.171875 6.390625 31.78125 6.390625 \nQ 39.453125 6.390625 43.28125 13.890625 \nQ 47.125 21.390625 47.125 36.375 \nQ 47.125 51.421875 43.28125 58.90625 \nQ 39.453125 66.40625 31.78125 66.40625 \nz\nM 31.78125 74.21875 \nQ 44.046875 74.21875 50.515625 64.515625 \nQ 56.984375 54.828125 56.984375 36.375 \nQ 56.984375 17.96875 50.515625 8.265625 \nQ 44.046875 -1.421875 31.78125 -1.421875 \nQ 19.53125 -1.421875 13.0625 8.265625 \nQ 6.59375 17.96875 6.59375 36.375 \nQ 6.59375 54.828125 13.0625 64.515625 \nQ 19.53125 74.21875 31.78125 74.21875 \nz\n\" id=\"DejaVuSans-48\"/>\n       <path d=\"M 10.6875 12.40625 \nL 21 12.40625 \nL 21 0 \nL 10.6875 0 \nz\n\" id=\"DejaVuSans-46\"/>\n      </defs>\n      <g transform=\"translate(51.047869 363.076562)scale(0.1 -0.1)\">\n       <use xlink:href=\"#DejaVuSans-48\"/>\n       <use x=\"63.623047\" xlink:href=\"#DejaVuSans-46\"/>\n       <use x=\"95.410156\" xlink:href=\"#DejaVuSans-48\"/>\n      </g>\n     </g>\n    </g>\n    <g id=\"xtick_2\">\n     <g id=\"line2d_2\">\n      <g>\n       <use style=\"stroke:#000000;stroke-width:0.8;\" x=\"119.872159\" xlink:href=\"#me23204022d\" y=\"348.478125\"/>\n      </g>\n     </g>\n     <g id=\"text_2\">\n      <!-- 0.2 -->\n      <defs>\n       <path d=\"M 19.1875 8.296875 \nL 53.609375 8.296875 \nL 53.609375 0 \nL 7.328125 0 \nL 7.328125 8.296875 \nQ 12.9375 14.109375 22.625 23.890625 \nQ 32.328125 33.6875 34.8125 36.53125 \nQ 39.546875 41.84375 41.421875 45.53125 \nQ 43.3125 49.21875 43.3125 52.78125 \nQ 43.3125 58.59375 39.234375 62.25 \nQ 35.15625 65.921875 28.609375 65.921875 \nQ 23.96875 65.921875 18.8125 64.3125 \nQ 13.671875 62.703125 7.8125 59.421875 \nL 7.8125 69.390625 \nQ 13.765625 71.78125 18.9375 73 \nQ 24.125 74.21875 28.421875 74.21875 \nQ 39.75 74.21875 46.484375 68.546875 \nQ 53.21875 62.890625 53.21875 53.421875 \nQ 53.21875 48.921875 51.53125 44.890625 \nQ 49.859375 40.875 45.40625 35.40625 \nQ 44.1875 33.984375 37.640625 27.21875 \nQ 31.109375 20.453125 19.1875 8.296875 \nz\n\" id=\"DejaVuSans-50\"/>\n      </defs>\n      <g transform=\"translate(111.920597 363.076562)scale(0.1 -0.1)\">\n       <use xlink:href=\"#DejaVuSans-48\"/>\n       <use x=\"63.623047\" xlink:href=\"#DejaVuSans-46\"/>\n       <use x=\"95.410156\" xlink:href=\"#DejaVuSans-50\"/>\n      </g>\n     </g>\n    </g>\n    <g id=\"xtick_3\">\n     <g id=\"line2d_3\">\n      <g>\n       <use style=\"stroke:#000000;stroke-width:0.8;\" x=\"180.744886\" xlink:href=\"#me23204022d\" y=\"348.478125\"/>\n      </g>\n     </g>\n     <g id=\"text_3\">\n      <!-- 0.4 -->\n      <defs>\n       <path d=\"M 37.796875 64.3125 \nL 12.890625 25.390625 \nL 37.796875 25.390625 \nz\nM 35.203125 72.90625 \nL 47.609375 72.90625 \nL 47.609375 25.390625 \nL 58.015625 25.390625 \nL 58.015625 17.1875 \nL 47.609375 17.1875 \nL 47.609375 0 \nL 37.796875 0 \nL 37.796875 17.1875 \nL 4.890625 17.1875 \nL 4.890625 26.703125 \nz\n\" id=\"DejaVuSans-52\"/>\n      </defs>\n      <g transform=\"translate(172.793324 363.076562)scale(0.1 -0.1)\">\n       <use xlink:href=\"#DejaVuSans-48\"/>\n       <use x=\"63.623047\" xlink:href=\"#DejaVuSans-46\"/>\n       <use x=\"95.410156\" xlink:href=\"#DejaVuSans-52\"/>\n      </g>\n     </g>\n    </g>\n    <g id=\"xtick_4\">\n     <g id=\"line2d_4\">\n      <g>\n       <use style=\"stroke:#000000;stroke-width:0.8;\" x=\"241.617614\" xlink:href=\"#me23204022d\" y=\"348.478125\"/>\n      </g>\n     </g>\n     <g id=\"text_4\">\n      <!-- 0.6 -->\n      <defs>\n       <path d=\"M 33.015625 40.375 \nQ 26.375 40.375 22.484375 35.828125 \nQ 18.609375 31.296875 18.609375 23.390625 \nQ 18.609375 15.53125 22.484375 10.953125 \nQ 26.375 6.390625 33.015625 6.390625 \nQ 39.65625 6.390625 43.53125 10.953125 \nQ 47.40625 15.53125 47.40625 23.390625 \nQ 47.40625 31.296875 43.53125 35.828125 \nQ 39.65625 40.375 33.015625 40.375 \nz\nM 52.59375 71.296875 \nL 52.59375 62.3125 \nQ 48.875 64.0625 45.09375 64.984375 \nQ 41.3125 65.921875 37.59375 65.921875 \nQ 27.828125 65.921875 22.671875 59.328125 \nQ 17.53125 52.734375 16.796875 39.40625 \nQ 19.671875 43.65625 24.015625 45.921875 \nQ 28.375 48.1875 33.59375 48.1875 \nQ 44.578125 48.1875 50.953125 41.515625 \nQ 57.328125 34.859375 57.328125 23.390625 \nQ 57.328125 12.15625 50.6875 5.359375 \nQ 44.046875 -1.421875 33.015625 -1.421875 \nQ 20.359375 -1.421875 13.671875 8.265625 \nQ 6.984375 17.96875 6.984375 36.375 \nQ 6.984375 53.65625 15.1875 63.9375 \nQ 23.390625 74.21875 37.203125 74.21875 \nQ 40.921875 74.21875 44.703125 73.484375 \nQ 48.484375 72.75 52.59375 71.296875 \nz\n\" id=\"DejaVuSans-54\"/>\n      </defs>\n      <g transform=\"translate(233.666051 363.076562)scale(0.1 -0.1)\">\n       <use xlink:href=\"#DejaVuSans-48\"/>\n       <use x=\"63.623047\" xlink:href=\"#DejaVuSans-46\"/>\n       <use x=\"95.410156\" xlink:href=\"#DejaVuSans-54\"/>\n      </g>\n     </g>\n    </g>\n    <g id=\"xtick_5\">\n     <g id=\"line2d_5\">\n      <g>\n       <use style=\"stroke:#000000;stroke-width:0.8;\" x=\"302.490341\" xlink:href=\"#me23204022d\" y=\"348.478125\"/>\n      </g>\n     </g>\n     <g id=\"text_5\">\n      <!-- 0.8 -->\n      <defs>\n       <path d=\"M 31.78125 34.625 \nQ 24.75 34.625 20.71875 30.859375 \nQ 16.703125 27.09375 16.703125 20.515625 \nQ 16.703125 13.921875 20.71875 10.15625 \nQ 24.75 6.390625 31.78125 6.390625 \nQ 38.8125 6.390625 42.859375 10.171875 \nQ 46.921875 13.96875 46.921875 20.515625 \nQ 46.921875 27.09375 42.890625 30.859375 \nQ 38.875 34.625 31.78125 34.625 \nz\nM 21.921875 38.8125 \nQ 15.578125 40.375 12.03125 44.71875 \nQ 8.5 49.078125 8.5 55.328125 \nQ 8.5 64.0625 14.71875 69.140625 \nQ 20.953125 74.21875 31.78125 74.21875 \nQ 42.671875 74.21875 48.875 69.140625 \nQ 55.078125 64.0625 55.078125 55.328125 \nQ 55.078125 49.078125 51.53125 44.71875 \nQ 48 40.375 41.703125 38.8125 \nQ 48.828125 37.15625 52.796875 32.3125 \nQ 56.78125 27.484375 56.78125 20.515625 \nQ 56.78125 9.90625 50.3125 4.234375 \nQ 43.84375 -1.421875 31.78125 -1.421875 \nQ 19.734375 -1.421875 13.25 4.234375 \nQ 6.78125 9.90625 6.78125 20.515625 \nQ 6.78125 27.484375 10.78125 32.3125 \nQ 14.796875 37.15625 21.921875 38.8125 \nz\nM 18.3125 54.390625 \nQ 18.3125 48.734375 21.84375 45.5625 \nQ 25.390625 42.390625 31.78125 42.390625 \nQ 38.140625 42.390625 41.71875 45.5625 \nQ 45.3125 48.734375 45.3125 54.390625 \nQ 45.3125 60.0625 41.71875 63.234375 \nQ 38.140625 66.40625 31.78125 66.40625 \nQ 25.390625 66.40625 21.84375 63.234375 \nQ 18.3125 60.0625 18.3125 54.390625 \nz\n\" id=\"DejaVuSans-56\"/>\n      </defs>\n      <g transform=\"translate(294.538778 363.076562)scale(0.1 -0.1)\">\n       <use xlink:href=\"#DejaVuSans-48\"/>\n       <use x=\"63.623047\" xlink:href=\"#DejaVuSans-46\"/>\n       <use x=\"95.410156\" xlink:href=\"#DejaVuSans-56\"/>\n      </g>\n     </g>\n    </g>\n    <g id=\"xtick_6\">\n     <g id=\"line2d_6\">\n      <g>\n       <use style=\"stroke:#000000;stroke-width:0.8;\" x=\"363.363068\" xlink:href=\"#me23204022d\" y=\"348.478125\"/>\n      </g>\n     </g>\n     <g id=\"text_6\">\n      <!-- 1.0 -->\n      <defs>\n       <path d=\"M 12.40625 8.296875 \nL 28.515625 8.296875 \nL 28.515625 63.921875 \nL 10.984375 60.40625 \nL 10.984375 69.390625 \nL 28.421875 72.90625 \nL 38.28125 72.90625 \nL 38.28125 8.296875 \nL 54.390625 8.296875 \nL 54.390625 0 \nL 12.40625 0 \nz\n\" id=\"DejaVuSans-49\"/>\n      </defs>\n      <g transform=\"translate(355.411506 363.076562)scale(0.1 -0.1)\">\n       <use xlink:href=\"#DejaVuSans-49\"/>\n       <use x=\"63.623047\" xlink:href=\"#DejaVuSans-46\"/>\n       <use x=\"95.410156\" xlink:href=\"#DejaVuSans-48\"/>\n      </g>\n     </g>\n    </g>\n    <g id=\"text_7\">\n     <!-- False Positive Rate -->\n     <defs>\n      <path d=\"M 9.8125 72.90625 \nL 51.703125 72.90625 \nL 51.703125 64.59375 \nL 19.671875 64.59375 \nL 19.671875 43.109375 \nL 48.578125 43.109375 \nL 48.578125 34.8125 \nL 19.671875 34.8125 \nL 19.671875 0 \nL 9.8125 0 \nz\n\" id=\"DejaVuSans-70\"/>\n      <path d=\"M 34.28125 27.484375 \nQ 23.390625 27.484375 19.1875 25 \nQ 14.984375 22.515625 14.984375 16.5 \nQ 14.984375 11.71875 18.140625 8.90625 \nQ 21.296875 6.109375 26.703125 6.109375 \nQ 34.1875 6.109375 38.703125 11.40625 \nQ 43.21875 16.703125 43.21875 25.484375 \nL 43.21875 27.484375 \nz\nM 52.203125 31.203125 \nL 52.203125 0 \nL 43.21875 0 \nL 43.21875 8.296875 \nQ 40.140625 3.328125 35.546875 0.953125 \nQ 30.953125 -1.421875 24.3125 -1.421875 \nQ 15.921875 -1.421875 10.953125 3.296875 \nQ 6 8.015625 6 15.921875 \nQ 6 25.140625 12.171875 29.828125 \nQ 18.359375 34.515625 30.609375 34.515625 \nL 43.21875 34.515625 \nL 43.21875 35.40625 \nQ 43.21875 41.609375 39.140625 45 \nQ 35.0625 48.390625 27.6875 48.390625 \nQ 23 48.390625 18.546875 47.265625 \nQ 14.109375 46.140625 10.015625 43.890625 \nL 10.015625 52.203125 \nQ 14.9375 54.109375 19.578125 55.046875 \nQ 24.21875 56 28.609375 56 \nQ 40.484375 56 46.34375 49.84375 \nQ 52.203125 43.703125 52.203125 31.203125 \nz\n\" id=\"DejaVuSans-97\"/>\n      <path d=\"M 9.421875 75.984375 \nL 18.40625 75.984375 \nL 18.40625 0 \nL 9.421875 0 \nz\n\" id=\"DejaVuSans-108\"/>\n      <path d=\"M 44.28125 53.078125 \nL 44.28125 44.578125 \nQ 40.484375 46.53125 36.375 47.5 \nQ 32.28125 48.484375 27.875 48.484375 \nQ 21.1875 48.484375 17.84375 46.4375 \nQ 14.5 44.390625 14.5 40.28125 \nQ 14.5 37.15625 16.890625 35.375 \nQ 19.28125 33.59375 26.515625 31.984375 \nL 29.59375 31.296875 \nQ 39.15625 29.25 43.1875 25.515625 \nQ 47.21875 21.78125 47.21875 15.09375 \nQ 47.21875 7.46875 41.1875 3.015625 \nQ 35.15625 -1.421875 24.609375 -1.421875 \nQ 20.21875 -1.421875 15.453125 -0.5625 \nQ 10.6875 0.296875 5.421875 2 \nL 5.421875 11.28125 \nQ 10.40625 8.6875 15.234375 7.390625 \nQ 20.0625 6.109375 24.8125 6.109375 \nQ 31.15625 6.109375 34.5625 8.28125 \nQ 37.984375 10.453125 37.984375 14.40625 \nQ 37.984375 18.0625 35.515625 20.015625 \nQ 33.0625 21.96875 24.703125 23.78125 \nL 21.578125 24.515625 \nQ 13.234375 26.265625 9.515625 29.90625 \nQ 5.8125 33.546875 5.8125 39.890625 \nQ 5.8125 47.609375 11.28125 51.796875 \nQ 16.75 56 26.8125 56 \nQ 31.78125 56 36.171875 55.265625 \nQ 40.578125 54.546875 44.28125 53.078125 \nz\n\" id=\"DejaVuSans-115\"/>\n      <path d=\"M 56.203125 29.59375 \nL 56.203125 25.203125 \nL 14.890625 25.203125 \nQ 15.484375 15.921875 20.484375 11.0625 \nQ 25.484375 6.203125 34.421875 6.203125 \nQ 39.59375 6.203125 44.453125 7.46875 \nQ 49.3125 8.734375 54.109375 11.28125 \nL 54.109375 2.78125 \nQ 49.265625 0.734375 44.1875 -0.34375 \nQ 39.109375 -1.421875 33.890625 -1.421875 \nQ 20.796875 -1.421875 13.15625 6.1875 \nQ 5.515625 13.8125 5.515625 26.8125 \nQ 5.515625 40.234375 12.765625 48.109375 \nQ 20.015625 56 32.328125 56 \nQ 43.359375 56 49.78125 48.890625 \nQ 56.203125 41.796875 56.203125 29.59375 \nz\nM 47.21875 32.234375 \nQ 47.125 39.59375 43.09375 43.984375 \nQ 39.0625 48.390625 32.421875 48.390625 \nQ 24.90625 48.390625 20.390625 44.140625 \nQ 15.875 39.890625 15.1875 32.171875 \nz\n\" id=\"DejaVuSans-101\"/>\n      <path id=\"DejaVuSans-32\"/>\n      <path d=\"M 19.671875 64.796875 \nL 19.671875 37.40625 \nL 32.078125 37.40625 \nQ 38.96875 37.40625 42.71875 40.96875 \nQ 46.484375 44.53125 46.484375 51.125 \nQ 46.484375 57.671875 42.71875 61.234375 \nQ 38.96875 64.796875 32.078125 64.796875 \nz\nM 9.8125 72.90625 \nL 32.078125 72.90625 \nQ 44.34375 72.90625 50.609375 67.359375 \nQ 56.890625 61.8125 56.890625 51.125 \nQ 56.890625 40.328125 50.609375 34.8125 \nQ 44.34375 29.296875 32.078125 29.296875 \nL 19.671875 29.296875 \nL 19.671875 0 \nL 9.8125 0 \nz\n\" id=\"DejaVuSans-80\"/>\n      <path d=\"M 30.609375 48.390625 \nQ 23.390625 48.390625 19.1875 42.75 \nQ 14.984375 37.109375 14.984375 27.296875 \nQ 14.984375 17.484375 19.15625 11.84375 \nQ 23.34375 6.203125 30.609375 6.203125 \nQ 37.796875 6.203125 41.984375 11.859375 \nQ 46.1875 17.53125 46.1875 27.296875 \nQ 46.1875 37.015625 41.984375 42.703125 \nQ 37.796875 48.390625 30.609375 48.390625 \nz\nM 30.609375 56 \nQ 42.328125 56 49.015625 48.375 \nQ 55.71875 40.765625 55.71875 27.296875 \nQ 55.71875 13.875 49.015625 6.21875 \nQ 42.328125 -1.421875 30.609375 -1.421875 \nQ 18.84375 -1.421875 12.171875 6.21875 \nQ 5.515625 13.875 5.515625 27.296875 \nQ 5.515625 40.765625 12.171875 48.375 \nQ 18.84375 56 30.609375 56 \nz\n\" id=\"DejaVuSans-111\"/>\n      <path d=\"M 9.421875 54.6875 \nL 18.40625 54.6875 \nL 18.40625 0 \nL 9.421875 0 \nz\nM 9.421875 75.984375 \nL 18.40625 75.984375 \nL 18.40625 64.59375 \nL 9.421875 64.59375 \nz\n\" id=\"DejaVuSans-105\"/>\n      <path d=\"M 18.3125 70.21875 \nL 18.3125 54.6875 \nL 36.8125 54.6875 \nL 36.8125 47.703125 \nL 18.3125 47.703125 \nL 18.3125 18.015625 \nQ 18.3125 11.328125 20.140625 9.421875 \nQ 21.96875 7.515625 27.59375 7.515625 \nL 36.8125 7.515625 \nL 36.8125 0 \nL 27.59375 0 \nQ 17.1875 0 13.234375 3.875 \nQ 9.28125 7.765625 9.28125 18.015625 \nL 9.28125 47.703125 \nL 2.6875 47.703125 \nL 2.6875 54.6875 \nL 9.28125 54.6875 \nL 9.28125 70.21875 \nz\n\" id=\"DejaVuSans-116\"/>\n      <path d=\"M 2.984375 54.6875 \nL 12.5 54.6875 \nL 29.59375 8.796875 \nL 46.6875 54.6875 \nL 56.203125 54.6875 \nL 35.6875 0 \nL 23.484375 0 \nz\n\" id=\"DejaVuSans-118\"/>\n      <path d=\"M 44.390625 34.1875 \nQ 47.5625 33.109375 50.5625 29.59375 \nQ 53.5625 26.078125 56.59375 19.921875 \nL 66.609375 0 \nL 56 0 \nL 46.6875 18.703125 \nQ 43.0625 26.03125 39.671875 28.421875 \nQ 36.28125 30.8125 30.421875 30.8125 \nL 19.671875 30.8125 \nL 19.671875 0 \nL 9.8125 0 \nL 9.8125 72.90625 \nL 32.078125 72.90625 \nQ 44.578125 72.90625 50.734375 67.671875 \nQ 56.890625 62.453125 56.890625 51.90625 \nQ 56.890625 45.015625 53.6875 40.46875 \nQ 50.484375 35.9375 44.390625 34.1875 \nz\nM 19.671875 64.796875 \nL 19.671875 38.921875 \nL 32.078125 38.921875 \nQ 39.203125 38.921875 42.84375 42.21875 \nQ 46.484375 45.515625 46.484375 51.90625 \nQ 46.484375 58.296875 42.84375 61.546875 \nQ 39.203125 64.796875 32.078125 64.796875 \nz\n\" id=\"DejaVuSans-82\"/>\n     </defs>\n     <g transform=\"translate(164.714844 376.754687)scale(0.1 -0.1)\">\n      <use xlink:href=\"#DejaVuSans-70\"/>\n      <use x=\"48.394531\" xlink:href=\"#DejaVuSans-97\"/>\n      <use x=\"109.673828\" xlink:href=\"#DejaVuSans-108\"/>\n      <use x=\"137.457031\" xlink:href=\"#DejaVuSans-115\"/>\n      <use x=\"189.556641\" xlink:href=\"#DejaVuSans-101\"/>\n      <use x=\"251.080078\" xlink:href=\"#DejaVuSans-32\"/>\n      <use x=\"282.867188\" xlink:href=\"#DejaVuSans-80\"/>\n      <use x=\"339.544922\" xlink:href=\"#DejaVuSans-111\"/>\n      <use x=\"400.726562\" xlink:href=\"#DejaVuSans-115\"/>\n      <use x=\"452.826172\" xlink:href=\"#DejaVuSans-105\"/>\n      <use x=\"480.609375\" xlink:href=\"#DejaVuSans-116\"/>\n      <use x=\"519.818359\" xlink:href=\"#DejaVuSans-105\"/>\n      <use x=\"547.601562\" xlink:href=\"#DejaVuSans-118\"/>\n      <use x=\"606.78125\" xlink:href=\"#DejaVuSans-101\"/>\n      <use x=\"668.304688\" xlink:href=\"#DejaVuSans-32\"/>\n      <use x=\"700.091797\" xlink:href=\"#DejaVuSans-82\"/>\n      <use x=\"767.324219\" xlink:href=\"#DejaVuSans-97\"/>\n      <use x=\"828.603516\" xlink:href=\"#DejaVuSans-116\"/>\n      <use x=\"867.8125\" xlink:href=\"#DejaVuSans-101\"/>\n     </g>\n    </g>\n   </g>\n   <g id=\"matplotlib.axis_2\">\n    <g id=\"ytick_1\">\n     <g id=\"line2d_7\">\n      <defs>\n       <path d=\"M 0 0 \nL -3.5 0 \n\" id=\"m5ffecbc075\" style=\"stroke:#000000;stroke-width:0.8;\"/>\n      </defs>\n      <g>\n       <use style=\"stroke:#000000;stroke-width:0.8;\" x=\"43.78125\" xlink:href=\"#m5ffecbc075\" y=\"333.65267\"/>\n      </g>\n     </g>\n     <g id=\"text_8\">\n      <!-- 0.0 -->\n      <g transform=\"translate(20.878125 337.451889)scale(0.1 -0.1)\">\n       <use xlink:href=\"#DejaVuSans-48\"/>\n       <use x=\"63.623047\" xlink:href=\"#DejaVuSans-46\"/>\n       <use x=\"95.410156\" xlink:href=\"#DejaVuSans-48\"/>\n      </g>\n     </g>\n    </g>\n    <g id=\"ytick_2\">\n     <g id=\"line2d_8\">\n      <g>\n       <use style=\"stroke:#000000;stroke-width:0.8;\" x=\"43.78125\" xlink:href=\"#m5ffecbc075\" y=\"274.350852\"/>\n      </g>\n     </g>\n     <g id=\"text_9\">\n      <!-- 0.2 -->\n      <g transform=\"translate(20.878125 278.150071)scale(0.1 -0.1)\">\n       <use xlink:href=\"#DejaVuSans-48\"/>\n       <use x=\"63.623047\" xlink:href=\"#DejaVuSans-46\"/>\n       <use x=\"95.410156\" xlink:href=\"#DejaVuSans-50\"/>\n      </g>\n     </g>\n    </g>\n    <g id=\"ytick_3\">\n     <g id=\"line2d_9\">\n      <g>\n       <use style=\"stroke:#000000;stroke-width:0.8;\" x=\"43.78125\" xlink:href=\"#m5ffecbc075\" y=\"215.049034\"/>\n      </g>\n     </g>\n     <g id=\"text_10\">\n      <!-- 0.4 -->\n      <g transform=\"translate(20.878125 218.848253)scale(0.1 -0.1)\">\n       <use xlink:href=\"#DejaVuSans-48\"/>\n       <use x=\"63.623047\" xlink:href=\"#DejaVuSans-46\"/>\n       <use x=\"95.410156\" xlink:href=\"#DejaVuSans-52\"/>\n      </g>\n     </g>\n    </g>\n    <g id=\"ytick_4\">\n     <g id=\"line2d_10\">\n      <g>\n       <use style=\"stroke:#000000;stroke-width:0.8;\" x=\"43.78125\" xlink:href=\"#m5ffecbc075\" y=\"155.747216\"/>\n      </g>\n     </g>\n     <g id=\"text_11\">\n      <!-- 0.6 -->\n      <g transform=\"translate(20.878125 159.546435)scale(0.1 -0.1)\">\n       <use xlink:href=\"#DejaVuSans-48\"/>\n       <use x=\"63.623047\" xlink:href=\"#DejaVuSans-46\"/>\n       <use x=\"95.410156\" xlink:href=\"#DejaVuSans-54\"/>\n      </g>\n     </g>\n    </g>\n    <g id=\"ytick_5\">\n     <g id=\"line2d_11\">\n      <g>\n       <use style=\"stroke:#000000;stroke-width:0.8;\" x=\"43.78125\" xlink:href=\"#m5ffecbc075\" y=\"96.445398\"/>\n      </g>\n     </g>\n     <g id=\"text_12\">\n      <!-- 0.8 -->\n      <g transform=\"translate(20.878125 100.244616)scale(0.1 -0.1)\">\n       <use xlink:href=\"#DejaVuSans-48\"/>\n       <use x=\"63.623047\" xlink:href=\"#DejaVuSans-46\"/>\n       <use x=\"95.410156\" xlink:href=\"#DejaVuSans-56\"/>\n      </g>\n     </g>\n    </g>\n    <g id=\"ytick_6\">\n     <g id=\"line2d_12\">\n      <g>\n       <use style=\"stroke:#000000;stroke-width:0.8;\" x=\"43.78125\" xlink:href=\"#m5ffecbc075\" y=\"37.14358\"/>\n      </g>\n     </g>\n     <g id=\"text_13\">\n      <!-- 1.0 -->\n      <g transform=\"translate(20.878125 40.942798)scale(0.1 -0.1)\">\n       <use xlink:href=\"#DejaVuSans-49\"/>\n       <use x=\"63.623047\" xlink:href=\"#DejaVuSans-46\"/>\n       <use x=\"95.410156\" xlink:href=\"#DejaVuSans-48\"/>\n      </g>\n     </g>\n    </g>\n    <g id=\"text_14\">\n     <!-- True Positive Rate -->\n     <defs>\n      <path d=\"M -0.296875 72.90625 \nL 61.375 72.90625 \nL 61.375 64.59375 \nL 35.5 64.59375 \nL 35.5 0 \nL 25.59375 0 \nL 25.59375 64.59375 \nL -0.296875 64.59375 \nz\n\" id=\"DejaVuSans-84\"/>\n      <path d=\"M 41.109375 46.296875 \nQ 39.59375 47.171875 37.8125 47.578125 \nQ 36.03125 48 33.890625 48 \nQ 26.265625 48 22.1875 43.046875 \nQ 18.109375 38.09375 18.109375 28.8125 \nL 18.109375 0 \nL 9.078125 0 \nL 9.078125 54.6875 \nL 18.109375 54.6875 \nL 18.109375 46.1875 \nQ 20.953125 51.171875 25.484375 53.578125 \nQ 30.03125 56 36.53125 56 \nQ 37.453125 56 38.578125 55.875 \nQ 39.703125 55.765625 41.0625 55.515625 \nz\n\" id=\"DejaVuSans-114\"/>\n      <path d=\"M 8.5 21.578125 \nL 8.5 54.6875 \nL 17.484375 54.6875 \nL 17.484375 21.921875 \nQ 17.484375 14.15625 20.5 10.265625 \nQ 23.53125 6.390625 29.59375 6.390625 \nQ 36.859375 6.390625 41.078125 11.03125 \nQ 45.3125 15.671875 45.3125 23.6875 \nL 45.3125 54.6875 \nL 54.296875 54.6875 \nL 54.296875 0 \nL 45.3125 0 \nL 45.3125 8.40625 \nQ 42.046875 3.421875 37.71875 1 \nQ 33.40625 -1.421875 27.6875 -1.421875 \nQ 18.265625 -1.421875 13.375 4.4375 \nQ 8.5 10.296875 8.5 21.578125 \nz\nM 31.109375 56 \nz\n\" id=\"DejaVuSans-117\"/>\n     </defs>\n     <g transform=\"translate(14.798438 229.927812)rotate(-90)scale(0.1 -0.1)\">\n      <use xlink:href=\"#DejaVuSans-84\"/>\n      <use x=\"46.333984\" xlink:href=\"#DejaVuSans-114\"/>\n      <use x=\"87.447266\" xlink:href=\"#DejaVuSans-117\"/>\n      <use x=\"150.826172\" xlink:href=\"#DejaVuSans-101\"/>\n      <use x=\"212.349609\" xlink:href=\"#DejaVuSans-32\"/>\n      <use x=\"244.136719\" xlink:href=\"#DejaVuSans-80\"/>\n      <use x=\"300.814453\" xlink:href=\"#DejaVuSans-111\"/>\n      <use x=\"361.996094\" xlink:href=\"#DejaVuSans-115\"/>\n      <use x=\"414.095703\" xlink:href=\"#DejaVuSans-105\"/>\n      <use x=\"441.878906\" xlink:href=\"#DejaVuSans-116\"/>\n      <use x=\"481.087891\" xlink:href=\"#DejaVuSans-105\"/>\n      <use x=\"508.871094\" xlink:href=\"#DejaVuSans-118\"/>\n      <use x=\"568.050781\" xlink:href=\"#DejaVuSans-101\"/>\n      <use x=\"629.574219\" xlink:href=\"#DejaVuSans-32\"/>\n      <use x=\"661.361328\" xlink:href=\"#DejaVuSans-82\"/>\n      <use x=\"728.59375\" xlink:href=\"#DejaVuSans-97\"/>\n      <use x=\"789.873047\" xlink:href=\"#DejaVuSans-116\"/>\n      <use x=\"829.082031\" xlink:href=\"#DejaVuSans-101\"/>\n     </g>\n    </g>\n   </g>\n   <g id=\"line2d_13\">\n    <path clip-path=\"url(#pb90049ffdb)\" d=\"M 58.999432 333.65267 \nL 58.999432 312.666867 \nL 59.295218 312.666867 \nL 59.295218 306.912695 \nL 59.591004 306.912695 \nL 59.591004 301.158524 \nL 59.886789 301.158524 \nL 59.886789 296.419794 \nL 60.182575 296.419794 \nL 60.182575 291.681064 \nL 60.478361 291.681064 \nL 60.478361 288.634738 \nL 60.774147 288.634738 \nL 60.774147 284.572969 \nL 61.069933 284.572969 \nL 61.069933 280.849682 \nL 61.365719 280.849682 \nL 61.365719 280.17272 \nL 61.661504 280.17272 \nL 61.661504 278.141836 \nL 61.95729 278.141836 \nL 61.95729 271.710703 \nL 62.253076 271.710703 \nL 62.253076 270.018299 \nL 62.548862 270.018299 \nL 62.548862 266.633492 \nL 63.140434 266.633492 \nL 63.140434 259.525398 \nL 63.43622 259.525398 \nL 63.43622 258.848436 \nL 63.732005 258.848436 \nL 63.732005 258.171475 \nL 64.027791 258.171475 \nL 64.027791 257.156033 \nL 64.915149 257.156033 \nL 64.915149 256.140591 \nL 65.210935 256.140591 \nL 65.210935 255.463629 \nL 65.50672 255.463629 \nL 65.50672 253.771226 \nL 65.802506 253.771226 \nL 65.802506 252.755784 \nL 66.098292 252.755784 \nL 66.098292 252.078822 \nL 66.394078 251.740342 \nL 66.394078 251.06338 \nL 66.689864 251.06338 \nL 66.689864 248.694015 \nL 66.98565 248.694015 \nL 66.98565 247.678573 \nL 67.281436 247.678573 \nL 67.281436 245.647689 \nL 67.577221 245.647689 \nL 67.577221 245.309208 \nL 67.873007 245.309208 \nL 67.873007 244.632247 \nL 68.168793 244.632247 \nL 68.168793 244.293766 \nL 68.464579 244.293766 \nL 68.464579 243.616805 \nL 68.760365 243.616805 \nL 68.760365 242.262882 \nL 69.056151 242.262882 \nL 69.056151 241.585921 \nL 69.351936 241.585921 \nL 69.351936 240.908959 \nL 69.647722 240.908959 \nL 69.647722 238.878075 \nL 69.943508 238.878075 \nL 69.943508 238.201114 \nL 70.239294 238.201114 \nL 70.239294 237.524152 \nL 70.830866 237.524152 \nL 70.830866 237.185672 \nL 71.126652 237.185672 \nL 71.126652 236.50871 \nL 71.422437 236.50871 \nL 71.422437 235.493268 \nL 71.718223 235.493268 \nL 71.718223 234.816307 \nL 72.014009 234.816307 \nL 72.014009 234.477826 \nL 72.309795 234.477826 \nL 72.309795 232.108461 \nL 72.901367 231.4315 \nL 72.901367 230.754538 \nL 73.197152 230.754538 \nL 73.197152 228.723654 \nL 73.492938 228.723654 \nL 73.492938 228.046693 \nL 73.788724 228.046693 \nL 73.788724 224.661886 \nL 74.380296 224.661886 \nL 74.380296 223.307963 \nL 74.676082 223.307963 \nL 74.676082 221.61556 \nL 74.971868 221.61556 \nL 74.971868 219.584675 \nL 75.563439 219.584675 \nL 75.563439 219.246195 \nL 75.859225 219.246195 \nL 75.859225 218.569233 \nL 76.155011 218.569233 \nL 76.155011 218.230753 \nL 76.450797 218.230753 \nL 76.450797 217.553791 \nL 76.746583 217.553791 \nL 76.746583 214.168984 \nL 77.338154 214.168984 \nL 77.338154 211.799619 \nL 77.63394 211.799619 \nL 77.63394 210.445697 \nL 77.929726 210.445697 \nL 77.929726 209.430255 \nL 78.521298 209.430255 \nL 78.521298 204.353044 \nL 79.408655 204.353044 \nL 79.408655 200.629756 \nL 79.704441 200.629756 \nL 79.704441 198.937353 \nL 80.000227 198.937353 \nL 80.000227 198.598872 \nL 80.296013 198.598872 \nL 80.296013 196.567988 \nL 80.591799 196.567988 \nL 80.591799 194.875585 \nL 80.887584 194.875585 \nL 80.887584 193.183181 \nL 81.18337 193.183181 \nL 81.18337 191.152297 \nL 81.479156 191.152297 \nL 81.479156 190.475335 \nL 81.774942 190.475335 \nL 81.774942 189.798374 \nL 82.070728 189.798374 \nL 82.070728 189.459893 \nL 82.366514 189.459893 \nL 82.366514 189.121413 \nL 82.6623 189.121413 \nL 82.6623 187.090528 \nL 82.958085 187.090528 \nL 82.958085 185.059644 \nL 83.253871 185.059644 \nL 83.253871 184.044202 \nL 83.549657 184.044202 \nL 83.549657 182.690279 \nL 83.845443 182.690279 \nL 83.845443 182.013318 \nL 84.437015 182.013318 \nL 84.437015 180.320915 \nL 84.7328 180.320915 \nL 84.7328 179.982434 \nL 85.028586 179.982434 \nL 85.028586 179.305472 \nL 86.21173 179.305472 \nL 86.21173 178.29003 \nL 86.507516 178.29003 \nL 86.507516 176.936108 \nL 86.803301 176.936108 \nL 86.803301 176.597627 \nL 87.099087 176.597627 \nL 87.099087 175.582185 \nL 87.394873 175.582185 \nL 87.394873 175.243704 \nL 87.690659 175.243704 \nL 87.690659 174.905223 \nL 87.986445 174.905223 \nL 87.986445 173.551301 \nL 88.282231 172.535858 \nL 88.282231 170.843455 \nL 89.169588 170.843455 \nL 89.169588 170.166494 \nL 89.465374 170.166494 \nL 89.465374 169.489532 \nL 89.76116 169.489532 \nL 89.76116 167.120167 \nL 90.056946 167.120167 \nL 90.056946 166.443206 \nL 90.648517 166.443206 \nL 90.648517 165.089283 \nL 90.944303 165.089283 \nL 90.944303 164.750802 \nL 91.240089 164.750802 \nL 91.240089 163.39688 \nL 91.535875 163.39688 \nL 91.535875 160.689034 \nL 91.831661 160.689034 \nL 91.831661 159.673592 \nL 92.423233 159.673592 \nL 92.423233 159.335111 \nL 92.719018 158.996631 \nL 92.719018 157.642708 \nL 93.014804 157.642708 \nL 93.014804 156.288785 \nL 93.31059 156.288785 \nL 93.31059 154.934862 \nL 93.902162 154.934862 \nL 93.902162 153.242459 \nL 94.197948 153.242459 \nL 94.197948 152.565497 \nL 94.789519 152.565497 \nL 94.789519 152.227017 \nL 95.085305 152.227017 \nL 95.085305 151.550055 \nL 96.268449 151.550055 \nL 96.268449 149.857652 \nL 96.564234 149.857652 \nL 96.564234 148.503729 \nL 96.86002 148.165248 \nL 96.86002 146.134364 \nL 97.155806 146.134364 \nL 97.155806 145.118922 \nL 97.747378 145.118922 \nL 97.747378 144.780441 \nL 99.226307 144.780441 \nL 99.226307 144.10348 \nL 99.817879 144.10348 \nL 99.817879 143.426519 \nL 100.113665 143.426519 \nL 100.113665 142.411076 \nL 101.296808 142.411076 \nL 101.296808 140.380192 \nL 101.592594 140.380192 \nL 101.592594 139.703231 \nL 102.479951 139.703231 \nL 102.479951 139.36475 \nL 103.071523 139.36475 \nL 103.071523 139.026269 \nL 103.367309 139.026269 \nL 103.367309 138.687789 \nL 103.958881 138.687789 \nL 103.958881 137.672347 \nL 104.254666 137.672347 \nL 104.254666 134.964501 \nL 104.846238 134.964501 \nL 104.846238 133.272098 \nL 105.733596 133.272098 \nL 105.733596 132.933617 \nL 106.029381 132.595136 \nL 106.029381 131.918175 \nL 106.325167 131.918175 \nL 106.325167 131.579694 \nL 106.620953 131.579694 \nL 106.620953 131.241213 \nL 107.212525 131.241213 \nL 107.212525 130.902733 \nL 107.804097 130.902733 \nL 107.804097 130.564252 \nL 108.395668 130.564252 \nL 108.395668 130.225771 \nL 108.691454 130.225771 \nL 108.691454 127.856406 \nL 109.578812 126.502484 \nL 109.578812 125.487042 \nL 110.170383 125.487042 \nL 110.170383 124.471599 \nL 110.466169 124.471599 \nL 110.466169 123.456157 \nL 111.057741 123.456157 \nL 111.057741 122.440715 \nL 111.649313 122.440715 \nL 111.649313 122.102235 \nL 112.240884 122.102235 \nL 112.240884 120.409831 \nL 112.53667 120.409831 \nL 112.53667 119.73287 \nL 113.128242 119.73287 \nL 113.128242 118.717428 \nL 113.719813 118.717428 \nL 113.719813 118.378947 \nL 114.015599 118.378947 \nL 114.015599 117.701986 \nL 114.902957 117.701986 \nL 114.902957 116.348063 \nL 115.494529 116.348063 \nL 115.494529 115.332621 \nL 115.790314 115.332621 \nL 115.790314 114.99414 \nL 116.0861 114.99414 \nL 116.0861 114.317179 \nL 116.381886 114.317179 \nL 116.381886 113.978698 \nL 116.677672 113.978698 \nL 116.677672 113.640217 \nL 117.269244 113.640217 \nL 117.269244 112.286294 \nL 117.565029 112.286294 \nL 117.565029 111.947814 \nL 119.339745 111.947814 \nL 119.339745 111.609333 \nL 119.63553 111.609333 \nL 119.63553 111.270852 \nL 120.227102 111.270852 \nL 120.227102 110.593891 \nL 120.818674 110.593891 \nL 120.818674 109.916929 \nL 121.11446 109.916929 \nL 121.11446 109.239968 \nL 121.410245 109.239968 \nL 121.410245 108.563007 \nL 121.706031 108.563007 \nL 121.706031 108.224526 \nL 122.297603 108.224526 \nL 122.297603 107.547565 \nL 122.593389 107.547565 \nL 122.593389 107.209084 \nL 123.480746 107.209084 \nL 123.480746 106.870603 \nL 123.776532 106.870603 \nL 123.776532 106.532123 \nL 125.551247 106.532123 \nL 125.551247 104.501238 \nL 125.847033 104.501238 \nL 125.847033 104.162758 \nL 126.438605 104.162758 \nL 126.438605 103.824277 \nL 130.875393 98.408586 \nL 130.875393 98.070105 \nL 131.466964 98.070105 \nL 131.466964 97.731624 \nL 132.058536 97.731624 \nL 132.058536 97.393144 \nL 132.354322 97.393144 \nL 132.354322 97.054663 \nL 132.650108 97.054663 \nL 132.650108 96.716182 \nL 133.241679 96.716182 \nL 133.241679 96.039221 \nL 134.129037 96.039221 \nL 134.129037 95.023779 \nL 135.016394 95.023779 \nL 135.016394 94.685298 \nL 136.199538 94.685298 \nL 136.199538 94.008337 \nL 137.382681 94.008337 \nL 137.382681 93.331375 \nL 137.678467 93.331375 \nL 137.974253 92.992895 \nL 138.565825 92.992895 \nL 138.565825 92.654414 \nL 139.453182 92.654414 \nL 139.453182 92.315933 \nL 139.748968 92.315933 \nL 139.748968 90.62353 \nL 140.636326 90.62353 \nL 140.636326 90.285049 \nL 140.932111 90.285049 \nL 140.932111 89.946568 \nL 142.706826 89.946568 \nL 143.002612 89.608088 \nL 143.002612 89.269607 \nL 143.298398 89.269607 \nL 143.88997 88.931126 \nL 143.88997 88.592646 \nL 144.185756 88.592646 \nL 145.664685 87.915684 \nL 146.552042 87.915684 \nL 146.552042 87.577203 \nL 147.4394 87.577203 \nL 147.4394 87.238723 \nL 147.735186 87.238723 \nL 147.735186 86.900242 \nL 148.030972 86.900242 \nL 148.030972 86.561761 \nL 148.918329 86.561761 \nL 148.918329 85.8848 \nL 149.805687 85.8848 \nL 149.805687 85.546319 \nL 150.98883 85.546319 \nL 150.98883 85.207839 \nL 152.171974 85.207839 \nL 152.467759 84.869358 \nL 152.467759 84.530877 \nL 154.242474 84.530877 \nL 154.242474 83.853916 \nL 154.53826 83.853916 \nL 154.53826 82.838474 \nL 154.834046 82.838474 \nL 154.834046 82.499993 \nL 156.904547 82.499993 \nL 156.904547 82.161512 \nL 157.496119 82.161512 \nL 157.496119 81.823032 \nL 157.791905 81.823032 \nL 157.791905 81.484551 \nL 158.08769 81.484551 \nL 158.08769 81.14607 \nL 158.679262 81.14607 \nL 158.679262 80.469109 \nL 159.270834 80.469109 \nL 159.270834 80.130628 \nL 162.820264 80.130628 \nL 164.299193 78.776705 \nL 164.299193 78.099744 \nL 164.594979 78.099744 \nL 164.594979 77.761263 \nL 165.186551 77.761263 \nL 165.186551 76.745821 \nL 165.482337 76.745821 \nL 165.482337 76.06886 \nL 165.778123 76.06886 \nL 165.778123 75.391898 \nL 166.369694 75.391898 \nL 166.369694 75.053418 \nL 166.961266 75.053418 \nL 166.961266 74.714937 \nL 168.144409 74.714937 \nL 168.144409 73.699495 \nL 170.21491 73.699495 \nL 170.21491 73.361014 \nL 170.806482 73.361014 \nL 170.806482 72.684053 \nL 171.102268 72.684053 \nL 171.102268 72.345572 \nL 171.989625 72.345572 \nL 171.989625 72.007091 \nL 174.355912 72.007091 \nL 174.355912 71.668611 \nL 176.722199 71.668611 \nL 176.722199 71.33013 \nL 177.017985 71.33013 \nL 177.017985 70.991649 \nL 177.609556 70.991649 \nL 177.609556 70.653169 \nL 178.7927 70.653169 \nL 178.7927 70.314688 \nL 179.384271 70.314688 \nL 179.384271 69.637726 \nL 179.680057 69.637726 \nL 179.680057 69.299246 \nL 180.863201 69.299246 \nL 180.863201 68.960765 \nL 181.750558 68.960765 \nL 181.750558 68.622284 \nL 182.637916 68.622284 \nL 182.637916 68.283804 \nL 183.229487 68.283804 \nL 183.229487 67.606842 \nL 183.525273 67.606842 \nL 183.525273 67.268362 \nL 185.299988 67.268362 \nL 185.299988 66.5914 \nL 186.187346 66.5914 \nL 186.187346 66.25292 \nL 189.145204 66.25292 \nL 189.145204 65.237477 \nL 195.652493 65.237477 \nL 195.652493 64.898997 \nL 199.201923 64.898997 \nL 199.201923 64.560516 \nL 199.793495 64.560516 \nL 199.793495 63.883555 \nL 200.089281 63.883555 \nL 200.089281 63.206593 \nL 201.272424 63.206593 \nL 201.272424 62.868113 \nL 203.934497 62.868113 \nL 203.934497 62.529632 \nL 205.413426 62.529632 \nL 205.413426 61.85267 \nL 206.300784 61.85267 \nL 206.300784 61.51419 \nL 206.596569 61.51419 \nL 206.596569 61.175709 \nL 207.188141 61.175709 \nL 207.188141 60.837228 \nL 207.779713 60.837228 \nL 207.779713 60.498748 \nL 208.075499 60.498748 \nL 208.075499 60.160267 \nL 208.371284 60.160267 \nL 208.371284 59.821786 \nL 209.554428 59.821786 \nL 209.554428 59.483306 \nL 210.146 59.483306 \nL 210.146 59.144825 \nL 211.624929 59.144825 \nL 211.624929 58.806344 \nL 212.808072 58.806344 \nL 212.808072 58.467863 \nL 213.103858 58.467863 \nL 213.103858 58.129383 \nL 213.69543 58.129383 \nL 213.69543 57.790902 \nL 215.470145 57.790902 \nL 215.470145 56.77546 \nL 215.765931 56.436979 \nL 221.385862 56.436979 \nL 221.385862 56.098499 \nL 222.864791 56.098499 \nL 222.864791 55.760018 \nL 224.34372 55.760018 \nL 224.34372 55.421537 \nL 224.639506 55.421537 \nL 224.639506 55.083057 \nL 226.414221 55.083057 \nL 226.414221 54.744576 \nL 227.301579 54.744576 \nL 227.301579 54.406095 \nL 228.188936 54.406095 \nL 228.188936 54.067614 \nL 228.484722 54.067614 \nL 228.484722 53.390653 \nL 229.667865 53.390653 \nL 229.667865 52.375211 \nL 232.625724 52.375211 \nL 232.625724 52.03673 \nL 233.217296 52.03673 \nL 233.217296 51.359769 \nL 233.513081 51.359769 \nL 233.513081 51.021288 \nL 234.696225 51.021288 \nL 234.696225 50.682807 \nL 235.287797 50.682807 \nL 235.287797 50.344327 \nL 235.583582 50.344327 \nL 235.583582 50.005846 \nL 236.766726 50.005846 \nL 236.766726 49.667365 \nL 239.724584 49.667365 \nL 239.724584 49.328885 \nL 243.274014 49.328885 \nL 243.274014 48.990404 \nL 246.231873 48.990404 \nL 246.231873 48.651923 \nL 246.527659 48.651923 \nL 246.527659 48.313443 \nL 248.893945 48.313443 \nL 248.893945 47.974962 \nL 249.781303 47.974962 \nL 249.781303 47.636481 \nL 255.992806 47.636481 \nL 255.992806 47.298 \nL 256.584377 47.298 \nL 256.584377 46.95952 \nL 257.767521 46.95952 \nL 257.767521 46.621039 \nL 258.654878 46.621039 \nL 258.654878 46.282558 \nL 259.838022 46.282558 \nL 259.838022 45.944078 \nL 260.133808 45.944078 \nL 260.133808 45.267116 \nL 262.79588 45.267116 \nL 262.79588 44.928636 \nL 265.753739 44.928636 \nL 265.753739 44.251674 \nL 269.303169 44.251674 \nL 269.303169 43.574713 \nL 278.47253 43.574713 \nL 278.47253 43.236232 \nL 287.937677 43.236232 \nL 287.937677 42.897751 \nL 290.008178 42.897751 \nL 290.008178 42.559271 \nL 295.628109 42.559271 \nL 295.628109 42.22079 \nL 299.473325 42.22079 \nL 299.473325 41.882309 \nL 300.064897 41.882309 \nL 300.064897 41.543829 \nL 302.431184 41.543829 \nL 302.431184 41.205348 \nL 316.628904 41.205348 \nL 316.628904 40.866867 \nL 320.47412 40.866867 \nL 320.47412 40.528387 \nL 321.065692 40.528387 \nL 321.065692 40.189906 \nL 327.868767 40.189906 \nL 327.868767 39.851425 \nL 331.713983 39.851425 \nL 331.713983 39.512944 \nL 332.305554 39.512944 \nL 332.305554 39.174464 \nL 334.080269 39.174464 \nL 334.080269 38.835983 \nL 336.446556 38.835983 \nL 336.446556 38.497502 \nL 336.742342 38.497502 \nL 336.742342 38.159022 \nL 339.7002 38.159022 \nL 339.7002 37.820541 \nL 354.489493 37.820541 \nL 354.489493 37.48206 \nL 360.996781 37.48206 \nL 360.996781 37.14358 \nL 363.363068 37.14358 \nL 363.363068 37.14358 \n\" style=\"fill:none;stroke:#ffa500;stroke-linecap:square;stroke-width:1.5;\"/>\n   </g>\n   <g id=\"line2d_14\">\n    <path clip-path=\"url(#pb90049ffdb)\" d=\"M 58.999432 333.65267 \nL 363.363068 37.14358 \n\" style=\"fill:none;stroke:#00008b;stroke-dasharray:5.55,2.4;stroke-dashoffset:0;stroke-width:1.5;\"/>\n   </g>\n   <g id=\"patch_3\">\n    <path d=\"M 43.78125 348.478125 \nL 43.78125 22.318125 \n\" style=\"fill:none;stroke:#000000;stroke-linecap:square;stroke-linejoin:miter;stroke-width:0.8;\"/>\n   </g>\n   <g id=\"patch_4\">\n    <path d=\"M 378.58125 348.478125 \nL 378.58125 22.318125 \n\" style=\"fill:none;stroke:#000000;stroke-linecap:square;stroke-linejoin:miter;stroke-width:0.8;\"/>\n   </g>\n   <g id=\"patch_5\">\n    <path d=\"M 43.78125 348.478125 \nL 378.58125 348.478125 \n\" style=\"fill:none;stroke:#000000;stroke-linecap:square;stroke-linejoin:miter;stroke-width:0.8;\"/>\n   </g>\n   <g id=\"patch_6\">\n    <path d=\"M 43.78125 22.318125 \nL 378.58125 22.318125 \n\" style=\"fill:none;stroke:#000000;stroke-linecap:square;stroke-linejoin:miter;stroke-width:0.8;\"/>\n   </g>\n   <g id=\"text_15\">\n    <!-- Receiver Operating Characteristic (ROC) Curve -->\n    <defs>\n     <path d=\"M 48.78125 52.59375 \nL 48.78125 44.1875 \nQ 44.96875 46.296875 41.140625 47.34375 \nQ 37.3125 48.390625 33.40625 48.390625 \nQ 24.65625 48.390625 19.8125 42.84375 \nQ 14.984375 37.3125 14.984375 27.296875 \nQ 14.984375 17.28125 19.8125 11.734375 \nQ 24.65625 6.203125 33.40625 6.203125 \nQ 37.3125 6.203125 41.140625 7.25 \nQ 44.96875 8.296875 48.78125 10.40625 \nL 48.78125 2.09375 \nQ 45.015625 0.34375 40.984375 -0.53125 \nQ 36.96875 -1.421875 32.421875 -1.421875 \nQ 20.0625 -1.421875 12.78125 6.34375 \nQ 5.515625 14.109375 5.515625 27.296875 \nQ 5.515625 40.671875 12.859375 48.328125 \nQ 20.21875 56 33.015625 56 \nQ 37.15625 56 41.109375 55.140625 \nQ 45.0625 54.296875 48.78125 52.59375 \nz\n\" id=\"DejaVuSans-99\"/>\n     <path d=\"M 39.40625 66.21875 \nQ 28.65625 66.21875 22.328125 58.203125 \nQ 16.015625 50.203125 16.015625 36.375 \nQ 16.015625 22.609375 22.328125 14.59375 \nQ 28.65625 6.59375 39.40625 6.59375 \nQ 50.140625 6.59375 56.421875 14.59375 \nQ 62.703125 22.609375 62.703125 36.375 \nQ 62.703125 50.203125 56.421875 58.203125 \nQ 50.140625 66.21875 39.40625 66.21875 \nz\nM 39.40625 74.21875 \nQ 54.734375 74.21875 63.90625 63.9375 \nQ 73.09375 53.65625 73.09375 36.375 \nQ 73.09375 19.140625 63.90625 8.859375 \nQ 54.734375 -1.421875 39.40625 -1.421875 \nQ 24.03125 -1.421875 14.8125 8.828125 \nQ 5.609375 19.09375 5.609375 36.375 \nQ 5.609375 53.65625 14.8125 63.9375 \nQ 24.03125 74.21875 39.40625 74.21875 \nz\n\" id=\"DejaVuSans-79\"/>\n     <path d=\"M 18.109375 8.203125 \nL 18.109375 -20.796875 \nL 9.078125 -20.796875 \nL 9.078125 54.6875 \nL 18.109375 54.6875 \nL 18.109375 46.390625 \nQ 20.953125 51.265625 25.265625 53.625 \nQ 29.59375 56 35.59375 56 \nQ 45.5625 56 51.78125 48.09375 \nQ 58.015625 40.1875 58.015625 27.296875 \nQ 58.015625 14.40625 51.78125 6.484375 \nQ 45.5625 -1.421875 35.59375 -1.421875 \nQ 29.59375 -1.421875 25.265625 0.953125 \nQ 20.953125 3.328125 18.109375 8.203125 \nz\nM 48.6875 27.296875 \nQ 48.6875 37.203125 44.609375 42.84375 \nQ 40.53125 48.484375 33.40625 48.484375 \nQ 26.265625 48.484375 22.1875 42.84375 \nQ 18.109375 37.203125 18.109375 27.296875 \nQ 18.109375 17.390625 22.1875 11.75 \nQ 26.265625 6.109375 33.40625 6.109375 \nQ 40.53125 6.109375 44.609375 11.75 \nQ 48.6875 17.390625 48.6875 27.296875 \nz\n\" id=\"DejaVuSans-112\"/>\n     <path d=\"M 54.890625 33.015625 \nL 54.890625 0 \nL 45.90625 0 \nL 45.90625 32.71875 \nQ 45.90625 40.484375 42.875 44.328125 \nQ 39.84375 48.1875 33.796875 48.1875 \nQ 26.515625 48.1875 22.3125 43.546875 \nQ 18.109375 38.921875 18.109375 30.90625 \nL 18.109375 0 \nL 9.078125 0 \nL 9.078125 54.6875 \nL 18.109375 54.6875 \nL 18.109375 46.1875 \nQ 21.34375 51.125 25.703125 53.5625 \nQ 30.078125 56 35.796875 56 \nQ 45.21875 56 50.046875 50.171875 \nQ 54.890625 44.34375 54.890625 33.015625 \nz\n\" id=\"DejaVuSans-110\"/>\n     <path d=\"M 45.40625 27.984375 \nQ 45.40625 37.75 41.375 43.109375 \nQ 37.359375 48.484375 30.078125 48.484375 \nQ 22.859375 48.484375 18.828125 43.109375 \nQ 14.796875 37.75 14.796875 27.984375 \nQ 14.796875 18.265625 18.828125 12.890625 \nQ 22.859375 7.515625 30.078125 7.515625 \nQ 37.359375 7.515625 41.375 12.890625 \nQ 45.40625 18.265625 45.40625 27.984375 \nz\nM 54.390625 6.78125 \nQ 54.390625 -7.171875 48.1875 -13.984375 \nQ 42 -20.796875 29.203125 -20.796875 \nQ 24.46875 -20.796875 20.265625 -20.09375 \nQ 16.0625 -19.390625 12.109375 -17.921875 \nL 12.109375 -9.1875 \nQ 16.0625 -11.328125 19.921875 -12.34375 \nQ 23.78125 -13.375 27.78125 -13.375 \nQ 36.625 -13.375 41.015625 -8.765625 \nQ 45.40625 -4.15625 45.40625 5.171875 \nL 45.40625 9.625 \nQ 42.625 4.78125 38.28125 2.390625 \nQ 33.9375 0 27.875 0 \nQ 17.828125 0 11.671875 7.65625 \nQ 5.515625 15.328125 5.515625 27.984375 \nQ 5.515625 40.671875 11.671875 48.328125 \nQ 17.828125 56 27.875 56 \nQ 33.9375 56 38.28125 53.609375 \nQ 42.625 51.21875 45.40625 46.390625 \nL 45.40625 54.6875 \nL 54.390625 54.6875 \nz\n\" id=\"DejaVuSans-103\"/>\n     <path d=\"M 64.40625 67.28125 \nL 64.40625 56.890625 \nQ 59.421875 61.53125 53.78125 63.8125 \nQ 48.140625 66.109375 41.796875 66.109375 \nQ 29.296875 66.109375 22.65625 58.46875 \nQ 16.015625 50.828125 16.015625 36.375 \nQ 16.015625 21.96875 22.65625 14.328125 \nQ 29.296875 6.6875 41.796875 6.6875 \nQ 48.140625 6.6875 53.78125 8.984375 \nQ 59.421875 11.28125 64.40625 15.921875 \nL 64.40625 5.609375 \nQ 59.234375 2.09375 53.4375 0.328125 \nQ 47.65625 -1.421875 41.21875 -1.421875 \nQ 24.65625 -1.421875 15.125 8.703125 \nQ 5.609375 18.84375 5.609375 36.375 \nQ 5.609375 53.953125 15.125 64.078125 \nQ 24.65625 74.21875 41.21875 74.21875 \nQ 47.75 74.21875 53.53125 72.484375 \nQ 59.328125 70.75 64.40625 67.28125 \nz\n\" id=\"DejaVuSans-67\"/>\n     <path d=\"M 54.890625 33.015625 \nL 54.890625 0 \nL 45.90625 0 \nL 45.90625 32.71875 \nQ 45.90625 40.484375 42.875 44.328125 \nQ 39.84375 48.1875 33.796875 48.1875 \nQ 26.515625 48.1875 22.3125 43.546875 \nQ 18.109375 38.921875 18.109375 30.90625 \nL 18.109375 0 \nL 9.078125 0 \nL 9.078125 75.984375 \nL 18.109375 75.984375 \nL 18.109375 46.1875 \nQ 21.34375 51.125 25.703125 53.5625 \nQ 30.078125 56 35.796875 56 \nQ 45.21875 56 50.046875 50.171875 \nQ 54.890625 44.34375 54.890625 33.015625 \nz\n\" id=\"DejaVuSans-104\"/>\n     <path d=\"M 31 75.875 \nQ 24.46875 64.65625 21.28125 53.65625 \nQ 18.109375 42.671875 18.109375 31.390625 \nQ 18.109375 20.125 21.3125 9.0625 \nQ 24.515625 -2 31 -13.1875 \nL 23.1875 -13.1875 \nQ 15.875 -1.703125 12.234375 9.375 \nQ 8.59375 20.453125 8.59375 31.390625 \nQ 8.59375 42.28125 12.203125 53.3125 \nQ 15.828125 64.359375 23.1875 75.875 \nz\n\" id=\"DejaVuSans-40\"/>\n     <path d=\"M 8.015625 75.875 \nL 15.828125 75.875 \nQ 23.140625 64.359375 26.78125 53.3125 \nQ 30.421875 42.28125 30.421875 31.390625 \nQ 30.421875 20.453125 26.78125 9.375 \nQ 23.140625 -1.703125 15.828125 -13.1875 \nL 8.015625 -13.1875 \nQ 14.5 -2 17.703125 9.0625 \nQ 20.90625 20.125 20.90625 31.390625 \nQ 20.90625 42.671875 17.703125 53.65625 \nQ 14.5 64.65625 8.015625 75.875 \nz\n\" id=\"DejaVuSans-41\"/>\n    </defs>\n    <g transform=\"translate(70.39875 16.318125)scale(0.12 -0.12)\">\n     <use xlink:href=\"#DejaVuSans-82\"/>\n     <use x=\"64.982422\" xlink:href=\"#DejaVuSans-101\"/>\n     <use x=\"126.505859\" xlink:href=\"#DejaVuSans-99\"/>\n     <use x=\"181.486328\" xlink:href=\"#DejaVuSans-101\"/>\n     <use x=\"243.009766\" xlink:href=\"#DejaVuSans-105\"/>\n     <use x=\"270.792969\" xlink:href=\"#DejaVuSans-118\"/>\n     <use x=\"329.972656\" xlink:href=\"#DejaVuSans-101\"/>\n     <use x=\"391.496094\" xlink:href=\"#DejaVuSans-114\"/>\n     <use x=\"432.609375\" xlink:href=\"#DejaVuSans-32\"/>\n     <use x=\"464.396484\" xlink:href=\"#DejaVuSans-79\"/>\n     <use x=\"543.107422\" xlink:href=\"#DejaVuSans-112\"/>\n     <use x=\"606.583984\" xlink:href=\"#DejaVuSans-101\"/>\n     <use x=\"668.107422\" xlink:href=\"#DejaVuSans-114\"/>\n     <use x=\"709.220703\" xlink:href=\"#DejaVuSans-97\"/>\n     <use x=\"770.5\" xlink:href=\"#DejaVuSans-116\"/>\n     <use x=\"809.708984\" xlink:href=\"#DejaVuSans-105\"/>\n     <use x=\"837.492188\" xlink:href=\"#DejaVuSans-110\"/>\n     <use x=\"900.871094\" xlink:href=\"#DejaVuSans-103\"/>\n     <use x=\"964.347656\" xlink:href=\"#DejaVuSans-32\"/>\n     <use x=\"996.134766\" xlink:href=\"#DejaVuSans-67\"/>\n     <use x=\"1065.958984\" xlink:href=\"#DejaVuSans-104\"/>\n     <use x=\"1129.337891\" xlink:href=\"#DejaVuSans-97\"/>\n     <use x=\"1190.617188\" xlink:href=\"#DejaVuSans-114\"/>\n     <use x=\"1231.730469\" xlink:href=\"#DejaVuSans-97\"/>\n     <use x=\"1293.009766\" xlink:href=\"#DejaVuSans-99\"/>\n     <use x=\"1347.990234\" xlink:href=\"#DejaVuSans-116\"/>\n     <use x=\"1387.199219\" xlink:href=\"#DejaVuSans-101\"/>\n     <use x=\"1448.722656\" xlink:href=\"#DejaVuSans-114\"/>\n     <use x=\"1489.835938\" xlink:href=\"#DejaVuSans-105\"/>\n     <use x=\"1517.619141\" xlink:href=\"#DejaVuSans-115\"/>\n     <use x=\"1569.71875\" xlink:href=\"#DejaVuSans-116\"/>\n     <use x=\"1608.927734\" xlink:href=\"#DejaVuSans-105\"/>\n     <use x=\"1636.710938\" xlink:href=\"#DejaVuSans-99\"/>\n     <use x=\"1691.691406\" xlink:href=\"#DejaVuSans-32\"/>\n     <use x=\"1723.478516\" xlink:href=\"#DejaVuSans-40\"/>\n     <use x=\"1762.492188\" xlink:href=\"#DejaVuSans-82\"/>\n     <use x=\"1831.974609\" xlink:href=\"#DejaVuSans-79\"/>\n     <use x=\"1910.685547\" xlink:href=\"#DejaVuSans-67\"/>\n     <use x=\"1980.509766\" xlink:href=\"#DejaVuSans-41\"/>\n     <use x=\"2019.523438\" xlink:href=\"#DejaVuSans-32\"/>\n     <use x=\"2051.310547\" xlink:href=\"#DejaVuSans-67\"/>\n     <use x=\"2121.134766\" xlink:href=\"#DejaVuSans-117\"/>\n     <use x=\"2184.513672\" xlink:href=\"#DejaVuSans-114\"/>\n     <use x=\"2225.626953\" xlink:href=\"#DejaVuSans-118\"/>\n     <use x=\"2284.806641\" xlink:href=\"#DejaVuSans-101\"/>\n    </g>\n   </g>\n   <g id=\"legend_1\">\n    <g id=\"patch_7\">\n     <path d=\"M 50.78125 44.99625 \nL 104.584375 44.99625 \nQ 106.584375 44.99625 106.584375 42.99625 \nL 106.584375 29.318125 \nQ 106.584375 27.318125 104.584375 27.318125 \nL 50.78125 27.318125 \nQ 48.78125 27.318125 48.78125 29.318125 \nL 48.78125 42.99625 \nQ 48.78125 44.99625 50.78125 44.99625 \nz\n\" style=\"fill:#ffffff;opacity:0.8;stroke:#cccccc;stroke-linejoin:miter;\"/>\n    </g>\n    <g id=\"line2d_15\">\n     <path d=\"M 52.78125 35.416562 \nL 72.78125 35.416562 \n\" style=\"fill:none;stroke:#ffa500;stroke-linecap:square;stroke-width:1.5;\"/>\n    </g>\n    <g id=\"line2d_16\"/>\n    <g id=\"text_16\">\n     <!-- ROC -->\n     <g transform=\"translate(80.78125 38.916562)scale(0.1 -0.1)\">\n      <use xlink:href=\"#DejaVuSans-82\"/>\n      <use x=\"69.482422\" xlink:href=\"#DejaVuSans-79\"/>\n      <use x=\"148.193359\" xlink:href=\"#DejaVuSans-67\"/>\n     </g>\n    </g>\n   </g>\n  </g>\n </g>\n <defs>\n  <clipPath id=\"pb90049ffdb\">\n   <rect height=\"326.16\" width=\"334.8\" x=\"43.78125\" y=\"22.318125\"/>\n  </clipPath>\n </defs>\n</svg>\n",
      "image/png": "[encoded data removed]"
     },
     "metadata": {
      "needs_background": "light"
     }
    }
   ],
   "source": [
    "pos_probs = predictionProbabilities[:, 1] # Get probabilities for the positive class\n",
    "\n",
    "fpr, tpr, thresholds = roc_curve(testLabels, pos_probs, pos_label = 1) # Calculate FPR and TPR\n",
    "\n",
    "lr_auc = roc_auc_score(testLabels, pos_probs) # Calculate AUC score\n",
    "plt.rcParams['figure.figsize'] = (5, 5) # Determine the size of the plot\n",
    "custom_plot_roc_curve(fpr, tpr, lr_auc) # Display ROC plot"
   ]
  },
  {
   "cell_type": "markdown",
   "metadata": {},
   "source": [
    "### 4.2. LSTM Model"
   ]
  },
  {
   "cell_type": "markdown",
   "metadata": {},
   "source": [
    "Now we can go ahead and build a LSTM model instead of GBM. We first separate the text from the labels:"
   ]
  },
  {
   "cell_type": "code",
   "execution_count": 17,
   "metadata": {},
   "outputs": [],
   "source": [
    "X = df.text\n",
    "Y = df.label\n",
    "le = LabelEncoder()\n",
    "Y = le.fit_transform(Y)\n",
    "Y = Y.reshape(-1,1)"
   ]
  },
  {
   "cell_type": "markdown",
   "metadata": {},
   "source": [
    "We then split the data to train/ test:"
   ]
  },
  {
   "cell_type": "code",
   "execution_count": 18,
   "metadata": {},
   "outputs": [],
   "source": [
    "X_train,X_test,Y_train,Y_test = train_test_split(X,Y,test_size=0.2,random_state = 1)"
   ]
  },
  {
   "cell_type": "markdown",
   "metadata": {},
   "source": [
    "We prepare the text data that will be received in the input layer:"
   ]
  },
  {
   "cell_type": "code",
   "execution_count": 33,
   "metadata": {},
   "outputs": [],
   "source": [
    "max_words = 6500\n",
    "max_len = 300\n",
    "tok = Tokenizer(num_words=max_words)\n",
    "tok.fit_on_texts(X_train)\n",
    "sequences = tok.texts_to_sequences(X_train)\n",
    "sequences_matrix = sequence.pad_sequences(sequences,maxlen=max_len) #pads sequences"
   ]
  },
  {
   "cell_type": "code",
   "execution_count": 39,
   "metadata": {},
   "outputs": [
    {
     "output_type": "execute_result",
     "data": {
      "text/plain": [
       "7618"
      ]
     },
     "metadata": {},
     "execution_count": 39
    }
   ],
   "source": [
    "len(sequences)"
   ]
  },
  {
   "cell_type": "code",
   "execution_count": 40,
   "metadata": {},
   "outputs": [
    {
     "output_type": "execute_result",
     "data": {
      "text/plain": [
       "[257,\n",
       " 4,\n",
       " 1000,\n",
       " 3004,\n",
       " 116,\n",
       " 244,\n",
       " 218,\n",
       " 173,\n",
       " 29,\n",
       " 418,\n",
       " 1661,\n",
       " 283,\n",
       " 779,\n",
       " 645,\n",
       " 418,\n",
       " 686,\n",
       " 8,\n",
       " 1147,\n",
       " 223,\n",
       " 2,\n",
       " 15,\n",
       " 418,\n",
       " 1661,\n",
       " 2341,\n",
       " 37,\n",
       " 4894,\n",
       " 2,\n",
       " 418,\n",
       " 887,\n",
       " 2,\n",
       " 2246,\n",
       " 418,\n",
       " 84,\n",
       " 2,\n",
       " 45,\n",
       " 231,\n",
       " 418,\n",
       " 2247,\n",
       " 71,\n",
       " 7,\n",
       " 7,\n",
       " 158,\n",
       " 28,\n",
       " 1662,\n",
       " 132,\n",
       " 2246,\n",
       " 329,\n",
       " 10,\n",
       " 329,\n",
       " 32,\n",
       " 28,\n",
       " 369,\n",
       " 21,\n",
       " 12,\n",
       " 1941,\n",
       " 12,\n",
       " 2,\n",
       " 7,\n",
       " 2530,\n",
       " 298,\n",
       " 147]"
      ]
     },
     "metadata": {},
     "execution_count": 40
    }
   ],
   "source": [
    "sequences[0] # a sentence "
   ]
  },
  {
   "cell_type": "markdown",
   "metadata": {},
   "source": [
    "Now we can use Keras to design our model:"
   ]
  },
  {
   "cell_type": "code",
   "execution_count": 34,
   "metadata": {},
   "outputs": [],
   "source": [
    "def RNN():\n",
    "    inputs = Input(name='inputs',shape=[max_len])\n",
    "    layer = Embedding(max_words,100,input_length=max_len)(inputs)\n",
    "    layer = LSTM(64)(layer)\n",
    "    layer = Dense(256,name='FC1')(layer)\n",
    "    layer = Activation('relu')(layer)\n",
    "    layer = Dropout(0.5)(layer)\n",
    "    layer = Dense(1,name='out_layer')(layer)\n",
    "    layer = Activation('sigmoid')(layer)\n",
    "    model = Model(inputs=inputs,outputs=layer)\n",
    "    return model"
   ]
  },
  {
   "cell_type": "markdown",
   "metadata": {},
   "source": [
    "Now we can compile our model:"
   ]
  },
  {
   "cell_type": "code",
   "execution_count": 35,
   "metadata": {},
   "outputs": [
    {
     "output_type": "stream",
     "name": "stdout",
     "text": [
      "Model: \"model\"\n_________________________________________________________________\nLayer (type)                 Output Shape              Param #   \n=================================================================\ninputs (InputLayer)          [(None, 150)]             0         \n_________________________________________________________________\nembedding (Embedding)        (None, 150, 100)          650000    \n_________________________________________________________________\nlstm (LSTM)                  (None, 64)                42240     \n_________________________________________________________________\nFC1 (Dense)                  (None, 256)               16640     \n_________________________________________________________________\nactivation (Activation)      (None, 256)               0         \n_________________________________________________________________\ndropout (Dropout)            (None, 256)               0         \n_________________________________________________________________\nout_layer (Dense)            (None, 1)                 257       \n_________________________________________________________________\nactivation_1 (Activation)    (None, 1)                 0         \n=================================================================\nTotal params: 709,137\nTrainable params: 709,137\nNon-trainable params: 0\n_________________________________________________________________\n"
     ]
    }
   ],
   "source": [
    "# Clear previous model:\n",
    "clear_session()\n",
    "\n",
    "lstm_model = RNN()\n",
    "lstm_model.summary()\n",
    "lstm_model.compile(loss='binary_crossentropy',optimizer=RMSprop(),metrics=['AUC'])"
   ]
  },
  {
   "cell_type": "markdown",
   "metadata": {},
   "source": [
    "Now we can fit our model using our data:"
   ]
  },
  {
   "cell_type": "code",
   "execution_count": 36,
   "metadata": {},
   "outputs": [
    {
     "output_type": "stream",
     "name": "stdout",
     "text": [
      "Epoch 1/10\n",
      "56/56 [==============================] - 12s 179ms/step - loss: 0.6417 - auc: 0.6803 - val_loss: 0.4348 - val_auc: 0.8836\n",
      "Epoch 2/10\n",
      "56/56 [==============================] - 10s 171ms/step - loss: 0.3711 - auc: 0.9152 - val_loss: 0.4800 - val_auc: 0.8775\n"
     ]
    },
    {
     "output_type": "execute_result",
     "data": {
      "text/plain": [
       "<tensorflow.python.keras.callbacks.History at 0x7f6a3c399e50>"
      ]
     },
     "metadata": {},
     "execution_count": 36
    }
   ],
   "source": [
    "lstm_model.fit(sequences_matrix,\n",
    "               Y_train,\n",
    "               batch_size=110, # Really means number of batches  (divide all samples by batch size to get size of each batch)\n",
    "               # IF you raise your batch_size,you are feeding less observations, it will be worse...\n",
    "               # Use a large batch size when tuning, then turn it down\n",
    "               epochs=10, # Increasing the epochs, the whole process is going to happen that many times\n",
    "               validation_split=0.2,\n",
    "               callbacks=[EarlyStopping(monitor='val_loss',min_delta=0.0001)])"
   ]
  },
  {
   "cell_type": "markdown",
   "metadata": {},
   "source": [
    "To evaluate our model, we need to process the test data the same way we processed our train data:"
   ]
  },
  {
   "cell_type": "code",
   "execution_count": 37,
   "metadata": {},
   "outputs": [],
   "source": [
    "test_sequences = tok.texts_to_sequences(X_test)\n",
    "test_sequences_matrix = sequence.pad_sequences(test_sequences,maxlen=max_len)"
   ]
  },
  {
   "cell_type": "code",
   "execution_count": 38,
   "metadata": {},
   "outputs": [
    {
     "output_type": "display_data",
     "data": {
      "text/plain": "<Figure size 360x360 with 1 Axes>",
      "image/svg+xml": "<?xml version=\"1.0\" encoding=\"utf-8\" standalone=\"no\"?>\n<!DOCTYPE svg PUBLIC \"-//W3C//DTD SVG 1.1//EN\"\n  \"http://www.w3.org/Graphics/SVG/1.1/DTD/svg11.dtd\">\n<!-- Created with matplotlib (https://matplotlib.org/) -->\n<svg height=\"333.864875pt\" version=\"1.1\" viewBox=\"0 0 402.93875 333.864875\" width=\"402.93875pt\" xmlns=\"http://www.w3.org/2000/svg\" xmlns:xlink=\"http://www.w3.org/1999/xlink\">\n <defs>\n  <style type=\"text/css\">\n*{stroke-linecap:butt;stroke-linejoin:round;}\n  </style>\n </defs>\n <g id=\"figure_1\">\n  <g id=\"patch_1\">\n   <path d=\"M 0 333.864875 \nL 402.93875 333.864875 \nL 402.93875 0 \nL 0 0 \nz\n\" style=\"fill:none;\"/>\n  </g>\n  <g id=\"axes_1\">\n   <g id=\"patch_2\">\n    <path d=\"M 123.93875 279 \nL 395.73875 279 \nL 395.73875 7.2 \nL 123.93875 7.2 \nz\n\" style=\"fill:#ffffff;\"/>\n   </g>\n   <g clip-path=\"url(#pc2249a847d)\">\n    <image height=\"272\" id=\"imageb27024d092\" transform=\"scale(1 -1)translate(0 -272)\" width=\"272\" x=\"123.93875\" xlink:href=\"data:image/png;base64,\niVBORw0KGgoAAAANSUhEUgAAARAAAAEQCAYAAAB4CisVAAAABHNCSVQICAgIfAhkiAAAA19JREFUeJzt1qENgEAABEEgCASKSuiL/jX0sOafZKaCU5tbj/t5F4BgGz0A+C8BATIBATIBATIBATIBATIBATIBATIBATIBATIBATIBATIBATIBATIBATIBATIBATIBATIBATIBATIBATIBATIBATIBATIBATIBATIBATIBATIBATIBATIBATIBATIBATIBATIBATIBATIBATIBATIBATIBATIBATIBATIBATIBATIBATIBATIBATIBATIBATIBATIBATIBATIBATIBATIBATIBATIBATIBATIBATIBATIBATIBATIBATIBATIBATIBATIBATIBATIBATIBATIBATIBATIBATIBATIBATIBATIBATIBATIBATIBATIBATIBATIBATIBATIBATIBATIBATIBATIBATIBATIBATIBATIBATIBATIBATIBATIBATIBATIBATIBATIBATIBATIBATIBATIBATIBATIBATIBATIBATIBATIBATIBATIBATIBATIBATIBATIBATIBATIBATIBATIBATIBATIBATIBATIBATIBATIBATIBATIBATIBATIBATIBATIBATIBATIBAbJ99AAmd16jFzAxDwTIBATIBATIBATIBATIBATIBATIBATIBATIBATIBATIBATIBATIBATIBATIBATIBATIBATIBATIBATIBATIBATIBATIBATIBATIBATIBATIBATIBATIBATIBATIBATIBATIBATIBATIBATIBATIBATIBATIBATIBATIBATIBATIBATIBATIBATIBATIBATIBATIBATIBATIBATIBATIBATIBATIBATIBATIBATIBATIBATIBATIBATIBATIBATIBATIBATIBATIBATIBATIBATIBATIBATIBATIBATIBATIBATIBATIBATIBATIBATIBATIBATIBATIBATIBATIBATIBATIBATIBATIBATIBATIBATIBATIBATIBATIBATIBATIBATIBATIBATIBATIBATIBATIBATIBATIBATIBATIBATIBATIBATIBATIBATIBATIBATIBATIBATIBATIBATIBATIBATIBATIBATIBATIBATIBATIBATIBATIBATIBATIBATIBATIBATIBATIBATIBATIPvCyA+IyA0i4AAAAAElFTkSuQmCC\" y=\"-7\"/>\n   </g>\n   <g id=\"matplotlib.axis_1\">\n    <g id=\"xtick_1\">\n     <g id=\"line2d_1\">\n      <defs>\n       <path d=\"M 0 0 \nL 0 3.5 \n\" id=\"mf65c3ed764\" style=\"stroke:#000000;stroke-width:0.8;\"/>\n      </defs>\n      <g>\n       <use style=\"stroke:#000000;stroke-width:0.8;\" x=\"123.93875\" xlink:href=\"#mf65c3ed764\" y=\"279\"/>\n      </g>\n     </g>\n    </g>\n    <g id=\"xtick_2\">\n     <g id=\"line2d_2\">\n      <g>\n       <use style=\"stroke:#000000;stroke-width:0.8;\" x=\"191.88875\" xlink:href=\"#mf65c3ed764\" y=\"279\"/>\n      </g>\n     </g>\n     <g id=\"text_1\">\n      <!-- Class no  -->\n      <defs>\n       <path d=\"M 64.40625 67.28125 \nL 64.40625 56.890625 \nQ 59.421875 61.53125 53.78125 63.8125 \nQ 48.140625 66.109375 41.796875 66.109375 \nQ 29.296875 66.109375 22.65625 58.46875 \nQ 16.015625 50.828125 16.015625 36.375 \nQ 16.015625 21.96875 22.65625 14.328125 \nQ 29.296875 6.6875 41.796875 6.6875 \nQ 48.140625 6.6875 53.78125 8.984375 \nQ 59.421875 11.28125 64.40625 15.921875 \nL 64.40625 5.609375 \nQ 59.234375 2.09375 53.4375 0.328125 \nQ 47.65625 -1.421875 41.21875 -1.421875 \nQ 24.65625 -1.421875 15.125 8.703125 \nQ 5.609375 18.84375 5.609375 36.375 \nQ 5.609375 53.953125 15.125 64.078125 \nQ 24.65625 74.21875 41.21875 74.21875 \nQ 47.75 74.21875 53.53125 72.484375 \nQ 59.328125 70.75 64.40625 67.28125 \nz\n\" id=\"DejaVuSans-67\"/>\n       <path d=\"M 9.421875 75.984375 \nL 18.40625 75.984375 \nL 18.40625 0 \nL 9.421875 0 \nz\n\" id=\"DejaVuSans-108\"/>\n       <path d=\"M 34.28125 27.484375 \nQ 23.390625 27.484375 19.1875 25 \nQ 14.984375 22.515625 14.984375 16.5 \nQ 14.984375 11.71875 18.140625 8.90625 \nQ 21.296875 6.109375 26.703125 6.109375 \nQ 34.1875 6.109375 38.703125 11.40625 \nQ 43.21875 16.703125 43.21875 25.484375 \nL 43.21875 27.484375 \nz\nM 52.203125 31.203125 \nL 52.203125 0 \nL 43.21875 0 \nL 43.21875 8.296875 \nQ 40.140625 3.328125 35.546875 0.953125 \nQ 30.953125 -1.421875 24.3125 -1.421875 \nQ 15.921875 -1.421875 10.953125 3.296875 \nQ 6 8.015625 6 15.921875 \nQ 6 25.140625 12.171875 29.828125 \nQ 18.359375 34.515625 30.609375 34.515625 \nL 43.21875 34.515625 \nL 43.21875 35.40625 \nQ 43.21875 41.609375 39.140625 45 \nQ 35.0625 48.390625 27.6875 48.390625 \nQ 23 48.390625 18.546875 47.265625 \nQ 14.109375 46.140625 10.015625 43.890625 \nL 10.015625 52.203125 \nQ 14.9375 54.109375 19.578125 55.046875 \nQ 24.21875 56 28.609375 56 \nQ 40.484375 56 46.34375 49.84375 \nQ 52.203125 43.703125 52.203125 31.203125 \nz\n\" id=\"DejaVuSans-97\"/>\n       <path d=\"M 44.28125 53.078125 \nL 44.28125 44.578125 \nQ 40.484375 46.53125 36.375 47.5 \nQ 32.28125 48.484375 27.875 48.484375 \nQ 21.1875 48.484375 17.84375 46.4375 \nQ 14.5 44.390625 14.5 40.28125 \nQ 14.5 37.15625 16.890625 35.375 \nQ 19.28125 33.59375 26.515625 31.984375 \nL 29.59375 31.296875 \nQ 39.15625 29.25 43.1875 25.515625 \nQ 47.21875 21.78125 47.21875 15.09375 \nQ 47.21875 7.46875 41.1875 3.015625 \nQ 35.15625 -1.421875 24.609375 -1.421875 \nQ 20.21875 -1.421875 15.453125 -0.5625 \nQ 10.6875 0.296875 5.421875 2 \nL 5.421875 11.28125 \nQ 10.40625 8.6875 15.234375 7.390625 \nQ 20.0625 6.109375 24.8125 6.109375 \nQ 31.15625 6.109375 34.5625 8.28125 \nQ 37.984375 10.453125 37.984375 14.40625 \nQ 37.984375 18.0625 35.515625 20.015625 \nQ 33.0625 21.96875 24.703125 23.78125 \nL 21.578125 24.515625 \nQ 13.234375 26.265625 9.515625 29.90625 \nQ 5.8125 33.546875 5.8125 39.890625 \nQ 5.8125 47.609375 11.28125 51.796875 \nQ 16.75 56 26.8125 56 \nQ 31.78125 56 36.171875 55.265625 \nQ 40.578125 54.546875 44.28125 53.078125 \nz\n\" id=\"DejaVuSans-115\"/>\n       <path id=\"DejaVuSans-32\"/>\n       <path d=\"M 54.890625 33.015625 \nL 54.890625 0 \nL 45.90625 0 \nL 45.90625 32.71875 \nQ 45.90625 40.484375 42.875 44.328125 \nQ 39.84375 48.1875 33.796875 48.1875 \nQ 26.515625 48.1875 22.3125 43.546875 \nQ 18.109375 38.921875 18.109375 30.90625 \nL 18.109375 0 \nL 9.078125 0 \nL 9.078125 54.6875 \nL 18.109375 54.6875 \nL 18.109375 46.1875 \nQ 21.34375 51.125 25.703125 53.5625 \nQ 30.078125 56 35.796875 56 \nQ 45.21875 56 50.046875 50.171875 \nQ 54.890625 44.34375 54.890625 33.015625 \nz\n\" id=\"DejaVuSans-110\"/>\n       <path d=\"M 30.609375 48.390625 \nQ 23.390625 48.390625 19.1875 42.75 \nQ 14.984375 37.109375 14.984375 27.296875 \nQ 14.984375 17.484375 19.15625 11.84375 \nQ 23.34375 6.203125 30.609375 6.203125 \nQ 37.796875 6.203125 41.984375 11.859375 \nQ 46.1875 17.53125 46.1875 27.296875 \nQ 46.1875 37.015625 41.984375 42.703125 \nQ 37.796875 48.390625 30.609375 48.390625 \nz\nM 30.609375 56 \nQ 42.328125 56 49.015625 48.375 \nQ 55.71875 40.765625 55.71875 27.296875 \nQ 55.71875 13.875 49.015625 6.21875 \nQ 42.328125 -1.421875 30.609375 -1.421875 \nQ 18.84375 -1.421875 12.171875 6.21875 \nQ 5.515625 13.875 5.515625 27.296875 \nQ 5.515625 40.765625 12.171875 48.375 \nQ 18.84375 56 30.609375 56 \nz\n\" id=\"DejaVuSans-111\"/>\n      </defs>\n      <g transform=\"translate(164.816562 295.118125)scale(0.12 -0.12)\">\n       <use xlink:href=\"#DejaVuSans-67\"/>\n       <use x=\"69.824219\" xlink:href=\"#DejaVuSans-108\"/>\n       <use x=\"97.607422\" xlink:href=\"#DejaVuSans-97\"/>\n       <use x=\"158.886719\" xlink:href=\"#DejaVuSans-115\"/>\n       <use x=\"210.986328\" xlink:href=\"#DejaVuSans-115\"/>\n       <use x=\"263.085938\" xlink:href=\"#DejaVuSans-32\"/>\n       <use x=\"294.873047\" xlink:href=\"#DejaVuSans-110\"/>\n       <use x=\"358.251953\" xlink:href=\"#DejaVuSans-111\"/>\n       <use x=\"419.433594\" xlink:href=\"#DejaVuSans-32\"/>\n      </g>\n      <!--  Recall=67.4 -->\n      <defs>\n       <path d=\"M 44.390625 34.1875 \nQ 47.5625 33.109375 50.5625 29.59375 \nQ 53.5625 26.078125 56.59375 19.921875 \nL 66.609375 0 \nL 56 0 \nL 46.6875 18.703125 \nQ 43.0625 26.03125 39.671875 28.421875 \nQ 36.28125 30.8125 30.421875 30.8125 \nL 19.671875 30.8125 \nL 19.671875 0 \nL 9.8125 0 \nL 9.8125 72.90625 \nL 32.078125 72.90625 \nQ 44.578125 72.90625 50.734375 67.671875 \nQ 56.890625 62.453125 56.890625 51.90625 \nQ 56.890625 45.015625 53.6875 40.46875 \nQ 50.484375 35.9375 44.390625 34.1875 \nz\nM 19.671875 64.796875 \nL 19.671875 38.921875 \nL 32.078125 38.921875 \nQ 39.203125 38.921875 42.84375 42.21875 \nQ 46.484375 45.515625 46.484375 51.90625 \nQ 46.484375 58.296875 42.84375 61.546875 \nQ 39.203125 64.796875 32.078125 64.796875 \nz\n\" id=\"DejaVuSans-82\"/>\n       <path d=\"M 56.203125 29.59375 \nL 56.203125 25.203125 \nL 14.890625 25.203125 \nQ 15.484375 15.921875 20.484375 11.0625 \nQ 25.484375 6.203125 34.421875 6.203125 \nQ 39.59375 6.203125 44.453125 7.46875 \nQ 49.3125 8.734375 54.109375 11.28125 \nL 54.109375 2.78125 \nQ 49.265625 0.734375 44.1875 -0.34375 \nQ 39.109375 -1.421875 33.890625 -1.421875 \nQ 20.796875 -1.421875 13.15625 6.1875 \nQ 5.515625 13.8125 5.515625 26.8125 \nQ 5.515625 40.234375 12.765625 48.109375 \nQ 20.015625 56 32.328125 56 \nQ 43.359375 56 49.78125 48.890625 \nQ 56.203125 41.796875 56.203125 29.59375 \nz\nM 47.21875 32.234375 \nQ 47.125 39.59375 43.09375 43.984375 \nQ 39.0625 48.390625 32.421875 48.390625 \nQ 24.90625 48.390625 20.390625 44.140625 \nQ 15.875 39.890625 15.1875 32.171875 \nz\n\" id=\"DejaVuSans-101\"/>\n       <path d=\"M 48.78125 52.59375 \nL 48.78125 44.1875 \nQ 44.96875 46.296875 41.140625 47.34375 \nQ 37.3125 48.390625 33.40625 48.390625 \nQ 24.65625 48.390625 19.8125 42.84375 \nQ 14.984375 37.3125 14.984375 27.296875 \nQ 14.984375 17.28125 19.8125 11.734375 \nQ 24.65625 6.203125 33.40625 6.203125 \nQ 37.3125 6.203125 41.140625 7.25 \nQ 44.96875 8.296875 48.78125 10.40625 \nL 48.78125 2.09375 \nQ 45.015625 0.34375 40.984375 -0.53125 \nQ 36.96875 -1.421875 32.421875 -1.421875 \nQ 20.0625 -1.421875 12.78125 6.34375 \nQ 5.515625 14.109375 5.515625 27.296875 \nQ 5.515625 40.671875 12.859375 48.328125 \nQ 20.21875 56 33.015625 56 \nQ 37.15625 56 41.109375 55.140625 \nQ 45.0625 54.296875 48.78125 52.59375 \nz\n\" id=\"DejaVuSans-99\"/>\n       <path d=\"M 10.59375 45.40625 \nL 73.1875 45.40625 \nL 73.1875 37.203125 \nL 10.59375 37.203125 \nz\nM 10.59375 25.484375 \nL 73.1875 25.484375 \nL 73.1875 17.1875 \nL 10.59375 17.1875 \nz\n\" id=\"DejaVuSans-61\"/>\n       <path d=\"M 33.015625 40.375 \nQ 26.375 40.375 22.484375 35.828125 \nQ 18.609375 31.296875 18.609375 23.390625 \nQ 18.609375 15.53125 22.484375 10.953125 \nQ 26.375 6.390625 33.015625 6.390625 \nQ 39.65625 6.390625 43.53125 10.953125 \nQ 47.40625 15.53125 47.40625 23.390625 \nQ 47.40625 31.296875 43.53125 35.828125 \nQ 39.65625 40.375 33.015625 40.375 \nz\nM 52.59375 71.296875 \nL 52.59375 62.3125 \nQ 48.875 64.0625 45.09375 64.984375 \nQ 41.3125 65.921875 37.59375 65.921875 \nQ 27.828125 65.921875 22.671875 59.328125 \nQ 17.53125 52.734375 16.796875 39.40625 \nQ 19.671875 43.65625 24.015625 45.921875 \nQ 28.375 48.1875 33.59375 48.1875 \nQ 44.578125 48.1875 50.953125 41.515625 \nQ 57.328125 34.859375 57.328125 23.390625 \nQ 57.328125 12.15625 50.6875 5.359375 \nQ 44.046875 -1.421875 33.015625 -1.421875 \nQ 20.359375 -1.421875 13.671875 8.265625 \nQ 6.984375 17.96875 6.984375 36.375 \nQ 6.984375 53.65625 15.1875 63.9375 \nQ 23.390625 74.21875 37.203125 74.21875 \nQ 40.921875 74.21875 44.703125 73.484375 \nQ 48.484375 72.75 52.59375 71.296875 \nz\n\" id=\"DejaVuSans-54\"/>\n       <path d=\"M 8.203125 72.90625 \nL 55.078125 72.90625 \nL 55.078125 68.703125 \nL 28.609375 0 \nL 18.3125 0 \nL 43.21875 64.59375 \nL 8.203125 64.59375 \nz\n\" id=\"DejaVuSans-55\"/>\n       <path d=\"M 10.6875 12.40625 \nL 21 12.40625 \nL 21 0 \nL 10.6875 0 \nz\n\" id=\"DejaVuSans-46\"/>\n       <path d=\"M 37.796875 64.3125 \nL 12.890625 25.390625 \nL 37.796875 25.390625 \nz\nM 35.203125 72.90625 \nL 47.609375 72.90625 \nL 47.609375 25.390625 \nL 58.015625 25.390625 \nL 58.015625 17.1875 \nL 47.609375 17.1875 \nL 47.609375 0 \nL 37.796875 0 \nL 37.796875 17.1875 \nL 4.890625 17.1875 \nL 4.890625 26.703125 \nz\n\" id=\"DejaVuSans-52\"/>\n      </defs>\n      <g transform=\"translate(153.694062 308.5555)scale(0.12 -0.12)\">\n       <use xlink:href=\"#DejaVuSans-32\"/>\n       <use x=\"31.787109\" xlink:href=\"#DejaVuSans-82\"/>\n       <use x=\"96.769531\" xlink:href=\"#DejaVuSans-101\"/>\n       <use x=\"158.292969\" xlink:href=\"#DejaVuSans-99\"/>\n       <use x=\"213.273438\" xlink:href=\"#DejaVuSans-97\"/>\n       <use x=\"274.552734\" xlink:href=\"#DejaVuSans-108\"/>\n       <use x=\"302.335938\" xlink:href=\"#DejaVuSans-108\"/>\n       <use x=\"330.119141\" xlink:href=\"#DejaVuSans-61\"/>\n       <use x=\"413.908203\" xlink:href=\"#DejaVuSans-54\"/>\n       <use x=\"477.53125\" xlink:href=\"#DejaVuSans-55\"/>\n       <use x=\"541.154297\" xlink:href=\"#DejaVuSans-46\"/>\n       <use x=\"572.941406\" xlink:href=\"#DejaVuSans-52\"/>\n      </g>\n     </g>\n    </g>\n    <g id=\"xtick_3\">\n     <g id=\"line2d_3\">\n      <g>\n       <use style=\"stroke:#000000;stroke-width:0.8;\" x=\"327.78875\" xlink:href=\"#mf65c3ed764\" y=\"279\"/>\n      </g>\n     </g>\n     <g id=\"text_2\">\n      <!-- Class yes  -->\n      <defs>\n       <path d=\"M 32.171875 -5.078125 \nQ 28.375 -14.84375 24.75 -17.8125 \nQ 21.140625 -20.796875 15.09375 -20.796875 \nL 7.90625 -20.796875 \nL 7.90625 -13.28125 \nL 13.1875 -13.28125 \nQ 16.890625 -13.28125 18.9375 -11.515625 \nQ 21 -9.765625 23.484375 -3.21875 \nL 25.09375 0.875 \nL 2.984375 54.6875 \nL 12.5 54.6875 \nL 29.59375 11.921875 \nL 46.6875 54.6875 \nL 56.203125 54.6875 \nz\n\" id=\"DejaVuSans-121\"/>\n      </defs>\n      <g transform=\"translate(297.821562 295.118125)scale(0.12 -0.12)\">\n       <use xlink:href=\"#DejaVuSans-67\"/>\n       <use x=\"69.824219\" xlink:href=\"#DejaVuSans-108\"/>\n       <use x=\"97.607422\" xlink:href=\"#DejaVuSans-97\"/>\n       <use x=\"158.886719\" xlink:href=\"#DejaVuSans-115\"/>\n       <use x=\"210.986328\" xlink:href=\"#DejaVuSans-115\"/>\n       <use x=\"263.085938\" xlink:href=\"#DejaVuSans-32\"/>\n       <use x=\"294.873047\" xlink:href=\"#DejaVuSans-121\"/>\n       <use x=\"354.052734\" xlink:href=\"#DejaVuSans-101\"/>\n       <use x=\"415.576172\" xlink:href=\"#DejaVuSans-115\"/>\n       <use x=\"467.675781\" xlink:href=\"#DejaVuSans-32\"/>\n      </g>\n      <!--  Recall=89.2 -->\n      <defs>\n       <path d=\"M 31.78125 34.625 \nQ 24.75 34.625 20.71875 30.859375 \nQ 16.703125 27.09375 16.703125 20.515625 \nQ 16.703125 13.921875 20.71875 10.15625 \nQ 24.75 6.390625 31.78125 6.390625 \nQ 38.8125 6.390625 42.859375 10.171875 \nQ 46.921875 13.96875 46.921875 20.515625 \nQ 46.921875 27.09375 42.890625 30.859375 \nQ 38.875 34.625 31.78125 34.625 \nz\nM 21.921875 38.8125 \nQ 15.578125 40.375 12.03125 44.71875 \nQ 8.5 49.078125 8.5 55.328125 \nQ 8.5 64.0625 14.71875 69.140625 \nQ 20.953125 74.21875 31.78125 74.21875 \nQ 42.671875 74.21875 48.875 69.140625 \nQ 55.078125 64.0625 55.078125 55.328125 \nQ 55.078125 49.078125 51.53125 44.71875 \nQ 48 40.375 41.703125 38.8125 \nQ 48.828125 37.15625 52.796875 32.3125 \nQ 56.78125 27.484375 56.78125 20.515625 \nQ 56.78125 9.90625 50.3125 4.234375 \nQ 43.84375 -1.421875 31.78125 -1.421875 \nQ 19.734375 -1.421875 13.25 4.234375 \nQ 6.78125 9.90625 6.78125 20.515625 \nQ 6.78125 27.484375 10.78125 32.3125 \nQ 14.796875 37.15625 21.921875 38.8125 \nz\nM 18.3125 54.390625 \nQ 18.3125 48.734375 21.84375 45.5625 \nQ 25.390625 42.390625 31.78125 42.390625 \nQ 38.140625 42.390625 41.71875 45.5625 \nQ 45.3125 48.734375 45.3125 54.390625 \nQ 45.3125 60.0625 41.71875 63.234375 \nQ 38.140625 66.40625 31.78125 66.40625 \nQ 25.390625 66.40625 21.84375 63.234375 \nQ 18.3125 60.0625 18.3125 54.390625 \nz\n\" id=\"DejaVuSans-56\"/>\n       <path d=\"M 10.984375 1.515625 \nL 10.984375 10.5 \nQ 14.703125 8.734375 18.5 7.8125 \nQ 22.3125 6.890625 25.984375 6.890625 \nQ 35.75 6.890625 40.890625 13.453125 \nQ 46.046875 20.015625 46.78125 33.40625 \nQ 43.953125 29.203125 39.59375 26.953125 \nQ 35.25 24.703125 29.984375 24.703125 \nQ 19.046875 24.703125 12.671875 31.3125 \nQ 6.296875 37.9375 6.296875 49.421875 \nQ 6.296875 60.640625 12.9375 67.421875 \nQ 19.578125 74.21875 30.609375 74.21875 \nQ 43.265625 74.21875 49.921875 64.515625 \nQ 56.59375 54.828125 56.59375 36.375 \nQ 56.59375 19.140625 48.40625 8.859375 \nQ 40.234375 -1.421875 26.421875 -1.421875 \nQ 22.703125 -1.421875 18.890625 -0.6875 \nQ 15.09375 0.046875 10.984375 1.515625 \nz\nM 30.609375 32.421875 \nQ 37.25 32.421875 41.125 36.953125 \nQ 45.015625 41.5 45.015625 49.421875 \nQ 45.015625 57.28125 41.125 61.84375 \nQ 37.25 66.40625 30.609375 66.40625 \nQ 23.96875 66.40625 20.09375 61.84375 \nQ 16.21875 57.28125 16.21875 49.421875 \nQ 16.21875 41.5 20.09375 36.953125 \nQ 23.96875 32.421875 30.609375 32.421875 \nz\n\" id=\"DejaVuSans-57\"/>\n       <path d=\"M 19.1875 8.296875 \nL 53.609375 8.296875 \nL 53.609375 0 \nL 7.328125 0 \nL 7.328125 8.296875 \nQ 12.9375 14.109375 22.625 23.890625 \nQ 32.328125 33.6875 34.8125 36.53125 \nQ 39.546875 41.84375 41.421875 45.53125 \nQ 43.3125 49.21875 43.3125 52.78125 \nQ 43.3125 58.59375 39.234375 62.25 \nQ 35.15625 65.921875 28.609375 65.921875 \nQ 23.96875 65.921875 18.8125 64.3125 \nQ 13.671875 62.703125 7.8125 59.421875 \nL 7.8125 69.390625 \nQ 13.765625 71.78125 18.9375 73 \nQ 24.125 74.21875 28.421875 74.21875 \nQ 39.75 74.21875 46.484375 68.546875 \nQ 53.21875 62.890625 53.21875 53.421875 \nQ 53.21875 48.921875 51.53125 44.890625 \nQ 49.859375 40.875 45.40625 35.40625 \nQ 44.1875 33.984375 37.640625 27.21875 \nQ 31.109375 20.453125 19.1875 8.296875 \nz\n\" id=\"DejaVuSans-50\"/>\n      </defs>\n      <g transform=\"translate(289.594062 308.5555)scale(0.12 -0.12)\">\n       <use xlink:href=\"#DejaVuSans-32\"/>\n       <use x=\"31.787109\" xlink:href=\"#DejaVuSans-82\"/>\n       <use x=\"96.769531\" xlink:href=\"#DejaVuSans-101\"/>\n       <use x=\"158.292969\" xlink:href=\"#DejaVuSans-99\"/>\n       <use x=\"213.273438\" xlink:href=\"#DejaVuSans-97\"/>\n       <use x=\"274.552734\" xlink:href=\"#DejaVuSans-108\"/>\n       <use x=\"302.335938\" xlink:href=\"#DejaVuSans-108\"/>\n       <use x=\"330.119141\" xlink:href=\"#DejaVuSans-61\"/>\n       <use x=\"413.908203\" xlink:href=\"#DejaVuSans-56\"/>\n       <use x=\"477.53125\" xlink:href=\"#DejaVuSans-57\"/>\n       <use x=\"541.154297\" xlink:href=\"#DejaVuSans-46\"/>\n       <use x=\"572.941406\" xlink:href=\"#DejaVuSans-50\"/>\n      </g>\n     </g>\n    </g>\n    <g id=\"xtick_4\">\n     <g id=\"line2d_4\">\n      <g>\n       <use style=\"stroke:#000000;stroke-width:0.8;\" x=\"395.73875\" xlink:href=\"#mf65c3ed764\" y=\"279\"/>\n      </g>\n     </g>\n    </g>\n    <g id=\"text_3\">\n     <!-- Actual Class -->\n     <defs>\n      <path d=\"M 34.1875 63.1875 \nL 20.796875 26.90625 \nL 47.609375 26.90625 \nz\nM 28.609375 72.90625 \nL 39.796875 72.90625 \nL 67.578125 0 \nL 57.328125 0 \nL 50.6875 18.703125 \nL 17.828125 18.703125 \nL 11.1875 0 \nL 0.78125 0 \nz\n\" id=\"DejaVuSans-65\"/>\n      <path d=\"M 18.3125 70.21875 \nL 18.3125 54.6875 \nL 36.8125 54.6875 \nL 36.8125 47.703125 \nL 18.3125 47.703125 \nL 18.3125 18.015625 \nQ 18.3125 11.328125 20.140625 9.421875 \nQ 21.96875 7.515625 27.59375 7.515625 \nL 36.8125 7.515625 \nL 36.8125 0 \nL 27.59375 0 \nQ 17.1875 0 13.234375 3.875 \nQ 9.28125 7.765625 9.28125 18.015625 \nL 9.28125 47.703125 \nL 2.6875 47.703125 \nL 2.6875 54.6875 \nL 9.28125 54.6875 \nL 9.28125 70.21875 \nz\n\" id=\"DejaVuSans-116\"/>\n      <path d=\"M 8.5 21.578125 \nL 8.5 54.6875 \nL 17.484375 54.6875 \nL 17.484375 21.921875 \nQ 17.484375 14.15625 20.5 10.265625 \nQ 23.53125 6.390625 29.59375 6.390625 \nQ 36.859375 6.390625 41.078125 11.03125 \nQ 45.3125 15.671875 45.3125 23.6875 \nL 45.3125 54.6875 \nL 54.296875 54.6875 \nL 54.296875 0 \nL 45.3125 0 \nL 45.3125 8.40625 \nQ 42.046875 3.421875 37.71875 1 \nQ 33.40625 -1.421875 27.6875 -1.421875 \nQ 18.265625 -1.421875 13.375 4.4375 \nQ 8.5 10.296875 8.5 21.578125 \nz\nM 31.109375 56 \nz\n\" id=\"DejaVuSans-117\"/>\n     </defs>\n     <g transform=\"translate(223.350313 324.16925)scale(0.12 -0.12)\">\n      <use xlink:href=\"#DejaVuSans-65\"/>\n      <use x=\"66.658203\" xlink:href=\"#DejaVuSans-99\"/>\n      <use x=\"121.638672\" xlink:href=\"#DejaVuSans-116\"/>\n      <use x=\"160.847656\" xlink:href=\"#DejaVuSans-117\"/>\n      <use x=\"224.226562\" xlink:href=\"#DejaVuSans-97\"/>\n      <use x=\"285.505859\" xlink:href=\"#DejaVuSans-108\"/>\n      <use x=\"313.289062\" xlink:href=\"#DejaVuSans-32\"/>\n      <use x=\"345.076172\" xlink:href=\"#DejaVuSans-67\"/>\n      <use x=\"414.900391\" xlink:href=\"#DejaVuSans-108\"/>\n      <use x=\"442.683594\" xlink:href=\"#DejaVuSans-97\"/>\n      <use x=\"503.962891\" xlink:href=\"#DejaVuSans-115\"/>\n      <use x=\"556.0625\" xlink:href=\"#DejaVuSans-115\"/>\n     </g>\n    </g>\n   </g>\n   <g id=\"matplotlib.axis_2\">\n    <g id=\"ytick_1\">\n     <g id=\"line2d_5\">\n      <defs>\n       <path d=\"M 0 0 \nL -3.5 0 \n\" id=\"m3602df511c\" style=\"stroke:#000000;stroke-width:0.8;\"/>\n      </defs>\n      <g>\n       <use style=\"stroke:#000000;stroke-width:0.8;\" x=\"123.93875\" xlink:href=\"#m3602df511c\" y=\"7.2\"/>\n      </g>\n     </g>\n    </g>\n    <g id=\"ytick_2\">\n     <g id=\"line2d_6\">\n      <g>\n       <use style=\"stroke:#000000;stroke-width:0.8;\" x=\"123.93875\" xlink:href=\"#m3602df511c\" y=\"75.15\"/>\n      </g>\n     </g>\n     <g id=\"text_4\">\n      <!-- Class no  -->\n      <g transform=\"translate(62.794375 73.902187)scale(0.12 -0.12)\">\n       <use xlink:href=\"#DejaVuSans-67\"/>\n       <use x=\"69.824219\" xlink:href=\"#DejaVuSans-108\"/>\n       <use x=\"97.607422\" xlink:href=\"#DejaVuSans-97\"/>\n       <use x=\"158.886719\" xlink:href=\"#DejaVuSans-115\"/>\n       <use x=\"210.986328\" xlink:href=\"#DejaVuSans-115\"/>\n       <use x=\"263.085938\" xlink:href=\"#DejaVuSans-32\"/>\n       <use x=\"294.873047\" xlink:href=\"#DejaVuSans-110\"/>\n       <use x=\"358.251953\" xlink:href=\"#DejaVuSans-111\"/>\n       <use x=\"419.433594\" xlink:href=\"#DejaVuSans-32\"/>\n      </g>\n      <!--  Precision=88.0 -->\n      <defs>\n       <path d=\"M 19.671875 64.796875 \nL 19.671875 37.40625 \nL 32.078125 37.40625 \nQ 38.96875 37.40625 42.71875 40.96875 \nQ 46.484375 44.53125 46.484375 51.125 \nQ 46.484375 57.671875 42.71875 61.234375 \nQ 38.96875 64.796875 32.078125 64.796875 \nz\nM 9.8125 72.90625 \nL 32.078125 72.90625 \nQ 44.34375 72.90625 50.609375 67.359375 \nQ 56.890625 61.8125 56.890625 51.125 \nQ 56.890625 40.328125 50.609375 34.8125 \nQ 44.34375 29.296875 32.078125 29.296875 \nL 19.671875 29.296875 \nL 19.671875 0 \nL 9.8125 0 \nz\n\" id=\"DejaVuSans-80\"/>\n       <path d=\"M 41.109375 46.296875 \nQ 39.59375 47.171875 37.8125 47.578125 \nQ 36.03125 48 33.890625 48 \nQ 26.265625 48 22.1875 43.046875 \nQ 18.109375 38.09375 18.109375 28.8125 \nL 18.109375 0 \nL 9.078125 0 \nL 9.078125 54.6875 \nL 18.109375 54.6875 \nL 18.109375 46.1875 \nQ 20.953125 51.171875 25.484375 53.578125 \nQ 30.03125 56 36.53125 56 \nQ 37.453125 56 38.578125 55.875 \nQ 39.703125 55.765625 41.0625 55.515625 \nz\n\" id=\"DejaVuSans-114\"/>\n       <path d=\"M 9.421875 54.6875 \nL 18.40625 54.6875 \nL 18.40625 0 \nL 9.421875 0 \nz\nM 9.421875 75.984375 \nL 18.40625 75.984375 \nL 18.40625 64.59375 \nL 9.421875 64.59375 \nz\n\" id=\"DejaVuSans-105\"/>\n       <path d=\"M 31.78125 66.40625 \nQ 24.171875 66.40625 20.328125 58.90625 \nQ 16.5 51.421875 16.5 36.375 \nQ 16.5 21.390625 20.328125 13.890625 \nQ 24.171875 6.390625 31.78125 6.390625 \nQ 39.453125 6.390625 43.28125 13.890625 \nQ 47.125 21.390625 47.125 36.375 \nQ 47.125 51.421875 43.28125 58.90625 \nQ 39.453125 66.40625 31.78125 66.40625 \nz\nM 31.78125 74.21875 \nQ 44.046875 74.21875 50.515625 64.515625 \nQ 56.984375 54.828125 56.984375 36.375 \nQ 56.984375 17.96875 50.515625 8.265625 \nQ 44.046875 -1.421875 31.78125 -1.421875 \nQ 19.53125 -1.421875 13.0625 8.265625 \nQ 6.59375 17.96875 6.59375 36.375 \nQ 6.59375 54.828125 13.0625 64.515625 \nQ 19.53125 74.21875 31.78125 74.21875 \nz\n\" id=\"DejaVuSans-48\"/>\n      </defs>\n      <g transform=\"translate(22.81375 87.339562)scale(0.12 -0.12)\">\n       <use xlink:href=\"#DejaVuSans-32\"/>\n       <use x=\"31.787109\" xlink:href=\"#DejaVuSans-80\"/>\n       <use x=\"90.339844\" xlink:href=\"#DejaVuSans-114\"/>\n       <use x=\"129.203125\" xlink:href=\"#DejaVuSans-101\"/>\n       <use x=\"190.726562\" xlink:href=\"#DejaVuSans-99\"/>\n       <use x=\"245.707031\" xlink:href=\"#DejaVuSans-105\"/>\n       <use x=\"273.490234\" xlink:href=\"#DejaVuSans-115\"/>\n       <use x=\"325.589844\" xlink:href=\"#DejaVuSans-105\"/>\n       <use x=\"353.373047\" xlink:href=\"#DejaVuSans-111\"/>\n       <use x=\"414.554688\" xlink:href=\"#DejaVuSans-110\"/>\n       <use x=\"477.933594\" xlink:href=\"#DejaVuSans-61\"/>\n       <use x=\"561.722656\" xlink:href=\"#DejaVuSans-56\"/>\n       <use x=\"625.345703\" xlink:href=\"#DejaVuSans-56\"/>\n       <use x=\"688.96875\" xlink:href=\"#DejaVuSans-46\"/>\n       <use x=\"720.755859\" xlink:href=\"#DejaVuSans-48\"/>\n      </g>\n     </g>\n    </g>\n    <g id=\"ytick_3\">\n     <g id=\"line2d_7\">\n      <g>\n       <use style=\"stroke:#000000;stroke-width:0.8;\" x=\"123.93875\" xlink:href=\"#m3602df511c\" y=\"211.05\"/>\n      </g>\n     </g>\n     <g id=\"text_5\">\n      <!-- Class yes  -->\n      <g transform=\"translate(57.004375 209.802188)scale(0.12 -0.12)\">\n       <use xlink:href=\"#DejaVuSans-67\"/>\n       <use x=\"69.824219\" xlink:href=\"#DejaVuSans-108\"/>\n       <use x=\"97.607422\" xlink:href=\"#DejaVuSans-97\"/>\n       <use x=\"158.886719\" xlink:href=\"#DejaVuSans-115\"/>\n       <use x=\"210.986328\" xlink:href=\"#DejaVuSans-115\"/>\n       <use x=\"263.085938\" xlink:href=\"#DejaVuSans-32\"/>\n       <use x=\"294.873047\" xlink:href=\"#DejaVuSans-121\"/>\n       <use x=\"354.052734\" xlink:href=\"#DejaVuSans-101\"/>\n       <use x=\"415.576172\" xlink:href=\"#DejaVuSans-115\"/>\n       <use x=\"467.675781\" xlink:href=\"#DejaVuSans-32\"/>\n      </g>\n      <!--  Precision=70.0 -->\n      <g transform=\"translate(22.81375 223.239562)scale(0.12 -0.12)\">\n       <use xlink:href=\"#DejaVuSans-32\"/>\n       <use x=\"31.787109\" xlink:href=\"#DejaVuSans-80\"/>\n       <use x=\"90.339844\" xlink:href=\"#DejaVuSans-114\"/>\n       <use x=\"129.203125\" xlink:href=\"#DejaVuSans-101\"/>\n       <use x=\"190.726562\" xlink:href=\"#DejaVuSans-99\"/>\n       <use x=\"245.707031\" xlink:href=\"#DejaVuSans-105\"/>\n       <use x=\"273.490234\" xlink:href=\"#DejaVuSans-115\"/>\n       <use x=\"325.589844\" xlink:href=\"#DejaVuSans-105\"/>\n       <use x=\"353.373047\" xlink:href=\"#DejaVuSans-111\"/>\n       <use x=\"414.554688\" xlink:href=\"#DejaVuSans-110\"/>\n       <use x=\"477.933594\" xlink:href=\"#DejaVuSans-61\"/>\n       <use x=\"561.722656\" xlink:href=\"#DejaVuSans-55\"/>\n       <use x=\"625.345703\" xlink:href=\"#DejaVuSans-48\"/>\n       <use x=\"688.96875\" xlink:href=\"#DejaVuSans-46\"/>\n       <use x=\"720.755859\" xlink:href=\"#DejaVuSans-48\"/>\n      </g>\n     </g>\n    </g>\n    <g id=\"ytick_4\">\n     <g id=\"line2d_8\">\n      <g>\n       <use style=\"stroke:#000000;stroke-width:0.8;\" x=\"123.93875\" xlink:href=\"#m3602df511c\" y=\"279\"/>\n      </g>\n     </g>\n    </g>\n    <g id=\"text_6\">\n     <!-- Predicted Class -->\n     <defs>\n      <path d=\"M 45.40625 46.390625 \nL 45.40625 75.984375 \nL 54.390625 75.984375 \nL 54.390625 0 \nL 45.40625 0 \nL 45.40625 8.203125 \nQ 42.578125 3.328125 38.25 0.953125 \nQ 33.9375 -1.421875 27.875 -1.421875 \nQ 17.96875 -1.421875 11.734375 6.484375 \nQ 5.515625 14.40625 5.515625 27.296875 \nQ 5.515625 40.1875 11.734375 48.09375 \nQ 17.96875 56 27.875 56 \nQ 33.9375 56 38.25 53.625 \nQ 42.578125 51.265625 45.40625 46.390625 \nz\nM 14.796875 27.296875 \nQ 14.796875 17.390625 18.875 11.75 \nQ 22.953125 6.109375 30.078125 6.109375 \nQ 37.203125 6.109375 41.296875 11.75 \nQ 45.40625 17.390625 45.40625 27.296875 \nQ 45.40625 37.203125 41.296875 42.84375 \nQ 37.203125 48.484375 30.078125 48.484375 \nQ 22.953125 48.484375 18.875 42.84375 \nQ 14.796875 37.203125 14.796875 27.296875 \nz\n\" id=\"DejaVuSans-100\"/>\n     </defs>\n     <g transform=\"translate(16.318125 188.955937)rotate(-90)scale(0.12 -0.12)\">\n      <use xlink:href=\"#DejaVuSans-80\"/>\n      <use x=\"58.552734\" xlink:href=\"#DejaVuSans-114\"/>\n      <use x=\"97.416016\" xlink:href=\"#DejaVuSans-101\"/>\n      <use x=\"158.939453\" xlink:href=\"#DejaVuSans-100\"/>\n      <use x=\"222.416016\" xlink:href=\"#DejaVuSans-105\"/>\n      <use x=\"250.199219\" xlink:href=\"#DejaVuSans-99\"/>\n      <use x=\"305.179688\" xlink:href=\"#DejaVuSans-116\"/>\n      <use x=\"344.388672\" xlink:href=\"#DejaVuSans-101\"/>\n      <use x=\"405.912109\" xlink:href=\"#DejaVuSans-100\"/>\n      <use x=\"469.388672\" xlink:href=\"#DejaVuSans-32\"/>\n      <use x=\"501.175781\" xlink:href=\"#DejaVuSans-67\"/>\n      <use x=\"571\" xlink:href=\"#DejaVuSans-108\"/>\n      <use x=\"598.783203\" xlink:href=\"#DejaVuSans-97\"/>\n      <use x=\"660.0625\" xlink:href=\"#DejaVuSans-115\"/>\n      <use x=\"712.162109\" xlink:href=\"#DejaVuSans-115\"/>\n     </g>\n    </g>\n   </g>\n   <g id=\"patch_3\">\n    <path d=\"M 123.93875 279 \nL 123.93875 7.2 \n\" style=\"fill:none;stroke:#000000;stroke-linecap:square;stroke-linejoin:miter;stroke-width:0.8;\"/>\n   </g>\n   <g id=\"patch_4\">\n    <path d=\"M 395.73875 279 \nL 395.73875 7.2 \n\" style=\"fill:none;stroke:#000000;stroke-linecap:square;stroke-linejoin:miter;stroke-width:0.8;\"/>\n   </g>\n   <g id=\"patch_5\">\n    <path d=\"M 123.93875 279 \nL 395.73875 279 \n\" style=\"fill:none;stroke:#000000;stroke-linecap:square;stroke-linejoin:miter;stroke-width:0.8;\"/>\n   </g>\n   <g id=\"patch_6\">\n    <path d=\"M 123.93875 7.2 \nL 395.73875 7.2 \n\" style=\"fill:none;stroke:#000000;stroke-linecap:square;stroke-linejoin:miter;stroke-width:0.8;\"/>\n   </g>\n   <g id=\"text_7\">\n    <!-- 694 -->\n    <g style=\"fill:#ffffff;\" transform=\"translate(180.43625 78.46125)scale(0.12 -0.12)\">\n     <use xlink:href=\"#DejaVuSans-54\"/>\n     <use x=\"63.623047\" xlink:href=\"#DejaVuSans-57\"/>\n     <use x=\"127.246094\" xlink:href=\"#DejaVuSans-52\"/>\n    </g>\n   </g>\n   <g id=\"text_8\">\n    <!-- 95 -->\n    <defs>\n     <path d=\"M 10.796875 72.90625 \nL 49.515625 72.90625 \nL 49.515625 64.59375 \nL 19.828125 64.59375 \nL 19.828125 46.734375 \nQ 21.96875 47.46875 24.109375 47.828125 \nQ 26.265625 48.1875 28.421875 48.1875 \nQ 40.625 48.1875 47.75 41.5 \nQ 54.890625 34.8125 54.890625 23.390625 \nQ 54.890625 11.625 47.5625 5.09375 \nQ 40.234375 -1.421875 26.90625 -1.421875 \nQ 22.3125 -1.421875 17.546875 -0.640625 \nQ 12.796875 0.140625 7.71875 1.703125 \nL 7.71875 11.625 \nQ 12.109375 9.234375 16.796875 8.0625 \nQ 21.484375 6.890625 26.703125 6.890625 \nQ 35.15625 6.890625 40.078125 11.328125 \nQ 45.015625 15.765625 45.015625 23.390625 \nQ 45.015625 31 40.078125 35.4375 \nQ 35.15625 39.890625 26.703125 39.890625 \nQ 22.75 39.890625 18.8125 39.015625 \nQ 14.890625 38.140625 10.796875 36.28125 \nz\n\" id=\"DejaVuSans-53\"/>\n    </defs>\n    <g style=\"fill:#ffffff;\" transform=\"translate(320.15375 78.46125)scale(0.12 -0.12)\">\n     <use xlink:href=\"#DejaVuSans-57\"/>\n     <use x=\"63.623047\" xlink:href=\"#DejaVuSans-53\"/>\n    </g>\n   </g>\n   <g id=\"text_9\">\n    <!-- 335 -->\n    <defs>\n     <path d=\"M 40.578125 39.3125 \nQ 47.65625 37.796875 51.625 33 \nQ 55.609375 28.21875 55.609375 21.1875 \nQ 55.609375 10.40625 48.1875 4.484375 \nQ 40.765625 -1.421875 27.09375 -1.421875 \nQ 22.515625 -1.421875 17.65625 -0.515625 \nQ 12.796875 0.390625 7.625 2.203125 \nL 7.625 11.71875 \nQ 11.71875 9.328125 16.59375 8.109375 \nQ 21.484375 6.890625 26.8125 6.890625 \nQ 36.078125 6.890625 40.9375 10.546875 \nQ 45.796875 14.203125 45.796875 21.1875 \nQ 45.796875 27.640625 41.28125 31.265625 \nQ 36.765625 34.90625 28.71875 34.90625 \nL 20.21875 34.90625 \nL 20.21875 43.015625 \nL 29.109375 43.015625 \nQ 36.375 43.015625 40.234375 45.921875 \nQ 44.09375 48.828125 44.09375 54.296875 \nQ 44.09375 59.90625 40.109375 62.90625 \nQ 36.140625 65.921875 28.71875 65.921875 \nQ 24.65625 65.921875 20.015625 65.03125 \nQ 15.375 64.15625 9.8125 62.3125 \nL 9.8125 71.09375 \nQ 15.4375 72.65625 20.34375 73.4375 \nQ 25.25 74.21875 29.59375 74.21875 \nQ 40.828125 74.21875 47.359375 69.109375 \nQ 53.90625 64.015625 53.90625 55.328125 \nQ 53.90625 49.265625 50.4375 45.09375 \nQ 46.96875 40.921875 40.578125 39.3125 \nz\n\" id=\"DejaVuSans-51\"/>\n    </defs>\n    <g style=\"fill:#ffffff;\" transform=\"translate(180.43625 214.36125)scale(0.12 -0.12)\">\n     <use xlink:href=\"#DejaVuSans-51\"/>\n     <use x=\"63.623047\" xlink:href=\"#DejaVuSans-51\"/>\n     <use x=\"127.246094\" xlink:href=\"#DejaVuSans-53\"/>\n    </g>\n   </g>\n   <g id=\"text_10\">\n    <!-- 781 -->\n    <defs>\n     <path d=\"M 12.40625 8.296875 \nL 28.515625 8.296875 \nL 28.515625 63.921875 \nL 10.984375 60.40625 \nL 10.984375 69.390625 \nL 28.421875 72.90625 \nL 38.28125 72.90625 \nL 38.28125 8.296875 \nL 54.390625 8.296875 \nL 54.390625 0 \nL 12.40625 0 \nz\n\" id=\"DejaVuSans-49\"/>\n    </defs>\n    <g style=\"fill:#ffffff;\" transform=\"translate(316.33625 214.36125)scale(0.12 -0.12)\">\n     <use xlink:href=\"#DejaVuSans-55\"/>\n     <use x=\"63.623047\" xlink:href=\"#DejaVuSans-56\"/>\n     <use x=\"127.246094\" xlink:href=\"#DejaVuSans-49\"/>\n    </g>\n   </g>\n  </g>\n </g>\n <defs>\n  <clipPath id=\"pc2249a847d\">\n   <rect height=\"271.8\" width=\"271.8\" x=\"123.93875\" y=\"7.2\"/>\n  </clipPath>\n </defs>\n</svg>\n",
      "image/png": "[encoded data removed]"
     },
     "metadata": {
      "needs_background": "light"
     }
    }
   ],
   "source": [
    "predictions = (lstm_model.predict(test_sequences_matrix) > 0.5).astype(\"int32\").flatten() # Get the prediction labels\n",
    "\n",
    "confusionMatrix = None # Remove any previously created confusion matrix\n",
    "confusionMatrix = confusion_matrix(Y_test, predictions) # Create new confusion matrix\n",
    "plt.rcParams['figure.figsize'] = (5, 5) # Determine the size of the plot\n",
    "displayConfusionMatrix(confusionMatrix) # Display the plot"
   ]
  },
  {
   "cell_type": "code",
   "execution_count": 25,
   "metadata": {},
   "outputs": [
    {
     "output_type": "stream",
     "name": "stdout",
     "text": [
      "AUC Score = 87.440\n"
     ]
    },
    {
     "output_type": "display_data",
     "data": {
      "text/plain": "<Figure size 432x432 with 1 Axes>",
      "image/svg+xml": "<?xml version=\"1.0\" encoding=\"utf-8\" standalone=\"no\"?>\n<!DOCTYPE svg PUBLIC \"-//W3C//DTD SVG 1.1//EN\"\n  \"http://www.w3.org/Graphics/SVG/1.1/DTD/svg11.dtd\">\n<!-- Created with matplotlib (https://matplotlib.org/) -->\n<svg height=\"386.034375pt\" version=\"1.1\" viewBox=\"0 0 385.78125 386.034375\" width=\"385.78125pt\" xmlns=\"http://www.w3.org/2000/svg\" xmlns:xlink=\"http://www.w3.org/1999/xlink\">\n <defs>\n  <style type=\"text/css\">\n*{stroke-linecap:butt;stroke-linejoin:round;}\n  </style>\n </defs>\n <g id=\"figure_1\">\n  <g id=\"patch_1\">\n   <path d=\"M 0 386.034375 \nL 385.78125 386.034375 \nL 385.78125 0 \nL 0 0 \nz\n\" style=\"fill:none;\"/>\n  </g>\n  <g id=\"axes_1\">\n   <g id=\"patch_2\">\n    <path d=\"M 43.78125 348.478125 \nL 378.58125 348.478125 \nL 378.58125 22.318125 \nL 43.78125 22.318125 \nz\n\" style=\"fill:#ffffff;\"/>\n   </g>\n   <g id=\"matplotlib.axis_1\">\n    <g id=\"xtick_1\">\n     <g id=\"line2d_1\">\n      <defs>\n       <path d=\"M 0 0 \nL 0 3.5 \n\" id=\"mcd5b104201\" style=\"stroke:#000000;stroke-width:0.8;\"/>\n      </defs>\n      <g>\n       <use style=\"stroke:#000000;stroke-width:0.8;\" x=\"58.999432\" xlink:href=\"#mcd5b104201\" y=\"348.478125\"/>\n      </g>\n     </g>\n     <g id=\"text_1\">\n      <!-- 0.0 -->\n      <defs>\n       <path d=\"M 31.78125 66.40625 \nQ 24.171875 66.40625 20.328125 58.90625 \nQ 16.5 51.421875 16.5 36.375 \nQ 16.5 21.390625 20.328125 13.890625 \nQ 24.171875 6.390625 31.78125 6.390625 \nQ 39.453125 6.390625 43.28125 13.890625 \nQ 47.125 21.390625 47.125 36.375 \nQ 47.125 51.421875 43.28125 58.90625 \nQ 39.453125 66.40625 31.78125 66.40625 \nz\nM 31.78125 74.21875 \nQ 44.046875 74.21875 50.515625 64.515625 \nQ 56.984375 54.828125 56.984375 36.375 \nQ 56.984375 17.96875 50.515625 8.265625 \nQ 44.046875 -1.421875 31.78125 -1.421875 \nQ 19.53125 -1.421875 13.0625 8.265625 \nQ 6.59375 17.96875 6.59375 36.375 \nQ 6.59375 54.828125 13.0625 64.515625 \nQ 19.53125 74.21875 31.78125 74.21875 \nz\n\" id=\"DejaVuSans-48\"/>\n       <path d=\"M 10.6875 12.40625 \nL 21 12.40625 \nL 21 0 \nL 10.6875 0 \nz\n\" id=\"DejaVuSans-46\"/>\n      </defs>\n      <g transform=\"translate(51.047869 363.076562)scale(0.1 -0.1)\">\n       <use xlink:href=\"#DejaVuSans-48\"/>\n       <use x=\"63.623047\" xlink:href=\"#DejaVuSans-46\"/>\n       <use x=\"95.410156\" xlink:href=\"#DejaVuSans-48\"/>\n      </g>\n     </g>\n    </g>\n    <g id=\"xtick_2\">\n     <g id=\"line2d_2\">\n      <g>\n       <use style=\"stroke:#000000;stroke-width:0.8;\" x=\"119.872159\" xlink:href=\"#mcd5b104201\" y=\"348.478125\"/>\n      </g>\n     </g>\n     <g id=\"text_2\">\n      <!-- 0.2 -->\n      <defs>\n       <path d=\"M 19.1875 8.296875 \nL 53.609375 8.296875 \nL 53.609375 0 \nL 7.328125 0 \nL 7.328125 8.296875 \nQ 12.9375 14.109375 22.625 23.890625 \nQ 32.328125 33.6875 34.8125 36.53125 \nQ 39.546875 41.84375 41.421875 45.53125 \nQ 43.3125 49.21875 43.3125 52.78125 \nQ 43.3125 58.59375 39.234375 62.25 \nQ 35.15625 65.921875 28.609375 65.921875 \nQ 23.96875 65.921875 18.8125 64.3125 \nQ 13.671875 62.703125 7.8125 59.421875 \nL 7.8125 69.390625 \nQ 13.765625 71.78125 18.9375 73 \nQ 24.125 74.21875 28.421875 74.21875 \nQ 39.75 74.21875 46.484375 68.546875 \nQ 53.21875 62.890625 53.21875 53.421875 \nQ 53.21875 48.921875 51.53125 44.890625 \nQ 49.859375 40.875 45.40625 35.40625 \nQ 44.1875 33.984375 37.640625 27.21875 \nQ 31.109375 20.453125 19.1875 8.296875 \nz\n\" id=\"DejaVuSans-50\"/>\n      </defs>\n      <g transform=\"translate(111.920597 363.076562)scale(0.1 -0.1)\">\n       <use xlink:href=\"#DejaVuSans-48\"/>\n       <use x=\"63.623047\" xlink:href=\"#DejaVuSans-46\"/>\n       <use x=\"95.410156\" xlink:href=\"#DejaVuSans-50\"/>\n      </g>\n     </g>\n    </g>\n    <g id=\"xtick_3\">\n     <g id=\"line2d_3\">\n      <g>\n       <use style=\"stroke:#000000;stroke-width:0.8;\" x=\"180.744886\" xlink:href=\"#mcd5b104201\" y=\"348.478125\"/>\n      </g>\n     </g>\n     <g id=\"text_3\">\n      <!-- 0.4 -->\n      <defs>\n       <path d=\"M 37.796875 64.3125 \nL 12.890625 25.390625 \nL 37.796875 25.390625 \nz\nM 35.203125 72.90625 \nL 47.609375 72.90625 \nL 47.609375 25.390625 \nL 58.015625 25.390625 \nL 58.015625 17.1875 \nL 47.609375 17.1875 \nL 47.609375 0 \nL 37.796875 0 \nL 37.796875 17.1875 \nL 4.890625 17.1875 \nL 4.890625 26.703125 \nz\n\" id=\"DejaVuSans-52\"/>\n      </defs>\n      <g transform=\"translate(172.793324 363.076562)scale(0.1 -0.1)\">\n       <use xlink:href=\"#DejaVuSans-48\"/>\n       <use x=\"63.623047\" xlink:href=\"#DejaVuSans-46\"/>\n       <use x=\"95.410156\" xlink:href=\"#DejaVuSans-52\"/>\n      </g>\n     </g>\n    </g>\n    <g id=\"xtick_4\">\n     <g id=\"line2d_4\">\n      <g>\n       <use style=\"stroke:#000000;stroke-width:0.8;\" x=\"241.617614\" xlink:href=\"#mcd5b104201\" y=\"348.478125\"/>\n      </g>\n     </g>\n     <g id=\"text_4\">\n      <!-- 0.6 -->\n      <defs>\n       <path d=\"M 33.015625 40.375 \nQ 26.375 40.375 22.484375 35.828125 \nQ 18.609375 31.296875 18.609375 23.390625 \nQ 18.609375 15.53125 22.484375 10.953125 \nQ 26.375 6.390625 33.015625 6.390625 \nQ 39.65625 6.390625 43.53125 10.953125 \nQ 47.40625 15.53125 47.40625 23.390625 \nQ 47.40625 31.296875 43.53125 35.828125 \nQ 39.65625 40.375 33.015625 40.375 \nz\nM 52.59375 71.296875 \nL 52.59375 62.3125 \nQ 48.875 64.0625 45.09375 64.984375 \nQ 41.3125 65.921875 37.59375 65.921875 \nQ 27.828125 65.921875 22.671875 59.328125 \nQ 17.53125 52.734375 16.796875 39.40625 \nQ 19.671875 43.65625 24.015625 45.921875 \nQ 28.375 48.1875 33.59375 48.1875 \nQ 44.578125 48.1875 50.953125 41.515625 \nQ 57.328125 34.859375 57.328125 23.390625 \nQ 57.328125 12.15625 50.6875 5.359375 \nQ 44.046875 -1.421875 33.015625 -1.421875 \nQ 20.359375 -1.421875 13.671875 8.265625 \nQ 6.984375 17.96875 6.984375 36.375 \nQ 6.984375 53.65625 15.1875 63.9375 \nQ 23.390625 74.21875 37.203125 74.21875 \nQ 40.921875 74.21875 44.703125 73.484375 \nQ 48.484375 72.75 52.59375 71.296875 \nz\n\" id=\"DejaVuSans-54\"/>\n      </defs>\n      <g transform=\"translate(233.666051 363.076562)scale(0.1 -0.1)\">\n       <use xlink:href=\"#DejaVuSans-48\"/>\n       <use x=\"63.623047\" xlink:href=\"#DejaVuSans-46\"/>\n       <use x=\"95.410156\" xlink:href=\"#DejaVuSans-54\"/>\n      </g>\n     </g>\n    </g>\n    <g id=\"xtick_5\">\n     <g id=\"line2d_5\">\n      <g>\n       <use style=\"stroke:#000000;stroke-width:0.8;\" x=\"302.490341\" xlink:href=\"#mcd5b104201\" y=\"348.478125\"/>\n      </g>\n     </g>\n     <g id=\"text_5\">\n      <!-- 0.8 -->\n      <defs>\n       <path d=\"M 31.78125 34.625 \nQ 24.75 34.625 20.71875 30.859375 \nQ 16.703125 27.09375 16.703125 20.515625 \nQ 16.703125 13.921875 20.71875 10.15625 \nQ 24.75 6.390625 31.78125 6.390625 \nQ 38.8125 6.390625 42.859375 10.171875 \nQ 46.921875 13.96875 46.921875 20.515625 \nQ 46.921875 27.09375 42.890625 30.859375 \nQ 38.875 34.625 31.78125 34.625 \nz\nM 21.921875 38.8125 \nQ 15.578125 40.375 12.03125 44.71875 \nQ 8.5 49.078125 8.5 55.328125 \nQ 8.5 64.0625 14.71875 69.140625 \nQ 20.953125 74.21875 31.78125 74.21875 \nQ 42.671875 74.21875 48.875 69.140625 \nQ 55.078125 64.0625 55.078125 55.328125 \nQ 55.078125 49.078125 51.53125 44.71875 \nQ 48 40.375 41.703125 38.8125 \nQ 48.828125 37.15625 52.796875 32.3125 \nQ 56.78125 27.484375 56.78125 20.515625 \nQ 56.78125 9.90625 50.3125 4.234375 \nQ 43.84375 -1.421875 31.78125 -1.421875 \nQ 19.734375 -1.421875 13.25 4.234375 \nQ 6.78125 9.90625 6.78125 20.515625 \nQ 6.78125 27.484375 10.78125 32.3125 \nQ 14.796875 37.15625 21.921875 38.8125 \nz\nM 18.3125 54.390625 \nQ 18.3125 48.734375 21.84375 45.5625 \nQ 25.390625 42.390625 31.78125 42.390625 \nQ 38.140625 42.390625 41.71875 45.5625 \nQ 45.3125 48.734375 45.3125 54.390625 \nQ 45.3125 60.0625 41.71875 63.234375 \nQ 38.140625 66.40625 31.78125 66.40625 \nQ 25.390625 66.40625 21.84375 63.234375 \nQ 18.3125 60.0625 18.3125 54.390625 \nz\n\" id=\"DejaVuSans-56\"/>\n      </defs>\n      <g transform=\"translate(294.538778 363.076562)scale(0.1 -0.1)\">\n       <use xlink:href=\"#DejaVuSans-48\"/>\n       <use x=\"63.623047\" xlink:href=\"#DejaVuSans-46\"/>\n       <use x=\"95.410156\" xlink:href=\"#DejaVuSans-56\"/>\n      </g>\n     </g>\n    </g>\n    <g id=\"xtick_6\">\n     <g id=\"line2d_6\">\n      <g>\n       <use style=\"stroke:#000000;stroke-width:0.8;\" x=\"363.363068\" xlink:href=\"#mcd5b104201\" y=\"348.478125\"/>\n      </g>\n     </g>\n     <g id=\"text_6\">\n      <!-- 1.0 -->\n      <defs>\n       <path d=\"M 12.40625 8.296875 \nL 28.515625 8.296875 \nL 28.515625 63.921875 \nL 10.984375 60.40625 \nL 10.984375 69.390625 \nL 28.421875 72.90625 \nL 38.28125 72.90625 \nL 38.28125 8.296875 \nL 54.390625 8.296875 \nL 54.390625 0 \nL 12.40625 0 \nz\n\" id=\"DejaVuSans-49\"/>\n      </defs>\n      <g transform=\"translate(355.411506 363.076562)scale(0.1 -0.1)\">\n       <use xlink:href=\"#DejaVuSans-49\"/>\n       <use x=\"63.623047\" xlink:href=\"#DejaVuSans-46\"/>\n       <use x=\"95.410156\" xlink:href=\"#DejaVuSans-48\"/>\n      </g>\n     </g>\n    </g>\n    <g id=\"text_7\">\n     <!-- False Positive Rate -->\n     <defs>\n      <path d=\"M 9.8125 72.90625 \nL 51.703125 72.90625 \nL 51.703125 64.59375 \nL 19.671875 64.59375 \nL 19.671875 43.109375 \nL 48.578125 43.109375 \nL 48.578125 34.8125 \nL 19.671875 34.8125 \nL 19.671875 0 \nL 9.8125 0 \nz\n\" id=\"DejaVuSans-70\"/>\n      <path d=\"M 34.28125 27.484375 \nQ 23.390625 27.484375 19.1875 25 \nQ 14.984375 22.515625 14.984375 16.5 \nQ 14.984375 11.71875 18.140625 8.90625 \nQ 21.296875 6.109375 26.703125 6.109375 \nQ 34.1875 6.109375 38.703125 11.40625 \nQ 43.21875 16.703125 43.21875 25.484375 \nL 43.21875 27.484375 \nz\nM 52.203125 31.203125 \nL 52.203125 0 \nL 43.21875 0 \nL 43.21875 8.296875 \nQ 40.140625 3.328125 35.546875 0.953125 \nQ 30.953125 -1.421875 24.3125 -1.421875 \nQ 15.921875 -1.421875 10.953125 3.296875 \nQ 6 8.015625 6 15.921875 \nQ 6 25.140625 12.171875 29.828125 \nQ 18.359375 34.515625 30.609375 34.515625 \nL 43.21875 34.515625 \nL 43.21875 35.40625 \nQ 43.21875 41.609375 39.140625 45 \nQ 35.0625 48.390625 27.6875 48.390625 \nQ 23 48.390625 18.546875 47.265625 \nQ 14.109375 46.140625 10.015625 43.890625 \nL 10.015625 52.203125 \nQ 14.9375 54.109375 19.578125 55.046875 \nQ 24.21875 56 28.609375 56 \nQ 40.484375 56 46.34375 49.84375 \nQ 52.203125 43.703125 52.203125 31.203125 \nz\n\" id=\"DejaVuSans-97\"/>\n      <path d=\"M 9.421875 75.984375 \nL 18.40625 75.984375 \nL 18.40625 0 \nL 9.421875 0 \nz\n\" id=\"DejaVuSans-108\"/>\n      <path d=\"M 44.28125 53.078125 \nL 44.28125 44.578125 \nQ 40.484375 46.53125 36.375 47.5 \nQ 32.28125 48.484375 27.875 48.484375 \nQ 21.1875 48.484375 17.84375 46.4375 \nQ 14.5 44.390625 14.5 40.28125 \nQ 14.5 37.15625 16.890625 35.375 \nQ 19.28125 33.59375 26.515625 31.984375 \nL 29.59375 31.296875 \nQ 39.15625 29.25 43.1875 25.515625 \nQ 47.21875 21.78125 47.21875 15.09375 \nQ 47.21875 7.46875 41.1875 3.015625 \nQ 35.15625 -1.421875 24.609375 -1.421875 \nQ 20.21875 -1.421875 15.453125 -0.5625 \nQ 10.6875 0.296875 5.421875 2 \nL 5.421875 11.28125 \nQ 10.40625 8.6875 15.234375 7.390625 \nQ 20.0625 6.109375 24.8125 6.109375 \nQ 31.15625 6.109375 34.5625 8.28125 \nQ 37.984375 10.453125 37.984375 14.40625 \nQ 37.984375 18.0625 35.515625 20.015625 \nQ 33.0625 21.96875 24.703125 23.78125 \nL 21.578125 24.515625 \nQ 13.234375 26.265625 9.515625 29.90625 \nQ 5.8125 33.546875 5.8125 39.890625 \nQ 5.8125 47.609375 11.28125 51.796875 \nQ 16.75 56 26.8125 56 \nQ 31.78125 56 36.171875 55.265625 \nQ 40.578125 54.546875 44.28125 53.078125 \nz\n\" id=\"DejaVuSans-115\"/>\n      <path d=\"M 56.203125 29.59375 \nL 56.203125 25.203125 \nL 14.890625 25.203125 \nQ 15.484375 15.921875 20.484375 11.0625 \nQ 25.484375 6.203125 34.421875 6.203125 \nQ 39.59375 6.203125 44.453125 7.46875 \nQ 49.3125 8.734375 54.109375 11.28125 \nL 54.109375 2.78125 \nQ 49.265625 0.734375 44.1875 -0.34375 \nQ 39.109375 -1.421875 33.890625 -1.421875 \nQ 20.796875 -1.421875 13.15625 6.1875 \nQ 5.515625 13.8125 5.515625 26.8125 \nQ 5.515625 40.234375 12.765625 48.109375 \nQ 20.015625 56 32.328125 56 \nQ 43.359375 56 49.78125 48.890625 \nQ 56.203125 41.796875 56.203125 29.59375 \nz\nM 47.21875 32.234375 \nQ 47.125 39.59375 43.09375 43.984375 \nQ 39.0625 48.390625 32.421875 48.390625 \nQ 24.90625 48.390625 20.390625 44.140625 \nQ 15.875 39.890625 15.1875 32.171875 \nz\n\" id=\"DejaVuSans-101\"/>\n      <path id=\"DejaVuSans-32\"/>\n      <path d=\"M 19.671875 64.796875 \nL 19.671875 37.40625 \nL 32.078125 37.40625 \nQ 38.96875 37.40625 42.71875 40.96875 \nQ 46.484375 44.53125 46.484375 51.125 \nQ 46.484375 57.671875 42.71875 61.234375 \nQ 38.96875 64.796875 32.078125 64.796875 \nz\nM 9.8125 72.90625 \nL 32.078125 72.90625 \nQ 44.34375 72.90625 50.609375 67.359375 \nQ 56.890625 61.8125 56.890625 51.125 \nQ 56.890625 40.328125 50.609375 34.8125 \nQ 44.34375 29.296875 32.078125 29.296875 \nL 19.671875 29.296875 \nL 19.671875 0 \nL 9.8125 0 \nz\n\" id=\"DejaVuSans-80\"/>\n      <path d=\"M 30.609375 48.390625 \nQ 23.390625 48.390625 19.1875 42.75 \nQ 14.984375 37.109375 14.984375 27.296875 \nQ 14.984375 17.484375 19.15625 11.84375 \nQ 23.34375 6.203125 30.609375 6.203125 \nQ 37.796875 6.203125 41.984375 11.859375 \nQ 46.1875 17.53125 46.1875 27.296875 \nQ 46.1875 37.015625 41.984375 42.703125 \nQ 37.796875 48.390625 30.609375 48.390625 \nz\nM 30.609375 56 \nQ 42.328125 56 49.015625 48.375 \nQ 55.71875 40.765625 55.71875 27.296875 \nQ 55.71875 13.875 49.015625 6.21875 \nQ 42.328125 -1.421875 30.609375 -1.421875 \nQ 18.84375 -1.421875 12.171875 6.21875 \nQ 5.515625 13.875 5.515625 27.296875 \nQ 5.515625 40.765625 12.171875 48.375 \nQ 18.84375 56 30.609375 56 \nz\n\" id=\"DejaVuSans-111\"/>\n      <path d=\"M 9.421875 54.6875 \nL 18.40625 54.6875 \nL 18.40625 0 \nL 9.421875 0 \nz\nM 9.421875 75.984375 \nL 18.40625 75.984375 \nL 18.40625 64.59375 \nL 9.421875 64.59375 \nz\n\" id=\"DejaVuSans-105\"/>\n      <path d=\"M 18.3125 70.21875 \nL 18.3125 54.6875 \nL 36.8125 54.6875 \nL 36.8125 47.703125 \nL 18.3125 47.703125 \nL 18.3125 18.015625 \nQ 18.3125 11.328125 20.140625 9.421875 \nQ 21.96875 7.515625 27.59375 7.515625 \nL 36.8125 7.515625 \nL 36.8125 0 \nL 27.59375 0 \nQ 17.1875 0 13.234375 3.875 \nQ 9.28125 7.765625 9.28125 18.015625 \nL 9.28125 47.703125 \nL 2.6875 47.703125 \nL 2.6875 54.6875 \nL 9.28125 54.6875 \nL 9.28125 70.21875 \nz\n\" id=\"DejaVuSans-116\"/>\n      <path d=\"M 2.984375 54.6875 \nL 12.5 54.6875 \nL 29.59375 8.796875 \nL 46.6875 54.6875 \nL 56.203125 54.6875 \nL 35.6875 0 \nL 23.484375 0 \nz\n\" id=\"DejaVuSans-118\"/>\n      <path d=\"M 44.390625 34.1875 \nQ 47.5625 33.109375 50.5625 29.59375 \nQ 53.5625 26.078125 56.59375 19.921875 \nL 66.609375 0 \nL 56 0 \nL 46.6875 18.703125 \nQ 43.0625 26.03125 39.671875 28.421875 \nQ 36.28125 30.8125 30.421875 30.8125 \nL 19.671875 30.8125 \nL 19.671875 0 \nL 9.8125 0 \nL 9.8125 72.90625 \nL 32.078125 72.90625 \nQ 44.578125 72.90625 50.734375 67.671875 \nQ 56.890625 62.453125 56.890625 51.90625 \nQ 56.890625 45.015625 53.6875 40.46875 \nQ 50.484375 35.9375 44.390625 34.1875 \nz\nM 19.671875 64.796875 \nL 19.671875 38.921875 \nL 32.078125 38.921875 \nQ 39.203125 38.921875 42.84375 42.21875 \nQ 46.484375 45.515625 46.484375 51.90625 \nQ 46.484375 58.296875 42.84375 61.546875 \nQ 39.203125 64.796875 32.078125 64.796875 \nz\n\" id=\"DejaVuSans-82\"/>\n     </defs>\n     <g transform=\"translate(164.714844 376.754687)scale(0.1 -0.1)\">\n      <use xlink:href=\"#DejaVuSans-70\"/>\n      <use x=\"48.394531\" xlink:href=\"#DejaVuSans-97\"/>\n      <use x=\"109.673828\" xlink:href=\"#DejaVuSans-108\"/>\n      <use x=\"137.457031\" xlink:href=\"#DejaVuSans-115\"/>\n      <use x=\"189.556641\" xlink:href=\"#DejaVuSans-101\"/>\n      <use x=\"251.080078\" xlink:href=\"#DejaVuSans-32\"/>\n      <use x=\"282.867188\" xlink:href=\"#DejaVuSans-80\"/>\n      <use x=\"339.544922\" xlink:href=\"#DejaVuSans-111\"/>\n      <use x=\"400.726562\" xlink:href=\"#DejaVuSans-115\"/>\n      <use x=\"452.826172\" xlink:href=\"#DejaVuSans-105\"/>\n      <use x=\"480.609375\" xlink:href=\"#DejaVuSans-116\"/>\n      <use x=\"519.818359\" xlink:href=\"#DejaVuSans-105\"/>\n      <use x=\"547.601562\" xlink:href=\"#DejaVuSans-118\"/>\n      <use x=\"606.78125\" xlink:href=\"#DejaVuSans-101\"/>\n      <use x=\"668.304688\" xlink:href=\"#DejaVuSans-32\"/>\n      <use x=\"700.091797\" xlink:href=\"#DejaVuSans-82\"/>\n      <use x=\"767.324219\" xlink:href=\"#DejaVuSans-97\"/>\n      <use x=\"828.603516\" xlink:href=\"#DejaVuSans-116\"/>\n      <use x=\"867.8125\" xlink:href=\"#DejaVuSans-101\"/>\n     </g>\n    </g>\n   </g>\n   <g id=\"matplotlib.axis_2\">\n    <g id=\"ytick_1\">\n     <g id=\"line2d_7\">\n      <defs>\n       <path d=\"M 0 0 \nL -3.5 0 \n\" id=\"m1ac98e34f3\" style=\"stroke:#000000;stroke-width:0.8;\"/>\n      </defs>\n      <g>\n       <use style=\"stroke:#000000;stroke-width:0.8;\" x=\"43.78125\" xlink:href=\"#m1ac98e34f3\" y=\"333.65267\"/>\n      </g>\n     </g>\n     <g id=\"text_8\">\n      <!-- 0.0 -->\n      <g transform=\"translate(20.878125 337.451889)scale(0.1 -0.1)\">\n       <use xlink:href=\"#DejaVuSans-48\"/>\n       <use x=\"63.623047\" xlink:href=\"#DejaVuSans-46\"/>\n       <use x=\"95.410156\" xlink:href=\"#DejaVuSans-48\"/>\n      </g>\n     </g>\n    </g>\n    <g id=\"ytick_2\">\n     <g id=\"line2d_8\">\n      <g>\n       <use style=\"stroke:#000000;stroke-width:0.8;\" x=\"43.78125\" xlink:href=\"#m1ac98e34f3\" y=\"274.350852\"/>\n      </g>\n     </g>\n     <g id=\"text_9\">\n      <!-- 0.2 -->\n      <g transform=\"translate(20.878125 278.150071)scale(0.1 -0.1)\">\n       <use xlink:href=\"#DejaVuSans-48\"/>\n       <use x=\"63.623047\" xlink:href=\"#DejaVuSans-46\"/>\n       <use x=\"95.410156\" xlink:href=\"#DejaVuSans-50\"/>\n      </g>\n     </g>\n    </g>\n    <g id=\"ytick_3\">\n     <g id=\"line2d_9\">\n      <g>\n       <use style=\"stroke:#000000;stroke-width:0.8;\" x=\"43.78125\" xlink:href=\"#m1ac98e34f3\" y=\"215.049034\"/>\n      </g>\n     </g>\n     <g id=\"text_10\">\n      <!-- 0.4 -->\n      <g transform=\"translate(20.878125 218.848253)scale(0.1 -0.1)\">\n       <use xlink:href=\"#DejaVuSans-48\"/>\n       <use x=\"63.623047\" xlink:href=\"#DejaVuSans-46\"/>\n       <use x=\"95.410156\" xlink:href=\"#DejaVuSans-52\"/>\n      </g>\n     </g>\n    </g>\n    <g id=\"ytick_4\">\n     <g id=\"line2d_10\">\n      <g>\n       <use style=\"stroke:#000000;stroke-width:0.8;\" x=\"43.78125\" xlink:href=\"#m1ac98e34f3\" y=\"155.747216\"/>\n      </g>\n     </g>\n     <g id=\"text_11\">\n      <!-- 0.6 -->\n      <g transform=\"translate(20.878125 159.546435)scale(0.1 -0.1)\">\n       <use xlink:href=\"#DejaVuSans-48\"/>\n       <use x=\"63.623047\" xlink:href=\"#DejaVuSans-46\"/>\n       <use x=\"95.410156\" xlink:href=\"#DejaVuSans-54\"/>\n      </g>\n     </g>\n    </g>\n    <g id=\"ytick_5\">\n     <g id=\"line2d_11\">\n      <g>\n       <use style=\"stroke:#000000;stroke-width:0.8;\" x=\"43.78125\" xlink:href=\"#m1ac98e34f3\" y=\"96.445398\"/>\n      </g>\n     </g>\n     <g id=\"text_12\">\n      <!-- 0.8 -->\n      <g transform=\"translate(20.878125 100.244616)scale(0.1 -0.1)\">\n       <use xlink:href=\"#DejaVuSans-48\"/>\n       <use x=\"63.623047\" xlink:href=\"#DejaVuSans-46\"/>\n       <use x=\"95.410156\" xlink:href=\"#DejaVuSans-56\"/>\n      </g>\n     </g>\n    </g>\n    <g id=\"ytick_6\">\n     <g id=\"line2d_12\">\n      <g>\n       <use style=\"stroke:#000000;stroke-width:0.8;\" x=\"43.78125\" xlink:href=\"#m1ac98e34f3\" y=\"37.14358\"/>\n      </g>\n     </g>\n     <g id=\"text_13\">\n      <!-- 1.0 -->\n      <g transform=\"translate(20.878125 40.942798)scale(0.1 -0.1)\">\n       <use xlink:href=\"#DejaVuSans-49\"/>\n       <use x=\"63.623047\" xlink:href=\"#DejaVuSans-46\"/>\n       <use x=\"95.410156\" xlink:href=\"#DejaVuSans-48\"/>\n      </g>\n     </g>\n    </g>\n    <g id=\"text_14\">\n     <!-- True Positive Rate -->\n     <defs>\n      <path d=\"M -0.296875 72.90625 \nL 61.375 72.90625 \nL 61.375 64.59375 \nL 35.5 64.59375 \nL 35.5 0 \nL 25.59375 0 \nL 25.59375 64.59375 \nL -0.296875 64.59375 \nz\n\" id=\"DejaVuSans-84\"/>\n      <path d=\"M 41.109375 46.296875 \nQ 39.59375 47.171875 37.8125 47.578125 \nQ 36.03125 48 33.890625 48 \nQ 26.265625 48 22.1875 43.046875 \nQ 18.109375 38.09375 18.109375 28.8125 \nL 18.109375 0 \nL 9.078125 0 \nL 9.078125 54.6875 \nL 18.109375 54.6875 \nL 18.109375 46.1875 \nQ 20.953125 51.171875 25.484375 53.578125 \nQ 30.03125 56 36.53125 56 \nQ 37.453125 56 38.578125 55.875 \nQ 39.703125 55.765625 41.0625 55.515625 \nz\n\" id=\"DejaVuSans-114\"/>\n      <path d=\"M 8.5 21.578125 \nL 8.5 54.6875 \nL 17.484375 54.6875 \nL 17.484375 21.921875 \nQ 17.484375 14.15625 20.5 10.265625 \nQ 23.53125 6.390625 29.59375 6.390625 \nQ 36.859375 6.390625 41.078125 11.03125 \nQ 45.3125 15.671875 45.3125 23.6875 \nL 45.3125 54.6875 \nL 54.296875 54.6875 \nL 54.296875 0 \nL 45.3125 0 \nL 45.3125 8.40625 \nQ 42.046875 3.421875 37.71875 1 \nQ 33.40625 -1.421875 27.6875 -1.421875 \nQ 18.265625 -1.421875 13.375 4.4375 \nQ 8.5 10.296875 8.5 21.578125 \nz\nM 31.109375 56 \nz\n\" id=\"DejaVuSans-117\"/>\n     </defs>\n     <g transform=\"translate(14.798438 229.927812)rotate(-90)scale(0.1 -0.1)\">\n      <use xlink:href=\"#DejaVuSans-84\"/>\n      <use x=\"46.333984\" xlink:href=\"#DejaVuSans-114\"/>\n      <use x=\"87.447266\" xlink:href=\"#DejaVuSans-117\"/>\n      <use x=\"150.826172\" xlink:href=\"#DejaVuSans-101\"/>\n      <use x=\"212.349609\" xlink:href=\"#DejaVuSans-32\"/>\n      <use x=\"244.136719\" xlink:href=\"#DejaVuSans-80\"/>\n      <use x=\"300.814453\" xlink:href=\"#DejaVuSans-111\"/>\n      <use x=\"361.996094\" xlink:href=\"#DejaVuSans-115\"/>\n      <use x=\"414.095703\" xlink:href=\"#DejaVuSans-105\"/>\n      <use x=\"441.878906\" xlink:href=\"#DejaVuSans-116\"/>\n      <use x=\"481.087891\" xlink:href=\"#DejaVuSans-105\"/>\n      <use x=\"508.871094\" xlink:href=\"#DejaVuSans-118\"/>\n      <use x=\"568.050781\" xlink:href=\"#DejaVuSans-101\"/>\n      <use x=\"629.574219\" xlink:href=\"#DejaVuSans-32\"/>\n      <use x=\"661.361328\" xlink:href=\"#DejaVuSans-82\"/>\n      <use x=\"728.59375\" xlink:href=\"#DejaVuSans-97\"/>\n      <use x=\"789.873047\" xlink:href=\"#DejaVuSans-116\"/>\n      <use x=\"829.082031\" xlink:href=\"#DejaVuSans-101\"/>\n     </g>\n    </g>\n   </g>\n   <g id=\"line2d_13\">\n    <path clip-path=\"url(#p0feb09c3f1)\" d=\"M 58.999432 333.65267 \nL 58.999432 318.082558 \nL 59.295218 318.082558 \nL 59.295218 309.959022 \nL 59.886789 309.959022 \nL 59.886789 304.20485 \nL 60.182575 304.20485 \nL 60.182575 300.481562 \nL 60.478361 300.481562 \nL 60.478361 294.72739 \nL 60.774147 294.72739 \nL 60.774147 289.311699 \nL 61.069933 289.311699 \nL 61.069933 287.957776 \nL 61.365719 287.957776 \nL 61.365719 284.572969 \nL 61.661504 284.572969 \nL 61.661504 276.110952 \nL 61.95729 276.110952 \nL 61.95729 270.018299 \nL 62.253076 270.018299 \nL 62.253076 269.679819 \nL 62.548862 269.679819 \nL 62.548862 267.987415 \nL 62.844648 267.987415 \nL 62.844648 256.140591 \nL 63.43622 256.140591 \nL 63.43622 252.417303 \nL 63.732005 252.417303 \nL 63.732005 249.370977 \nL 64.027791 249.370977 \nL 64.027791 248.694015 \nL 64.323577 248.694015 \nL 64.323577 243.955286 \nL 64.619363 243.955286 \nL 64.619363 243.278324 \nL 65.210935 243.278324 \nL 65.210935 242.601363 \nL 65.50672 242.601363 \nL 65.50672 241.585921 \nL 65.802506 241.585921 \nL 65.802506 240.231998 \nL 66.098292 240.231998 \nL 66.098292 238.878075 \nL 66.394078 238.878075 \nL 66.394078 238.201114 \nL 66.689864 238.201114 \nL 66.689864 236.50871 \nL 66.98565 236.50871 \nL 66.98565 229.739096 \nL 67.281436 229.739096 \nL 67.281436 227.369731 \nL 67.873007 227.369731 \nL 67.873007 226.015809 \nL 68.168793 226.015809 \nL 68.168793 222.969482 \nL 68.464579 222.969482 \nL 68.464579 220.600118 \nL 69.056151 220.600118 \nL 69.056151 220.261637 \nL 69.351936 220.261637 \nL 69.351936 219.584675 \nL 69.647722 219.584675 \nL 69.647722 218.907714 \nL 69.943508 218.907714 \nL 69.943508 217.892272 \nL 70.239294 217.892272 \nL 70.239294 217.215311 \nL 70.53508 217.215311 \nL 70.53508 216.199868 \nL 71.126652 216.199868 \nL 71.126652 215.522907 \nL 71.422437 215.522907 \nL 71.422437 213.492023 \nL 71.718223 213.492023 \nL 71.718223 210.445697 \nL 72.014009 210.445697 \nL 72.014009 208.414812 \nL 72.309795 208.414812 \nL 72.309795 207.737851 \nL 72.605581 207.737851 \nL 72.605581 206.383928 \nL 73.197152 206.383928 \nL 73.197152 204.014563 \nL 73.788724 204.014563 \nL 73.788724 203.676083 \nL 74.08451 203.676083 \nL 74.08451 202.660641 \nL 74.380296 202.660641 \nL 74.380296 202.32216 \nL 74.676082 202.32216 \nL 74.676082 201.983679 \nL 74.971868 201.983679 \nL 74.971868 199.275834 \nL 75.267653 199.275834 \nL 75.267653 195.552546 \nL 75.563439 195.552546 \nL 75.563439 195.214065 \nL 75.859225 195.214065 \nL 75.859225 191.829258 \nL 76.155011 191.829258 \nL 76.155011 191.490778 \nL 76.450797 191.490778 \nL 76.450797 189.798374 \nL 77.042368 189.798374 \nL 77.042368 189.459893 \nL 77.63394 189.459893 \nL 77.63394 187.76749 \nL 77.929726 187.76749 \nL 77.929726 186.752048 \nL 78.521298 186.752048 \nL 78.521298 185.736606 \nL 79.112869 185.736606 \nL 79.112869 181.336357 \nL 79.408655 181.336357 \nL 79.408655 179.982434 \nL 79.704441 179.982434 \nL 79.704441 177.95155 \nL 80.591799 177.95155 \nL 80.591799 175.243704 \nL 80.887584 175.243704 \nL 80.887584 174.905223 \nL 81.18337 174.905223 \nL 81.18337 174.228262 \nL 81.479156 174.228262 \nL 81.479156 173.889781 \nL 81.774942 173.889781 \nL 81.774942 173.21282 \nL 82.070728 173.21282 \nL 82.070728 172.535858 \nL 82.366514 172.535858 \nL 82.366514 171.858897 \nL 82.6623 171.858897 \nL 82.6623 170.843455 \nL 82.958085 170.843455 \nL 82.958085 170.504974 \nL 83.845443 170.504974 \nL 83.845443 168.135609 \nL 84.141229 168.135609 \nL 84.141229 167.797129 \nL 84.437015 167.797129 \nL 84.437015 167.120167 \nL 85.028586 167.120167 \nL 85.028586 165.766245 \nL 85.620158 165.766245 \nL 85.620158 163.058399 \nL 86.21173 163.058399 \nL 86.21173 160.350553 \nL 86.507516 160.350553 \nL 86.507516 158.319669 \nL 87.099087 158.319669 \nL 87.099087 156.965746 \nL 88.282231 156.965746 \nL 88.282231 155.950304 \nL 88.578016 155.950304 \nL 88.578016 155.611824 \nL 89.169588 155.611824 \nL 89.169588 155.273343 \nL 89.76116 155.273343 \nL 89.76116 154.934862 \nL 90.056946 154.934862 \nL 90.056946 153.91942 \nL 90.648517 153.91942 \nL 90.648517 153.580939 \nL 90.944303 153.580939 \nL 90.944303 152.565497 \nL 91.240089 152.565497 \nL 91.240089 151.550055 \nL 91.831661 151.550055 \nL 91.831661 151.211575 \nL 92.423233 151.211575 \nL 92.423233 150.873094 \nL 92.719018 150.873094 \nL 92.719018 149.857652 \nL 93.014804 149.857652 \nL 93.014804 146.472845 \nL 93.31059 146.472845 \nL 93.31059 146.134364 \nL 93.902162 146.134364 \nL 93.902162 144.780441 \nL 94.493733 144.780441 \nL 94.493733 142.749557 \nL 94.789519 142.749557 \nL 94.789519 142.411076 \nL 95.085305 142.411076 \nL 95.085305 141.057154 \nL 95.676877 141.057154 \nL 95.676877 139.36475 \nL 95.972663 139.36475 \nL 95.972663 137.333866 \nL 96.268449 137.333866 \nL 96.268449 136.995385 \nL 97.155806 136.995385 \nL 97.155806 134.964501 \nL 98.043164 134.964501 \nL 98.043164 134.62602 \nL 98.338949 134.62602 \nL 98.338949 133.610578 \nL 98.634735 133.610578 \nL 98.634735 133.272098 \nL 98.930521 133.272098 \nL 98.930521 132.933617 \nL 99.226307 132.933617 \nL 99.226307 130.902733 \nL 99.817879 130.902733 \nL 99.817879 129.887291 \nL 100.40945 129.887291 \nL 100.40945 127.517926 \nL 100.705236 127.517926 \nL 100.705236 126.502484 \nL 102.184165 126.502484 \nL 102.184165 125.148561 \nL 103.663095 125.148561 \nL 103.663095 124.471599 \nL 104.254666 124.471599 \nL 104.254666 122.440715 \nL 104.550452 122.440715 \nL 104.550452 122.102235 \nL 105.142024 122.102235 \nL 105.142024 121.425273 \nL 105.43781 121.425273 \nL 105.43781 121.086792 \nL 106.325167 121.086792 \nL 106.325167 119.394389 \nL 106.620953 119.394389 \nL 106.620953 119.055908 \nL 106.916739 119.055908 \nL 106.916739 118.717428 \nL 107.508311 118.717428 \nL 107.508311 118.378947 \nL 108.691454 118.378947 \nL 108.691454 116.348063 \nL 108.98724 116.348063 \nL 108.98724 114.655659 \nL 109.874597 114.655659 \nL 109.874597 114.317179 \nL 110.761955 114.317179 \nL 110.761955 113.301736 \nL 111.057741 113.301736 \nL 111.057741 112.963256 \nL 111.353527 112.963256 \nL 111.353527 109.916929 \nL 111.945098 109.916929 \nL 111.945098 109.578449 \nL 112.53667 109.578449 \nL 112.53667 108.563007 \nL 113.128242 108.563007 \nL 113.128242 108.224526 \nL 113.719813 108.224526 \nL 113.719813 107.547565 \nL 114.607171 107.547565 \nL 114.607171 107.209084 \nL 114.902957 107.209084 \nL 114.902957 106.870603 \nL 115.198743 106.870603 \nL 115.198743 106.532123 \nL 115.494529 106.532123 \nL 115.494529 106.193642 \nL 115.790314 106.193642 \nL 115.790314 104.839719 \nL 116.0861 104.839719 \nL 116.0861 103.147316 \nL 116.973458 103.147316 \nL 116.973458 102.808835 \nL 117.269244 102.808835 \nL 117.269244 102.470354 \nL 117.860815 102.470354 \nL 117.860815 101.454912 \nL 118.452387 101.454912 \nL 118.452387 100.43947 \nL 119.043959 100.43947 \nL 119.043959 99.424028 \nL 119.931316 99.424028 \nL 119.931316 99.085547 \nL 121.11446 99.085547 \nL 121.11446 98.747066 \nL 121.410245 98.747066 \nL 121.410245 98.070105 \nL 122.001817 98.070105 \nL 122.001817 97.393144 \nL 122.297603 97.393144 \nL 122.297603 97.054663 \nL 123.184961 97.054663 \nL 123.184961 95.362259 \nL 123.776532 95.362259 \nL 123.776532 94.346817 \nL 124.072318 94.346817 \nL 124.072318 93.331375 \nL 124.66389 93.331375 \nL 124.66389 92.992895 \nL 124.959676 92.992895 \nL 124.959676 92.315933 \nL 125.255462 92.315933 \nL 125.255462 91.977453 \nL 125.847033 91.977453 \nL 125.847033 91.638972 \nL 126.142819 91.638972 \nL 126.142819 91.300491 \nL 127.030177 91.300491 \nL 127.030177 90.96201 \nL 127.325962 90.96201 \nL 127.325962 90.62353 \nL 127.917534 90.62353 \nL 127.917534 90.285049 \nL 128.509106 90.285049 \nL 128.509106 89.608088 \nL 129.100678 89.608088 \nL 129.100678 89.269607 \nL 130.283821 89.269607 \nL 130.283821 88.592646 \nL 130.579607 88.592646 \nL 130.579607 85.8848 \nL 130.875393 85.8848 \nL 130.875393 85.207839 \nL 132.354322 85.207839 \nL 132.354322 82.499993 \nL 132.945894 82.499993 \nL 132.945894 82.161512 \nL 133.833251 82.161512 \nL 133.833251 81.484551 \nL 134.720609 81.484551 \nL 134.720609 81.14607 \nL 135.31218 81.14607 \nL 135.31218 80.80759 \nL 135.607966 80.80759 \nL 135.607966 80.469109 \nL 136.199538 80.469109 \nL 136.199538 80.130628 \nL 136.495324 80.130628 \nL 136.495324 79.792147 \nL 136.79111 79.792147 \nL 136.79111 79.453667 \nL 137.382681 79.453667 \nL 137.382681 79.115186 \nL 137.678467 79.115186 \nL 137.678467 78.776705 \nL 138.565825 78.776705 \nL 138.565825 78.099744 \nL 138.86161 78.099744 \nL 138.86161 76.745821 \nL 139.453182 76.745821 \nL 139.453182 76.40734 \nL 140.636326 76.40734 \nL 140.636326 75.730379 \nL 141.227897 75.730379 \nL 141.227897 75.391898 \nL 142.411041 75.391898 \nL 142.411041 75.053418 \nL 143.298398 75.053418 \nL 143.298398 74.037976 \nL 143.594184 74.037976 \nL 143.594184 73.361014 \nL 144.185756 73.361014 \nL 144.185756 73.022533 \nL 146.552042 73.022533 \nL 146.552042 72.684053 \nL 147.4394 72.684053 \nL 147.4394 72.345572 \nL 148.030972 72.345572 \nL 148.030972 72.007091 \nL 148.918329 72.007091 \nL 148.918329 71.668611 \nL 149.214115 71.668611 \nL 149.214115 70.991649 \nL 149.509901 70.991649 \nL 149.509901 70.653169 \nL 150.101473 70.653169 \nL 150.101473 70.314688 \nL 150.397258 70.314688 \nL 150.397258 69.299246 \nL 152.763545 69.299246 \nL 152.763545 68.960765 \nL 153.946689 68.960765 \nL 153.946689 68.622284 \nL 154.242474 68.622284 \nL 154.242474 67.606842 \nL 155.425618 67.606842 \nL 155.425618 66.929881 \nL 158.08769 66.929881 \nL 158.08769 66.5914 \nL 160.158191 66.5914 \nL 160.158191 65.914439 \nL 160.453977 65.914439 \nL 160.453977 65.237477 \nL 160.749763 65.237477 \nL 160.749763 64.898997 \nL 161.341335 64.898997 \nL 161.341335 64.560516 \nL 162.228692 64.560516 \nL 162.228692 63.883555 \nL 165.186551 63.883555 \nL 165.186551 63.545074 \nL 166.369694 63.545074 \nL 166.369694 63.206593 \nL 166.66548 63.206593 \nL 166.66548 62.529632 \nL 167.552838 62.529632 \nL 167.552838 62.191151 \nL 169.327553 62.191151 \nL 169.327553 61.85267 \nL 171.102268 61.85267 \nL 171.102268 61.51419 \nL 171.693839 61.51419 \nL 171.693839 60.837228 \nL 171.989625 60.837228 \nL 171.989625 60.498748 \nL 172.581197 60.498748 \nL 172.581197 60.160267 \nL 173.76434 60.160267 \nL 173.76434 59.821786 \nL 174.947484 59.821786 \nL 174.947484 59.483306 \nL 175.24327 59.483306 \nL 175.24327 59.144825 \nL 177.905342 59.144825 \nL 177.905342 58.806344 \nL 178.201128 58.806344 \nL 178.201128 58.467863 \nL 179.384271 58.467863 \nL 179.384271 58.129383 \nL 179.975843 58.129383 \nL 179.975843 57.452421 \nL 180.863201 57.452421 \nL 180.863201 57.113941 \nL 185.595774 57.113941 \nL 185.595774 56.77546 \nL 185.89156 56.77546 \nL 185.89156 56.436979 \nL 188.849419 56.436979 \nL 188.849419 56.098499 \nL 191.215705 56.098499 \nL 191.215705 54.744576 \nL 192.694635 54.744576 \nL 192.694635 54.406095 \nL 193.581992 54.406095 \nL 193.581992 54.067614 \nL 194.173564 54.067614 \nL 194.173564 53.729134 \nL 197.131422 53.729134 \nL 197.131422 53.390653 \nL 201.863996 53.390653 \nL 201.863996 53.052172 \nL 203.342925 53.052172 \nL 203.342925 52.713692 \nL 204.230283 52.713692 \nL 204.230283 52.375211 \nL 205.709212 52.375211 \nL 205.709212 52.03673 \nL 207.779713 52.03673 \nL 207.779713 51.359769 \nL 208.075499 51.359769 \nL 208.075499 51.021288 \nL 212.808072 51.021288 \nL 212.808072 50.682807 \nL 216.357502 50.682807 \nL 216.357502 50.344327 \nL 216.949074 50.344327 \nL 216.949074 49.667365 \nL 219.611147 49.667365 \nL 219.611147 49.328885 \nL 224.639506 49.328885 \nL 224.639506 48.990404 \nL 224.935292 48.990404 \nL 224.935292 48.651923 \nL 225.822649 48.651923 \nL 225.822649 47.974962 \nL 231.442581 47.974962 \nL 231.442581 47.636481 \nL 233.217296 47.636481 \nL 233.217296 47.298 \nL 234.696225 47.298 \nL 234.696225 46.95952 \nL 237.358297 46.95952 \nL 237.358297 46.621039 \nL 240.316156 46.621039 \nL 240.316156 46.282558 \nL 242.386657 46.282558 \nL 242.386657 45.944078 \nL 244.457158 45.944078 \nL 244.457158 45.605597 \nL 254.218091 45.605597 \nL 254.218091 45.267116 \nL 254.513877 45.267116 \nL 254.513877 44.590155 \nL 255.992806 44.590155 \nL 255.992806 43.574713 \nL 256.288592 43.574713 \nL 256.288592 43.236232 \nL 260.725379 43.236232 \nL 260.725379 42.897751 \nL 261.612737 42.897751 \nL 261.612737 42.559271 \nL 264.27481 42.559271 \nL 264.27481 42.22079 \nL 271.965242 42.22079 \nL 271.965242 41.882309 \nL 272.852599 41.882309 \nL 272.852599 41.543829 \nL 275.810458 41.543829 \nL 275.810458 41.205348 \nL 278.176744 41.205348 \nL 278.176744 40.866867 \nL 279.655674 40.866867 \nL 279.655674 40.528387 \nL 299.177539 40.528387 \nL 299.177539 40.189906 \nL 303.910113 40.189906 \nL 303.910113 39.851425 \nL 317.220476 39.851425 \nL 317.220476 39.512944 \nL 318.403619 39.512944 \nL 318.403619 39.174464 \nL 320.178335 39.174464 \nL 320.178335 38.835983 \nL 325.50248 38.835983 \nL 325.50248 38.497502 \nL 329.05191 38.497502 \nL 329.05191 38.159022 \nL 330.235053 38.159022 \nL 330.235053 37.820541 \nL 350.052705 37.820541 \nL 350.052705 37.48206 \nL 358.630495 37.48206 \nL 358.630495 37.14358 \nL 363.363068 37.14358 \nL 363.363068 37.14358 \n\" style=\"fill:none;stroke:#ffa500;stroke-linecap:square;stroke-width:1.5;\"/>\n   </g>\n   <g id=\"line2d_14\">\n    <path clip-path=\"url(#p0feb09c3f1)\" d=\"M 58.999432 333.65267 \nL 363.363068 37.14358 \n\" style=\"fill:none;stroke:#00008b;stroke-dasharray:5.55,2.4;stroke-dashoffset:0;stroke-width:1.5;\"/>\n   </g>\n   <g id=\"patch_3\">\n    <path d=\"M 43.78125 348.478125 \nL 43.78125 22.318125 \n\" style=\"fill:none;stroke:#000000;stroke-linecap:square;stroke-linejoin:miter;stroke-width:0.8;\"/>\n   </g>\n   <g id=\"patch_4\">\n    <path d=\"M 378.58125 348.478125 \nL 378.58125 22.318125 \n\" style=\"fill:none;stroke:#000000;stroke-linecap:square;stroke-linejoin:miter;stroke-width:0.8;\"/>\n   </g>\n   <g id=\"patch_5\">\n    <path d=\"M 43.78125 348.478125 \nL 378.58125 348.478125 \n\" style=\"fill:none;stroke:#000000;stroke-linecap:square;stroke-linejoin:miter;stroke-width:0.8;\"/>\n   </g>\n   <g id=\"patch_6\">\n    <path d=\"M 43.78125 22.318125 \nL 378.58125 22.318125 \n\" style=\"fill:none;stroke:#000000;stroke-linecap:square;stroke-linejoin:miter;stroke-width:0.8;\"/>\n   </g>\n   <g id=\"text_15\">\n    <!-- Receiver Operating Characteristic (ROC) Curve -->\n    <defs>\n     <path d=\"M 48.78125 52.59375 \nL 48.78125 44.1875 \nQ 44.96875 46.296875 41.140625 47.34375 \nQ 37.3125 48.390625 33.40625 48.390625 \nQ 24.65625 48.390625 19.8125 42.84375 \nQ 14.984375 37.3125 14.984375 27.296875 \nQ 14.984375 17.28125 19.8125 11.734375 \nQ 24.65625 6.203125 33.40625 6.203125 \nQ 37.3125 6.203125 41.140625 7.25 \nQ 44.96875 8.296875 48.78125 10.40625 \nL 48.78125 2.09375 \nQ 45.015625 0.34375 40.984375 -0.53125 \nQ 36.96875 -1.421875 32.421875 -1.421875 \nQ 20.0625 -1.421875 12.78125 6.34375 \nQ 5.515625 14.109375 5.515625 27.296875 \nQ 5.515625 40.671875 12.859375 48.328125 \nQ 20.21875 56 33.015625 56 \nQ 37.15625 56 41.109375 55.140625 \nQ 45.0625 54.296875 48.78125 52.59375 \nz\n\" id=\"DejaVuSans-99\"/>\n     <path d=\"M 39.40625 66.21875 \nQ 28.65625 66.21875 22.328125 58.203125 \nQ 16.015625 50.203125 16.015625 36.375 \nQ 16.015625 22.609375 22.328125 14.59375 \nQ 28.65625 6.59375 39.40625 6.59375 \nQ 50.140625 6.59375 56.421875 14.59375 \nQ 62.703125 22.609375 62.703125 36.375 \nQ 62.703125 50.203125 56.421875 58.203125 \nQ 50.140625 66.21875 39.40625 66.21875 \nz\nM 39.40625 74.21875 \nQ 54.734375 74.21875 63.90625 63.9375 \nQ 73.09375 53.65625 73.09375 36.375 \nQ 73.09375 19.140625 63.90625 8.859375 \nQ 54.734375 -1.421875 39.40625 -1.421875 \nQ 24.03125 -1.421875 14.8125 8.828125 \nQ 5.609375 19.09375 5.609375 36.375 \nQ 5.609375 53.65625 14.8125 63.9375 \nQ 24.03125 74.21875 39.40625 74.21875 \nz\n\" id=\"DejaVuSans-79\"/>\n     <path d=\"M 18.109375 8.203125 \nL 18.109375 -20.796875 \nL 9.078125 -20.796875 \nL 9.078125 54.6875 \nL 18.109375 54.6875 \nL 18.109375 46.390625 \nQ 20.953125 51.265625 25.265625 53.625 \nQ 29.59375 56 35.59375 56 \nQ 45.5625 56 51.78125 48.09375 \nQ 58.015625 40.1875 58.015625 27.296875 \nQ 58.015625 14.40625 51.78125 6.484375 \nQ 45.5625 -1.421875 35.59375 -1.421875 \nQ 29.59375 -1.421875 25.265625 0.953125 \nQ 20.953125 3.328125 18.109375 8.203125 \nz\nM 48.6875 27.296875 \nQ 48.6875 37.203125 44.609375 42.84375 \nQ 40.53125 48.484375 33.40625 48.484375 \nQ 26.265625 48.484375 22.1875 42.84375 \nQ 18.109375 37.203125 18.109375 27.296875 \nQ 18.109375 17.390625 22.1875 11.75 \nQ 26.265625 6.109375 33.40625 6.109375 \nQ 40.53125 6.109375 44.609375 11.75 \nQ 48.6875 17.390625 48.6875 27.296875 \nz\n\" id=\"DejaVuSans-112\"/>\n     <path d=\"M 54.890625 33.015625 \nL 54.890625 0 \nL 45.90625 0 \nL 45.90625 32.71875 \nQ 45.90625 40.484375 42.875 44.328125 \nQ 39.84375 48.1875 33.796875 48.1875 \nQ 26.515625 48.1875 22.3125 43.546875 \nQ 18.109375 38.921875 18.109375 30.90625 \nL 18.109375 0 \nL 9.078125 0 \nL 9.078125 54.6875 \nL 18.109375 54.6875 \nL 18.109375 46.1875 \nQ 21.34375 51.125 25.703125 53.5625 \nQ 30.078125 56 35.796875 56 \nQ 45.21875 56 50.046875 50.171875 \nQ 54.890625 44.34375 54.890625 33.015625 \nz\n\" id=\"DejaVuSans-110\"/>\n     <path d=\"M 45.40625 27.984375 \nQ 45.40625 37.75 41.375 43.109375 \nQ 37.359375 48.484375 30.078125 48.484375 \nQ 22.859375 48.484375 18.828125 43.109375 \nQ 14.796875 37.75 14.796875 27.984375 \nQ 14.796875 18.265625 18.828125 12.890625 \nQ 22.859375 7.515625 30.078125 7.515625 \nQ 37.359375 7.515625 41.375 12.890625 \nQ 45.40625 18.265625 45.40625 27.984375 \nz\nM 54.390625 6.78125 \nQ 54.390625 -7.171875 48.1875 -13.984375 \nQ 42 -20.796875 29.203125 -20.796875 \nQ 24.46875 -20.796875 20.265625 -20.09375 \nQ 16.0625 -19.390625 12.109375 -17.921875 \nL 12.109375 -9.1875 \nQ 16.0625 -11.328125 19.921875 -12.34375 \nQ 23.78125 -13.375 27.78125 -13.375 \nQ 36.625 -13.375 41.015625 -8.765625 \nQ 45.40625 -4.15625 45.40625 5.171875 \nL 45.40625 9.625 \nQ 42.625 4.78125 38.28125 2.390625 \nQ 33.9375 0 27.875 0 \nQ 17.828125 0 11.671875 7.65625 \nQ 5.515625 15.328125 5.515625 27.984375 \nQ 5.515625 40.671875 11.671875 48.328125 \nQ 17.828125 56 27.875 56 \nQ 33.9375 56 38.28125 53.609375 \nQ 42.625 51.21875 45.40625 46.390625 \nL 45.40625 54.6875 \nL 54.390625 54.6875 \nz\n\" id=\"DejaVuSans-103\"/>\n     <path d=\"M 64.40625 67.28125 \nL 64.40625 56.890625 \nQ 59.421875 61.53125 53.78125 63.8125 \nQ 48.140625 66.109375 41.796875 66.109375 \nQ 29.296875 66.109375 22.65625 58.46875 \nQ 16.015625 50.828125 16.015625 36.375 \nQ 16.015625 21.96875 22.65625 14.328125 \nQ 29.296875 6.6875 41.796875 6.6875 \nQ 48.140625 6.6875 53.78125 8.984375 \nQ 59.421875 11.28125 64.40625 15.921875 \nL 64.40625 5.609375 \nQ 59.234375 2.09375 53.4375 0.328125 \nQ 47.65625 -1.421875 41.21875 -1.421875 \nQ 24.65625 -1.421875 15.125 8.703125 \nQ 5.609375 18.84375 5.609375 36.375 \nQ 5.609375 53.953125 15.125 64.078125 \nQ 24.65625 74.21875 41.21875 74.21875 \nQ 47.75 74.21875 53.53125 72.484375 \nQ 59.328125 70.75 64.40625 67.28125 \nz\n\" id=\"DejaVuSans-67\"/>\n     <path d=\"M 54.890625 33.015625 \nL 54.890625 0 \nL 45.90625 0 \nL 45.90625 32.71875 \nQ 45.90625 40.484375 42.875 44.328125 \nQ 39.84375 48.1875 33.796875 48.1875 \nQ 26.515625 48.1875 22.3125 43.546875 \nQ 18.109375 38.921875 18.109375 30.90625 \nL 18.109375 0 \nL 9.078125 0 \nL 9.078125 75.984375 \nL 18.109375 75.984375 \nL 18.109375 46.1875 \nQ 21.34375 51.125 25.703125 53.5625 \nQ 30.078125 56 35.796875 56 \nQ 45.21875 56 50.046875 50.171875 \nQ 54.890625 44.34375 54.890625 33.015625 \nz\n\" id=\"DejaVuSans-104\"/>\n     <path d=\"M 31 75.875 \nQ 24.46875 64.65625 21.28125 53.65625 \nQ 18.109375 42.671875 18.109375 31.390625 \nQ 18.109375 20.125 21.3125 9.0625 \nQ 24.515625 -2 31 -13.1875 \nL 23.1875 -13.1875 \nQ 15.875 -1.703125 12.234375 9.375 \nQ 8.59375 20.453125 8.59375 31.390625 \nQ 8.59375 42.28125 12.203125 53.3125 \nQ 15.828125 64.359375 23.1875 75.875 \nz\n\" id=\"DejaVuSans-40\"/>\n     <path d=\"M 8.015625 75.875 \nL 15.828125 75.875 \nQ 23.140625 64.359375 26.78125 53.3125 \nQ 30.421875 42.28125 30.421875 31.390625 \nQ 30.421875 20.453125 26.78125 9.375 \nQ 23.140625 -1.703125 15.828125 -13.1875 \nL 8.015625 -13.1875 \nQ 14.5 -2 17.703125 9.0625 \nQ 20.90625 20.125 20.90625 31.390625 \nQ 20.90625 42.671875 17.703125 53.65625 \nQ 14.5 64.65625 8.015625 75.875 \nz\n\" id=\"DejaVuSans-41\"/>\n    </defs>\n    <g transform=\"translate(70.39875 16.318125)scale(0.12 -0.12)\">\n     <use xlink:href=\"#DejaVuSans-82\"/>\n     <use x=\"64.982422\" xlink:href=\"#DejaVuSans-101\"/>\n     <use x=\"126.505859\" xlink:href=\"#DejaVuSans-99\"/>\n     <use x=\"181.486328\" xlink:href=\"#DejaVuSans-101\"/>\n     <use x=\"243.009766\" xlink:href=\"#DejaVuSans-105\"/>\n     <use x=\"270.792969\" xlink:href=\"#DejaVuSans-118\"/>\n     <use x=\"329.972656\" xlink:href=\"#DejaVuSans-101\"/>\n     <use x=\"391.496094\" xlink:href=\"#DejaVuSans-114\"/>\n     <use x=\"432.609375\" xlink:href=\"#DejaVuSans-32\"/>\n     <use x=\"464.396484\" xlink:href=\"#DejaVuSans-79\"/>\n     <use x=\"543.107422\" xlink:href=\"#DejaVuSans-112\"/>\n     <use x=\"606.583984\" xlink:href=\"#DejaVuSans-101\"/>\n     <use x=\"668.107422\" xlink:href=\"#DejaVuSans-114\"/>\n     <use x=\"709.220703\" xlink:href=\"#DejaVuSans-97\"/>\n     <use x=\"770.5\" xlink:href=\"#DejaVuSans-116\"/>\n     <use x=\"809.708984\" xlink:href=\"#DejaVuSans-105\"/>\n     <use x=\"837.492188\" xlink:href=\"#DejaVuSans-110\"/>\n     <use x=\"900.871094\" xlink:href=\"#DejaVuSans-103\"/>\n     <use x=\"964.347656\" xlink:href=\"#DejaVuSans-32\"/>\n     <use x=\"996.134766\" xlink:href=\"#DejaVuSans-67\"/>\n     <use x=\"1065.958984\" xlink:href=\"#DejaVuSans-104\"/>\n     <use x=\"1129.337891\" xlink:href=\"#DejaVuSans-97\"/>\n     <use x=\"1190.617188\" xlink:href=\"#DejaVuSans-114\"/>\n     <use x=\"1231.730469\" xlink:href=\"#DejaVuSans-97\"/>\n     <use x=\"1293.009766\" xlink:href=\"#DejaVuSans-99\"/>\n     <use x=\"1347.990234\" xlink:href=\"#DejaVuSans-116\"/>\n     <use x=\"1387.199219\" xlink:href=\"#DejaVuSans-101\"/>\n     <use x=\"1448.722656\" xlink:href=\"#DejaVuSans-114\"/>\n     <use x=\"1489.835938\" xlink:href=\"#DejaVuSans-105\"/>\n     <use x=\"1517.619141\" xlink:href=\"#DejaVuSans-115\"/>\n     <use x=\"1569.71875\" xlink:href=\"#DejaVuSans-116\"/>\n     <use x=\"1608.927734\" xlink:href=\"#DejaVuSans-105\"/>\n     <use x=\"1636.710938\" xlink:href=\"#DejaVuSans-99\"/>\n     <use x=\"1691.691406\" xlink:href=\"#DejaVuSans-32\"/>\n     <use x=\"1723.478516\" xlink:href=\"#DejaVuSans-40\"/>\n     <use x=\"1762.492188\" xlink:href=\"#DejaVuSans-82\"/>\n     <use x=\"1831.974609\" xlink:href=\"#DejaVuSans-79\"/>\n     <use x=\"1910.685547\" xlink:href=\"#DejaVuSans-67\"/>\n     <use x=\"1980.509766\" xlink:href=\"#DejaVuSans-41\"/>\n     <use x=\"2019.523438\" xlink:href=\"#DejaVuSans-32\"/>\n     <use x=\"2051.310547\" xlink:href=\"#DejaVuSans-67\"/>\n     <use x=\"2121.134766\" xlink:href=\"#DejaVuSans-117\"/>\n     <use x=\"2184.513672\" xlink:href=\"#DejaVuSans-114\"/>\n     <use x=\"2225.626953\" xlink:href=\"#DejaVuSans-118\"/>\n     <use x=\"2284.806641\" xlink:href=\"#DejaVuSans-101\"/>\n    </g>\n   </g>\n   <g id=\"legend_1\">\n    <g id=\"patch_7\">\n     <path d=\"M 50.78125 44.99625 \nL 104.584375 44.99625 \nQ 106.584375 44.99625 106.584375 42.99625 \nL 106.584375 29.318125 \nQ 106.584375 27.318125 104.584375 27.318125 \nL 50.78125 27.318125 \nQ 48.78125 27.318125 48.78125 29.318125 \nL 48.78125 42.99625 \nQ 48.78125 44.99625 50.78125 44.99625 \nz\n\" style=\"fill:#ffffff;opacity:0.8;stroke:#cccccc;stroke-linejoin:miter;\"/>\n    </g>\n    <g id=\"line2d_15\">\n     <path d=\"M 52.78125 35.416562 \nL 72.78125 35.416562 \n\" style=\"fill:none;stroke:#ffa500;stroke-linecap:square;stroke-width:1.5;\"/>\n    </g>\n    <g id=\"line2d_16\"/>\n    <g id=\"text_16\">\n     <!-- ROC -->\n     <g transform=\"translate(80.78125 38.916562)scale(0.1 -0.1)\">\n      <use xlink:href=\"#DejaVuSans-82\"/>\n      <use x=\"69.482422\" xlink:href=\"#DejaVuSans-79\"/>\n      <use x=\"148.193359\" xlink:href=\"#DejaVuSans-67\"/>\n     </g>\n    </g>\n   </g>\n  </g>\n </g>\n <defs>\n  <clipPath id=\"p0feb09c3f1\">\n   <rect height=\"326.16\" width=\"334.8\" x=\"43.78125\" y=\"22.318125\"/>\n  </clipPath>\n </defs>\n</svg>\n",
      "image/png": "[encoded data removed]"
     },
     "metadata": {
      "needs_background": "light"
     }
    }
   ],
   "source": [
    "predictionProbabilities = lstm_model.predict(test_sequences_matrix) # Get the prediction probabilities (scores)\n",
    "\n",
    "fpr, tpr, thresholds = roc_curve(Y_test, predictionProbabilities, pos_label = 1) # Calculate FPR and TPR\n",
    "\n",
    "lr_auc = roc_auc_score(Y_test, predictionProbabilities) # Calculate AUC score\n",
    "plt.rcParams['figure.figsize'] = (5, 5) # Determine the size of the plot\n",
    "custom_plot_roc_curve(fpr, tpr, lr_auc) # Display ROC plot"
   ]
  },
  {
   "cell_type": "code",
   "execution_count": 26,
   "metadata": {},
   "outputs": [],
   "source": [
    "from keras.models import load_model\n",
    "\n",
    "lstm_model.save('model/drug_ex_model.h5')  # creates a HDF5 file 'my_model.h5'\n",
    "\n",
    "# # Load the model:\n",
    "# lstm_model = load_model('model/drug_ex_model.h5')"
   ]
  },
  {
   "cell_type": "markdown",
   "metadata": {},
   "source": [
    "## 5. Apply the Classifier and Submit to Kaggle"
   ]
  },
  {
   "cell_type": "markdown",
   "metadata": {},
   "source": [
    "Read the data file:"
   ]
  },
  {
   "cell_type": "code",
   "execution_count": 27,
   "metadata": {},
   "outputs": [
    {
     "output_type": "execute_result",
     "data": {
      "text/plain": [
       "   Id                                               text\n",
       "0   1  osteoporosis Took the once a week 35 mg First ...\n",
       "1   2  osteoporosis 12 hours after first dose, experi...\n",
       "2   3  ADHD i am going crazy i dont sleep and if i do...\n",
       "3   4  treatment resistant depression none i ll admit...\n",
       "4   5  Because I felt like it my heartbeat was a litt..."
      ],
      "text/html": "<div>\n<style scoped>\n    .dataframe tbody tr th:only-of-type {\n        vertical-align: middle;\n    }\n\n    .dataframe tbody tr th {\n        vertical-align: top;\n    }\n\n    .dataframe thead th {\n        text-align: right;\n    }\n</style>\n<table border=\"1\" class=\"dataframe\">\n  <thead>\n    <tr style=\"text-align: right;\">\n      <th></th>\n      <th>Id</th>\n      <th>text</th>\n    </tr>\n  </thead>\n  <tbody>\n    <tr>\n      <th>0</th>\n      <td>1</td>\n      <td>osteoporosis Took the once a week 35 mg First ...</td>\n    </tr>\n    <tr>\n      <th>1</th>\n      <td>2</td>\n      <td>osteoporosis 12 hours after first dose, experi...</td>\n    </tr>\n    <tr>\n      <th>2</th>\n      <td>3</td>\n      <td>ADHD i am going crazy i dont sleep and if i do...</td>\n    </tr>\n    <tr>\n      <th>3</th>\n      <td>4</td>\n      <td>treatment resistant depression none i ll admit...</td>\n    </tr>\n    <tr>\n      <th>4</th>\n      <td>5</td>\n      <td>Because I felt like it my heartbeat was a litt...</td>\n    </tr>\n  </tbody>\n</table>\n</div>"
     },
     "metadata": {},
     "execution_count": 27
    }
   ],
   "source": [
    "kaggle_test = pd.read_csv(\"data/test_DrugExp.csv\", sep = \"|\")\n",
    "kaggle_test.head()"
   ]
  },
  {
   "cell_type": "markdown",
   "metadata": {},
   "source": [
    "Pre-process the data the same way we did in model building phase:"
   ]
  },
  {
   "cell_type": "code",
   "execution_count": 28,
   "metadata": {},
   "outputs": [
    {
     "output_type": "stream",
     "name": "stderr",
     "text": [
      "/home/greermp/.local/lib/python3.8/site-packages/tqdm/std.py:702: FutureWarning: The Panel class is removed from pandas. Accessing it from the top-level namespace will also be removed in the next version\n",
      "  from pandas import Panel\n",
      "100%|██████████| 2380/2380 [00:27<00:00, 86.10it/s]\n"
     ]
    }
   ],
   "source": [
    "tqdm.pandas()\n",
    "kaggle_test['text'] = kaggle_test.text.progress_apply(lambda text: \n",
    "                                          \" \".join(token.lemma_ for token in nlp(text) \n",
    "                                                   if not token.is_stop and token.is_alpha))"
   ]
  },
  {
   "cell_type": "markdown",
   "metadata": {},
   "source": [
    "Apply the GBM model and export it:"
   ]
  },
  {
   "cell_type": "code",
   "execution_count": 30,
   "metadata": {},
   "outputs": [],
   "source": [
    "x = vectorizer.transform(kaggle_test.text)\n",
    "\n",
    "predictionProbabilities = gbClassifier.predict_proba(x) \n",
    "kaggle_test['Expected'] = predictionProbabilities[:,1]\n",
    "\n",
    "to_kaggle = kaggle_test[['Id','Expected']]\n",
    "\n",
    "to_kaggle.to_csv('result/to_Kaggle_gb_model.csv', index=False)"
   ]
  },
  {
   "cell_type": "markdown",
   "metadata": {},
   "source": [
    "Apply the LSTM model and export it:"
   ]
  },
  {
   "cell_type": "code",
   "execution_count": 31,
   "metadata": {},
   "outputs": [],
   "source": [
    "test_sequences = tok.texts_to_sequences(kaggle_test.text)\n",
    "test_sequences_matrix = sequence.pad_sequences(test_sequences,maxlen=max_len)\n",
    "\n",
    "kaggle_test['Expected'] = lstm_model.predict(test_sequences_matrix)\n",
    "to_kaggle = kaggle_test[['Id','Expected']]\n",
    "\n",
    "to_kaggle.to_csv('result/to_Kaggle_lstm_model.csv', index=False)"
   ]
  },
  {
   "cell_type": "markdown",
   "metadata": {},
   "source": [
    "Submit the file to https://www.kaggle.com/t/25177e2258c2412cae4924fa4a8777e8 "
   ]
  },
  {
   "cell_type": "code",
   "execution_count": null,
   "metadata": {},
   "outputs": [],
   "source": []
  }
 ],
 "metadata": {
  "kernelspec": {
   "display_name": "Python 3",
   "language": "python",
   "name": "python3"
  }
 },
 "nbformat": 4,
 "nbformat_minor": 4
}